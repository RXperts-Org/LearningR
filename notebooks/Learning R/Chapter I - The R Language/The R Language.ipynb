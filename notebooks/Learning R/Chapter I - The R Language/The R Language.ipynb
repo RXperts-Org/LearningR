{
 "cells": [
  {
   "cell_type": "markdown",
   "metadata": {},
   "source": [
    "# Learning R\n",
    "\n",
    "## Chapter 2"
   ]
  },
  {
   "cell_type": "markdown",
   "metadata": {},
   "source": [
    "# Mathematical Operations and Vectors"
   ]
  },
  {
   "cell_type": "code",
   "execution_count": 1,
   "metadata": {
    "collapsed": false
   },
   "outputs": [
    {
     "data": {
      "text/html": [
       "<ol class=list-inline>\n",
       "\t<li>7</li>\n",
       "\t<li>9</li>\n",
       "\t<li>11</li>\n",
       "\t<li>13</li>\n",
       "\t<li>15</li>\n",
       "</ol>\n"
      ],
      "text/latex": [
       "\\begin{enumerate*}\n",
       "\\item 7\n",
       "\\item 9\n",
       "\\item 11\n",
       "\\item 13\n",
       "\\item 15\n",
       "\\end{enumerate*}\n"
      ],
      "text/markdown": [
       "1. 7\n",
       "2. 9\n",
       "3. 11\n",
       "4. 13\n",
       "5. 15\n",
       "\n",
       "\n"
      ],
      "text/plain": [
       "[1]  7  9 11 13 15"
      ]
     },
     "metadata": {},
     "output_type": "display_data"
    }
   ],
   "source": [
    "1:5 + 6:10"
   ]
  },
  {
   "cell_type": "code",
   "execution_count": 2,
   "metadata": {
    "collapsed": false
   },
   "outputs": [
    {
     "data": {
      "text/html": [
       "<ol class=list-inline>\n",
       "\t<li>1</li>\n",
       "\t<li>4</li>\n",
       "\t<li>9</li>\n",
       "\t<li>16</li>\n",
       "\t<li>25</li>\n",
       "</ol>\n"
      ],
      "text/latex": [
       "\\begin{enumerate*}\n",
       "\\item 1\n",
       "\\item 4\n",
       "\\item 9\n",
       "\\item 16\n",
       "\\item 25\n",
       "\\end{enumerate*}\n"
      ],
      "text/markdown": [
       "1. 1\n",
       "2. 4\n",
       "3. 9\n",
       "4. 16\n",
       "5. 25\n",
       "\n",
       "\n"
      ],
      "text/plain": [
       "[1]  1  4  9 16 25"
      ]
     },
     "metadata": {},
     "output_type": "display_data"
    }
   ],
   "source": [
    "c(1, 3, 6, 10, 15) + c(0, 1, 3, 6, 10)"
   ]
  },
  {
   "cell_type": "code",
   "execution_count": 3,
   "metadata": {
    "collapsed": false
   },
   "outputs": [
    {
     "data": {
      "text/html": [
       "15"
      ],
      "text/latex": [
       "15"
      ],
      "text/markdown": [
       "15"
      ],
      "text/plain": [
       "[1] 15"
      ]
     },
     "metadata": {},
     "output_type": "display_data"
    }
   ],
   "source": [
    "sum(1:5)"
   ]
  },
  {
   "cell_type": "code",
   "execution_count": 4,
   "metadata": {
    "collapsed": false
   },
   "outputs": [
    {
     "data": {
      "text/html": [
       "3"
      ],
      "text/latex": [
       "3"
      ],
      "text/markdown": [
       "3"
      ],
      "text/plain": [
       "[1] 3"
      ]
     },
     "metadata": {},
     "output_type": "display_data"
    }
   ],
   "source": [
    "median(1:5)"
   ]
  },
  {
   "cell_type": "code",
   "execution_count": 5,
   "metadata": {
    "collapsed": false
   },
   "outputs": [
    {
     "data": {
      "text/html": [
       "15"
      ],
      "text/latex": [
       "15"
      ],
      "text/markdown": [
       "15"
      ],
      "text/plain": [
       "[1] 15"
      ]
     },
     "metadata": {},
     "output_type": "display_data"
    }
   ],
   "source": [
    "sum(1, 2, 3, 4, 5)"
   ]
  },
  {
   "cell_type": "code",
   "execution_count": 6,
   "metadata": {
    "collapsed": false
   },
   "outputs": [
    {
     "ename": "ERROR",
     "evalue": "Error in median(1, 2, 3, 4, 5): unused arguments (3, 4, 5)\n",
     "output_type": "error",
     "traceback": [
      "Error in median(1, 2, 3, 4, 5): unused arguments (3, 4, 5)\nTraceback:\n",
      "1. median(1, 2, 3, 4, 5)"
     ]
    }
   ],
   "source": [
    "median(1, 2, 3, 4, 5)"
   ]
  },
  {
   "cell_type": "code",
   "execution_count": 7,
   "metadata": {
    "collapsed": false
   },
   "outputs": [
    {
     "data": {
      "text/html": [
       "<ol class=list-inline>\n",
       "\t<li>0</li>\n",
       "\t<li>1</li>\n",
       "\t<li>3</li>\n",
       "\t<li>5</li>\n",
       "\t<li>9</li>\n",
       "\t<li>11</li>\n",
       "</ol>\n"
      ],
      "text/latex": [
       "\\begin{enumerate*}\n",
       "\\item 0\n",
       "\\item 1\n",
       "\\item 3\n",
       "\\item 5\n",
       "\\item 9\n",
       "\\item 11\n",
       "\\end{enumerate*}\n"
      ],
      "text/markdown": [
       "1. 0\n",
       "2. 1\n",
       "3. 3\n",
       "4. 5\n",
       "5. 9\n",
       "6. 11\n",
       "\n",
       "\n"
      ],
      "text/plain": [
       "[1]  0  1  3  5  9 11"
      ]
     },
     "metadata": {},
     "output_type": "display_data"
    }
   ],
   "source": [
    "c(2, 3, 5, 7, 11, 13) - 2"
   ]
  },
  {
   "cell_type": "code",
   "execution_count": 8,
   "metadata": {
    "collapsed": false
   },
   "outputs": [
    {
     "data": {
      "text/html": [
       "<ol class=list-inline>\n",
       "\t<li>4</li>\n",
       "\t<li>1</li>\n",
       "\t<li>0</li>\n",
       "\t<li>1</li>\n",
       "\t<li>4</li>\n",
       "</ol>\n"
      ],
      "text/latex": [
       "\\begin{enumerate*}\n",
       "\\item 4\n",
       "\\item 1\n",
       "\\item 0\n",
       "\\item 1\n",
       "\\item 4\n",
       "\\end{enumerate*}\n"
      ],
      "text/markdown": [
       "1. 4\n",
       "2. 1\n",
       "3. 0\n",
       "4. 1\n",
       "5. 4\n",
       "\n",
       "\n"
      ],
      "text/plain": [
       "[1] 4 1 0 1 4"
      ]
     },
     "metadata": {},
     "output_type": "display_data"
    }
   ],
   "source": [
    "-2:2 * -2:2"
   ]
  },
  {
   "cell_type": "code",
   "execution_count": 9,
   "metadata": {
    "collapsed": false
   },
   "outputs": [
    {
     "data": {
      "text/html": [
       "TRUE"
      ],
      "text/latex": [
       "TRUE"
      ],
      "text/markdown": [
       "TRUE"
      ],
      "text/plain": [
       "[1] TRUE"
      ]
     },
     "metadata": {},
     "output_type": "display_data"
    }
   ],
   "source": [
    "identical(2^3, 2**3)"
   ]
  },
  {
   "cell_type": "code",
   "execution_count": 10,
   "metadata": {
    "collapsed": false
   },
   "outputs": [
    {
     "data": {
      "text/html": [
       "<ol class=list-inline>\n",
       "\t<li>0.333333333333333</li>\n",
       "\t<li>0.666666666666667</li>\n",
       "\t<li>1</li>\n",
       "\t<li>1.33333333333333</li>\n",
       "\t<li>1.66666666666667</li>\n",
       "\t<li>2</li>\n",
       "\t<li>2.33333333333333</li>\n",
       "\t<li>2.66666666666667</li>\n",
       "\t<li>3</li>\n",
       "\t<li>3.33333333333333</li>\n",
       "</ol>\n"
      ],
      "text/latex": [
       "\\begin{enumerate*}\n",
       "\\item 0.333333333333333\n",
       "\\item 0.666666666666667\n",
       "\\item 1\n",
       "\\item 1.33333333333333\n",
       "\\item 1.66666666666667\n",
       "\\item 2\n",
       "\\item 2.33333333333333\n",
       "\\item 2.66666666666667\n",
       "\\item 3\n",
       "\\item 3.33333333333333\n",
       "\\end{enumerate*}\n"
      ],
      "text/markdown": [
       "1. 0.333333333333333\n",
       "2. 0.666666666666667\n",
       "3. 1\n",
       "4. 1.33333333333333\n",
       "5. 1.66666666666667\n",
       "6. 2\n",
       "7. 2.33333333333333\n",
       "8. 2.66666666666667\n",
       "9. 3\n",
       "10. 3.33333333333333\n",
       "\n",
       "\n"
      ],
      "text/plain": [
       " [1] 0.3333333 0.6666667 1.0000000 1.3333333 1.6666667 2.0000000 2.3333333\n",
       " [8] 2.6666667 3.0000000 3.3333333"
      ]
     },
     "metadata": {},
     "output_type": "display_data"
    }
   ],
   "source": [
    "1:10 / 3"
   ]
  },
  {
   "cell_type": "code",
   "execution_count": 12,
   "metadata": {
    "collapsed": false
   },
   "outputs": [
    {
     "data": {
      "text/html": [
       "<ol class=list-inline>\n",
       "\t<li>0</li>\n",
       "\t<li>0</li>\n",
       "\t<li>1</li>\n",
       "\t<li>1</li>\n",
       "\t<li>1</li>\n",
       "\t<li>2</li>\n",
       "\t<li>2</li>\n",
       "\t<li>2</li>\n",
       "\t<li>3</li>\n",
       "\t<li>3</li>\n",
       "</ol>\n"
      ],
      "text/latex": [
       "\\begin{enumerate*}\n",
       "\\item 0\n",
       "\\item 0\n",
       "\\item 1\n",
       "\\item 1\n",
       "\\item 1\n",
       "\\item 2\n",
       "\\item 2\n",
       "\\item 2\n",
       "\\item 3\n",
       "\\item 3\n",
       "\\end{enumerate*}\n"
      ],
      "text/markdown": [
       "1. 0\n",
       "2. 0\n",
       "3. 1\n",
       "4. 1\n",
       "5. 1\n",
       "6. 2\n",
       "7. 2\n",
       "8. 2\n",
       "9. 3\n",
       "10. 3\n",
       "\n",
       "\n"
      ],
      "text/plain": [
       " [1] 0 0 1 1 1 2 2 2 3 3"
      ]
     },
     "metadata": {},
     "output_type": "display_data"
    }
   ],
   "source": [
    "# Integer division\n",
    "1:10 %/% 3"
   ]
  },
  {
   "cell_type": "code",
   "execution_count": 13,
   "metadata": {
    "collapsed": false
   },
   "outputs": [
    {
     "data": {
      "text/html": [
       "<ol class=list-inline>\n",
       "\t<li>1</li>\n",
       "\t<li>2</li>\n",
       "\t<li>0</li>\n",
       "\t<li>1</li>\n",
       "\t<li>2</li>\n",
       "\t<li>0</li>\n",
       "\t<li>1</li>\n",
       "\t<li>2</li>\n",
       "\t<li>0</li>\n",
       "\t<li>1</li>\n",
       "</ol>\n"
      ],
      "text/latex": [
       "\\begin{enumerate*}\n",
       "\\item 1\n",
       "\\item 2\n",
       "\\item 0\n",
       "\\item 1\n",
       "\\item 2\n",
       "\\item 0\n",
       "\\item 1\n",
       "\\item 2\n",
       "\\item 0\n",
       "\\item 1\n",
       "\\end{enumerate*}\n"
      ],
      "text/markdown": [
       "1. 1\n",
       "2. 2\n",
       "3. 0\n",
       "4. 1\n",
       "5. 2\n",
       "6. 0\n",
       "7. 1\n",
       "8. 2\n",
       "9. 0\n",
       "10. 1\n",
       "\n",
       "\n"
      ],
      "text/plain": [
       " [1] 1 2 0 1 2 0 1 2 0 1"
      ]
     },
     "metadata": {},
     "output_type": "display_data"
    }
   ],
   "source": [
    "# Remainder after division\n",
    "1:10 %% 3"
   ]
  },
  {
   "cell_type": "code",
   "execution_count": 14,
   "metadata": {
    "collapsed": false
   },
   "outputs": [
    {
     "data": {
      "text/html": [
       "<ol class=list-inline>\n",
       "\t<li>1</li>\n",
       "\t<li>0.707106781186548</li>\n",
       "\t<li>6.12303176911189e-17</li>\n",
       "\t<li>-1</li>\n",
       "</ol>\n"
      ],
      "text/latex": [
       "\\begin{enumerate*}\n",
       "\\item 1\n",
       "\\item 0.707106781186548\n",
       "\\item 6.12303176911189e-17\n",
       "\\item -1\n",
       "\\end{enumerate*}\n"
      ],
      "text/markdown": [
       "1. 1\n",
       "2. 0.707106781186548\n",
       "3. 6.12303176911189e-17\n",
       "4. -1\n",
       "\n",
       "\n"
      ],
      "text/plain": [
       "[1]  1.000000e+00  7.071068e-01  6.123032e-17 -1.000000e+00"
      ]
     },
     "metadata": {},
     "output_type": "display_data"
    }
   ],
   "source": [
    "# Pi as a built in constant\n",
    "cos(c(0, pi/4, pi/2, pi))"
   ]
  },
  {
   "cell_type": "code",
   "execution_count": 15,
   "metadata": {
    "collapsed": false
   },
   "outputs": [
    {
     "data": {
      "text/html": [
       "0+1.22460635382238e-16i"
      ],
      "text/latex": [
       "0+1.22460635382238e-16i"
      ],
      "text/markdown": [
       "0+1.22460635382238e-16i"
      ],
      "text/plain": [
       "[1] 0+1.224606e-16i"
      ]
     },
     "metadata": {},
     "output_type": "display_data"
    }
   ],
   "source": [
    "# Euler's formula\n",
    "exp(pi * 1i) + 1"
   ]
  },
  {
   "cell_type": "code",
   "execution_count": 16,
   "metadata": {
    "collapsed": false
   },
   "outputs": [
    {
     "data": {
      "text/html": [
       "0"
      ],
      "text/latex": [
       "0"
      ],
      "text/markdown": [
       "0"
      ],
      "text/plain": [
       "[1] 0"
      ]
     },
     "metadata": {},
     "output_type": "display_data"
    }
   ],
   "source": [
    "factorial(7) + factorial(1) - 71 ^ 2"
   ]
  },
  {
   "cell_type": "code",
   "execution_count": 19,
   "metadata": {
    "collapsed": false
   },
   "outputs": [
    {
     "data": {
      "text/html": [
       "<ol class=list-inline>\n",
       "\t<li>1</li>\n",
       "\t<li>5</li>\n",
       "\t<li>10</li>\n",
       "\t<li>10</li>\n",
       "\t<li>5</li>\n",
       "\t<li>1</li>\n",
       "</ol>\n"
      ],
      "text/latex": [
       "\\begin{enumerate*}\n",
       "\\item 1\n",
       "\\item 5\n",
       "\\item 10\n",
       "\\item 10\n",
       "\\item 5\n",
       "\\item 1\n",
       "\\end{enumerate*}\n"
      ],
      "text/markdown": [
       "1. 1\n",
       "2. 5\n",
       "3. 10\n",
       "4. 10\n",
       "5. 5\n",
       "6. 1\n",
       "\n",
       "\n"
      ],
      "text/plain": [
       "[1]  1  5 10 10  5  1"
      ]
     },
     "metadata": {},
     "output_type": "display_data"
    }
   ],
   "source": [
    "choose(5, 0:5)"
   ]
  },
  {
   "cell_type": "code",
   "execution_count": 20,
   "metadata": {
    "collapsed": false
   },
   "outputs": [
    {
     "data": {
      "text/html": [
       "FALSE"
      ],
      "text/latex": [
       "FALSE"
      ],
      "text/markdown": [
       "FALSE"
      ],
      "text/plain": [
       "[1] FALSE"
      ]
     },
     "metadata": {},
     "output_type": "display_data"
    }
   ],
   "source": [
    "sqrt(2) ^ 2 == 2"
   ]
  },
  {
   "cell_type": "code",
   "execution_count": 21,
   "metadata": {
    "collapsed": false
   },
   "outputs": [
    {
     "data": {
      "text/html": [
       "4.44089209850063e-16"
      ],
      "text/latex": [
       "4.44089209850063e-16"
      ],
      "text/markdown": [
       "4.44089209850063e-16"
      ],
      "text/plain": [
       "[1] 4.440892e-16"
      ]
     },
     "metadata": {},
     "output_type": "display_data"
    }
   ],
   "source": [
    "sqrt(2) ^ 2 - 2"
   ]
  },
  {
   "cell_type": "code",
   "execution_count": 22,
   "metadata": {
    "collapsed": false
   },
   "outputs": [
    {
     "data": {
      "text/html": [
       "TRUE"
      ],
      "text/latex": [
       "TRUE"
      ],
      "text/markdown": [
       "TRUE"
      ],
      "text/plain": [
       "[1] TRUE"
      ]
     },
     "metadata": {},
     "output_type": "display_data"
    }
   ],
   "source": [
    "all.equal(sqrt(2) ^ 2, 2)"
   ]
  },
  {
   "cell_type": "code",
   "execution_count": 23,
   "metadata": {
    "collapsed": false
   },
   "outputs": [
    {
     "data": {
      "text/html": [
       "'Mean relative difference: 0.5'"
      ],
      "text/latex": [
       "'Mean relative difference: 0.5'"
      ],
      "text/markdown": [
       "'Mean relative difference: 0.5'"
      ],
      "text/plain": [
       "[1] \"Mean relative difference: 0.5\""
      ]
     },
     "metadata": {},
     "output_type": "display_data"
    }
   ],
   "source": [
    "all.equal(sqrt(2) ^ 2, 3)"
   ]
  },
  {
   "cell_type": "code",
   "execution_count": 24,
   "metadata": {
    "collapsed": false
   },
   "outputs": [
    {
     "data": {
      "text/html": [
       "FALSE"
      ],
      "text/latex": [
       "FALSE"
      ],
      "text/markdown": [
       "FALSE"
      ],
      "text/plain": [
       "[1] FALSE"
      ]
     },
     "metadata": {},
     "output_type": "display_data"
    }
   ],
   "source": [
    "isTRUE(all.equal(sqrt(2)^2, 3))"
   ]
  },
  {
   "cell_type": "code",
   "execution_count": 25,
   "metadata": {
    "collapsed": false
   },
   "outputs": [
    {
     "data": {
      "text/html": [
       "<ol class=list-inline>\n",
       "\t<li>FALSE</li>\n",
       "\t<li>FALSE</li>\n",
       "\t<li>TRUE</li>\n",
       "\t<li>FALSE</li>\n",
       "\t<li>FALSE</li>\n",
       "</ol>\n"
      ],
      "text/latex": [
       "\\begin{enumerate*}\n",
       "\\item FALSE\n",
       "\\item FALSE\n",
       "\\item TRUE\n",
       "\\item FALSE\n",
       "\\item FALSE\n",
       "\\end{enumerate*}\n"
      ],
      "text/markdown": [
       "1. FALSE\n",
       "2. FALSE\n",
       "3. TRUE\n",
       "4. FALSE\n",
       "5. FALSE\n",
       "\n",
       "\n"
      ],
      "text/plain": [
       "[1] FALSE FALSE  TRUE FALSE FALSE"
      ]
     },
     "metadata": {},
     "output_type": "display_data"
    }
   ],
   "source": [
    "c(\n",
    "    \"Can\",\n",
    "    \"you\",\n",
    "    \"can\",\n",
    "    \"a\",\n",
    "    \"as\"\n",
    ") == \"can\""
   ]
  },
  {
   "cell_type": "code",
   "execution_count": 26,
   "metadata": {
    "collapsed": false
   },
   "outputs": [
    {
     "data": {
      "text/html": [
       "<ol class=list-inline>\n",
       "\t<li>TRUE</li>\n",
       "\t<li>TRUE</li>\n",
       "\t<li>FALSE</li>\n",
       "\t<li>FALSE</li>\n",
       "</ol>\n"
      ],
      "text/latex": [
       "\\begin{enumerate*}\n",
       "\\item TRUE\n",
       "\\item TRUE\n",
       "\\item FALSE\n",
       "\\item FALSE\n",
       "\\end{enumerate*}\n"
      ],
      "text/markdown": [
       "1. TRUE\n",
       "2. TRUE\n",
       "3. FALSE\n",
       "4. FALSE\n",
       "\n",
       "\n"
      ],
      "text/plain": [
       "[1]  TRUE  TRUE FALSE FALSE"
      ]
     },
     "metadata": {},
     "output_type": "display_data"
    }
   ],
   "source": [
    "c(\"A\", \"B\", \"C\", \"D\") < \"C\""
   ]
  },
  {
   "cell_type": "markdown",
   "metadata": {},
   "source": [
    "# Assigning Variables"
   ]
  },
  {
   "cell_type": "code",
   "execution_count": 27,
   "metadata": {
    "collapsed": true
   },
   "outputs": [],
   "source": [
    "x <- 1:5"
   ]
  },
  {
   "cell_type": "code",
   "execution_count": 28,
   "metadata": {
    "collapsed": false
   },
   "outputs": [
    {
     "data": {
      "text/html": [
       "<ol class=list-inline>\n",
       "\t<li>1</li>\n",
       "\t<li>2</li>\n",
       "\t<li>3</li>\n",
       "\t<li>4</li>\n",
       "\t<li>5</li>\n",
       "</ol>\n"
      ],
      "text/latex": [
       "\\begin{enumerate*}\n",
       "\\item 1\n",
       "\\item 2\n",
       "\\item 3\n",
       "\\item 4\n",
       "\\item 5\n",
       "\\end{enumerate*}\n"
      ],
      "text/markdown": [
       "1. 1\n",
       "2. 2\n",
       "3. 3\n",
       "4. 4\n",
       "5. 5\n",
       "\n",
       "\n"
      ],
      "text/plain": [
       "[1] 1 2 3 4 5"
      ]
     },
     "metadata": {},
     "output_type": "display_data"
    }
   ],
   "source": [
    "x"
   ]
  },
  {
   "cell_type": "code",
   "execution_count": 31,
   "metadata": {
    "collapsed": false
   },
   "outputs": [
    {
     "data": {
      "text/html": [
       "<ol class=list-inline>\n",
       "\t<li>6</li>\n",
       "\t<li>7</li>\n",
       "\t<li>8</li>\n",
       "\t<li>9</li>\n",
       "\t<li>10</li>\n",
       "</ol>\n"
      ],
      "text/latex": [
       "\\begin{enumerate*}\n",
       "\\item 6\n",
       "\\item 7\n",
       "\\item 8\n",
       "\\item 9\n",
       "\\item 10\n",
       "\\end{enumerate*}\n"
      ],
      "text/markdown": [
       "1. 6\n",
       "2. 7\n",
       "3. 8\n",
       "4. 9\n",
       "5. 10\n",
       "\n",
       "\n"
      ],
      "text/plain": [
       "[1]  6  7  8  9 10"
      ]
     },
     "metadata": {},
     "output_type": "display_data"
    }
   ],
   "source": [
    "y = 6:10\n",
    "y"
   ]
  },
  {
   "cell_type": "code",
   "execution_count": 30,
   "metadata": {
    "collapsed": false
   },
   "outputs": [
    {
     "data": {
      "text/html": [
       "<ol class=list-inline>\n",
       "\t<li>10</li>\n",
       "\t<li>13</li>\n",
       "\t<li>16</li>\n",
       "\t<li>19</li>\n",
       "\t<li>22</li>\n",
       "</ol>\n"
      ],
      "text/latex": [
       "\\begin{enumerate*}\n",
       "\\item 10\n",
       "\\item 13\n",
       "\\item 16\n",
       "\\item 19\n",
       "\\item 22\n",
       "\\end{enumerate*}\n"
      ],
      "text/markdown": [
       "1. 10\n",
       "2. 13\n",
       "3. 16\n",
       "4. 19\n",
       "5. 22\n",
       "\n",
       "\n"
      ],
      "text/plain": [
       "[1] 10 13 16 19 22"
      ]
     },
     "metadata": {},
     "output_type": "display_data"
    }
   ],
   "source": [
    "x + 2 * y - 3"
   ]
  },
  {
   "cell_type": "code",
   "execution_count": 32,
   "metadata": {
    "collapsed": true
   },
   "outputs": [],
   "source": [
    "assign(\"my_local_variable\", 9^3 + 10^3)"
   ]
  },
  {
   "cell_type": "code",
   "execution_count": 33,
   "metadata": {
    "collapsed": false
   },
   "outputs": [
    {
     "data": {
      "text/html": [
       "1729"
      ],
      "text/latex": [
       "1729"
      ],
      "text/markdown": [
       "1729"
      ],
      "text/plain": [
       "[1] 1729"
      ]
     },
     "metadata": {},
     "output_type": "display_data"
    }
   ],
   "source": [
    "my_local_variable"
   ]
  },
  {
   "cell_type": "code",
   "execution_count": 34,
   "metadata": {
    "collapsed": true
   },
   "outputs": [],
   "source": [
    "assign(\"my_global_variable\", 1^3 + 12^3, globalenv())"
   ]
  },
  {
   "cell_type": "code",
   "execution_count": 35,
   "metadata": {
    "collapsed": false
   },
   "outputs": [
    {
     "data": {
      "text/html": [
       "1729"
      ],
      "text/latex": [
       "1729"
      ],
      "text/markdown": [
       "1729"
      ],
      "text/plain": [
       "[1] 1729"
      ]
     },
     "metadata": {},
     "output_type": "display_data"
    }
   ],
   "source": [
    "my_global_variable"
   ]
  },
  {
   "cell_type": "code",
   "execution_count": 36,
   "metadata": {
    "collapsed": false
   },
   "outputs": [
    {
     "data": {
      "text/html": [
       "<ol class=list-inline>\n",
       "\t<li>-0.124592609831475</li>\n",
       "\t<li>-0.911835754858802</li>\n",
       "\t<li>-1.47393618916758</li>\n",
       "\t<li>-0.107617145961606</li>\n",
       "\t<li>0.387789946565084</li>\n",
       "</ol>\n"
      ],
      "text/latex": [
       "\\begin{enumerate*}\n",
       "\\item -0.124592609831475\n",
       "\\item -0.911835754858802\n",
       "\\item -1.47393618916758\n",
       "\\item -0.107617145961606\n",
       "\\item 0.387789946565084\n",
       "\\end{enumerate*}\n"
      ],
      "text/markdown": [
       "1. -0.124592609831475\n",
       "2. -0.911835754858802\n",
       "3. -1.47393618916758\n",
       "4. -0.107617145961606\n",
       "5. 0.387789946565084\n",
       "\n",
       "\n"
      ],
      "text/plain": [
       "[1] -0.1245926 -0.9118358 -1.4739362 -0.1076171  0.3877899"
      ]
     },
     "metadata": {},
     "output_type": "display_data"
    }
   ],
   "source": [
    "z <- rnorm(5); z"
   ]
  },
  {
   "cell_type": "code",
   "execution_count": 37,
   "metadata": {
    "collapsed": false
   },
   "outputs": [
    {
     "data": {
      "text/html": [
       "<ol class=list-inline>\n",
       "\t<li>2.31025495665351</li>\n",
       "\t<li>1.10578240759119</li>\n",
       "\t<li>0.615115965759465</li>\n",
       "\t<li>0.112046850669112</li>\n",
       "\t<li>0.79388519567971</li>\n",
       "</ol>\n"
      ],
      "text/latex": [
       "\\begin{enumerate*}\n",
       "\\item 2.31025495665351\n",
       "\\item 1.10578240759119\n",
       "\\item 0.615115965759465\n",
       "\\item 0.112046850669112\n",
       "\\item 0.79388519567971\n",
       "\\end{enumerate*}\n"
      ],
      "text/markdown": [
       "1. 2.31025495665351\n",
       "2. 1.10578240759119\n",
       "3. 0.615115965759465\n",
       "4. 0.112046850669112\n",
       "5. 0.79388519567971\n",
       "\n",
       "\n"
      ],
      "text/plain": [
       "[1] 2.3102550 1.1057824 0.6151160 0.1120469 0.7938852"
      ]
     },
     "metadata": {},
     "output_type": "display_data"
    }
   ],
   "source": [
    "(zz <- rlnorm(5))"
   ]
  },
  {
   "cell_type": "markdown",
   "metadata": {},
   "source": [
    "# Special Numbers"
   ]
  },
  {
   "cell_type": "code",
   "execution_count": 38,
   "metadata": {
    "collapsed": false
   },
   "outputs": [
    {
     "data": {
      "text/html": [
       "<ol class=list-inline>\n",
       "\t<li>Inf</li>\n",
       "\t<li>Inf</li>\n",
       "\t<li>NaN</li>\n",
       "</ol>\n"
      ],
      "text/latex": [
       "\\begin{enumerate*}\n",
       "\\item Inf\n",
       "\\item Inf\n",
       "\\item NaN\n",
       "\\end{enumerate*}\n"
      ],
      "text/markdown": [
       "1. Inf\n",
       "2. Inf\n",
       "3. NaN\n",
       "\n",
       "\n"
      ],
      "text/plain": [
       "[1] Inf Inf NaN"
      ]
     },
     "metadata": {},
     "output_type": "display_data"
    }
   ],
   "source": [
    "c(Inf + 1, Inf - 1, Inf - Inf)"
   ]
  },
  {
   "cell_type": "code",
   "execution_count": 39,
   "metadata": {
    "collapsed": false
   },
   "outputs": [
    {
     "data": {
      "text/html": [
       "<ol class=list-inline>\n",
       "\t<li>0</li>\n",
       "\t<li>Inf</li>\n",
       "\t<li>NaN</li>\n",
       "</ol>\n"
      ],
      "text/latex": [
       "\\begin{enumerate*}\n",
       "\\item 0\n",
       "\\item Inf\n",
       "\\item NaN\n",
       "\\end{enumerate*}\n"
      ],
      "text/markdown": [
       "1. 0\n",
       "2. Inf\n",
       "3. NaN\n",
       "\n",
       "\n"
      ],
      "text/plain": [
       "[1]   0 Inf NaN"
      ]
     },
     "metadata": {},
     "output_type": "display_data"
    }
   ],
   "source": [
    "c(1 / Inf, Inf / 1, Inf / Inf)"
   ]
  },
  {
   "cell_type": "code",
   "execution_count": 41,
   "metadata": {
    "collapsed": false
   },
   "outputs": [
    {
     "name": "stderr",
     "output_type": "stream",
     "text": [
      "Warning message in sin(Inf):\n",
      "\"NaNs produced\""
     ]
    },
    {
     "data": {
      "text/html": [
       "<ol class=list-inline>\n",
       "\t<li>Inf</li>\n",
       "\t<li>NaN</li>\n",
       "</ol>\n"
      ],
      "text/latex": [
       "\\begin{enumerate*}\n",
       "\\item Inf\n",
       "\\item NaN\n",
       "\\end{enumerate*}\n"
      ],
      "text/markdown": [
       "1. Inf\n",
       "2. NaN\n",
       "\n",
       "\n"
      ],
      "text/plain": [
       "[1] Inf NaN"
      ]
     },
     "metadata": {},
     "output_type": "display_data"
    }
   ],
   "source": [
    "c(sqrt(Inf), sin(Inf))"
   ]
  },
  {
   "cell_type": "code",
   "execution_count": 42,
   "metadata": {
    "collapsed": false
   },
   "outputs": [
    {
     "name": "stderr",
     "output_type": "stream",
     "text": [
      "Warning message in eval(expr, envir, enclos):\n",
      "\"NaNs produced\""
     ]
    },
    {
     "data": {
      "text/html": [
       "<ol class=list-inline>\n",
       "\t<li>Inf</li>\n",
       "\t<li>NaN</li>\n",
       "</ol>\n"
      ],
      "text/latex": [
       "\\begin{enumerate*}\n",
       "\\item Inf\n",
       "\\item NaN\n",
       "\\end{enumerate*}\n"
      ],
      "text/markdown": [
       "1. Inf\n",
       "2. NaN\n",
       "\n",
       "\n"
      ],
      "text/plain": [
       "[1] Inf NaN"
      ]
     },
     "metadata": {},
     "output_type": "display_data"
    }
   ],
   "source": [
    "c(log(Inf), log(Inf, base = Inf))"
   ]
  },
  {
   "cell_type": "code",
   "execution_count": 43,
   "metadata": {
    "collapsed": false
   },
   "outputs": [
    {
     "data": {
      "text/html": [
       "<ol class=list-inline>\n",
       "\t<li>NA</li>\n",
       "\t<li>NA</li>\n",
       "</ol>\n"
      ],
      "text/latex": [
       "\\begin{enumerate*}\n",
       "\\item NA\n",
       "\\item NA\n",
       "\\end{enumerate*}\n"
      ],
      "text/markdown": [
       "1. NA\n",
       "2. NA\n",
       "\n",
       "\n"
      ],
      "text/plain": [
       "[1] NA NA"
      ]
     },
     "metadata": {},
     "output_type": "display_data"
    }
   ],
   "source": [
    "c(NA + 1, NA * 5)"
   ]
  },
  {
   "cell_type": "code",
   "execution_count": 44,
   "metadata": {
    "collapsed": true
   },
   "outputs": [],
   "source": [
    "x <- c(0, Inf, -Inf, NaN, NA)"
   ]
  },
  {
   "cell_type": "code",
   "execution_count": 45,
   "metadata": {
    "collapsed": false
   },
   "outputs": [
    {
     "data": {
      "text/html": [
       "<ol class=list-inline>\n",
       "\t<li>0</li>\n",
       "\t<li>Inf</li>\n",
       "\t<li>-Inf</li>\n",
       "\t<li>NaN</li>\n",
       "\t<li>NA</li>\n",
       "</ol>\n"
      ],
      "text/latex": [
       "\\begin{enumerate*}\n",
       "\\item 0\n",
       "\\item Inf\n",
       "\\item -Inf\n",
       "\\item NaN\n",
       "\\item NA\n",
       "\\end{enumerate*}\n"
      ],
      "text/markdown": [
       "1. 0\n",
       "2. Inf\n",
       "3. -Inf\n",
       "4. NaN\n",
       "5. NA\n",
       "\n",
       "\n"
      ],
      "text/plain": [
       "[1]    0  Inf -Inf  NaN   NA"
      ]
     },
     "metadata": {},
     "output_type": "display_data"
    }
   ],
   "source": [
    "x"
   ]
  },
  {
   "cell_type": "code",
   "execution_count": 46,
   "metadata": {
    "collapsed": false
   },
   "outputs": [
    {
     "data": {
      "text/html": [
       "<ol class=list-inline>\n",
       "\t<li>TRUE</li>\n",
       "\t<li>FALSE</li>\n",
       "\t<li>FALSE</li>\n",
       "\t<li>FALSE</li>\n",
       "\t<li>FALSE</li>\n",
       "</ol>\n"
      ],
      "text/latex": [
       "\\begin{enumerate*}\n",
       "\\item TRUE\n",
       "\\item FALSE\n",
       "\\item FALSE\n",
       "\\item FALSE\n",
       "\\item FALSE\n",
       "\\end{enumerate*}\n"
      ],
      "text/markdown": [
       "1. TRUE\n",
       "2. FALSE\n",
       "3. FALSE\n",
       "4. FALSE\n",
       "5. FALSE\n",
       "\n",
       "\n"
      ],
      "text/plain": [
       "[1]  TRUE FALSE FALSE FALSE FALSE"
      ]
     },
     "metadata": {},
     "output_type": "display_data"
    }
   ],
   "source": [
    "is.finite(x)"
   ]
  },
  {
   "cell_type": "code",
   "execution_count": 47,
   "metadata": {
    "collapsed": false
   },
   "outputs": [
    {
     "data": {
      "text/html": [
       "<ol class=list-inline>\n",
       "\t<li>FALSE</li>\n",
       "\t<li>TRUE</li>\n",
       "\t<li>TRUE</li>\n",
       "\t<li>FALSE</li>\n",
       "\t<li>FALSE</li>\n",
       "</ol>\n"
      ],
      "text/latex": [
       "\\begin{enumerate*}\n",
       "\\item FALSE\n",
       "\\item TRUE\n",
       "\\item TRUE\n",
       "\\item FALSE\n",
       "\\item FALSE\n",
       "\\end{enumerate*}\n"
      ],
      "text/markdown": [
       "1. FALSE\n",
       "2. TRUE\n",
       "3. TRUE\n",
       "4. FALSE\n",
       "5. FALSE\n",
       "\n",
       "\n"
      ],
      "text/plain": [
       "[1] FALSE  TRUE  TRUE FALSE FALSE"
      ]
     },
     "metadata": {},
     "output_type": "display_data"
    }
   ],
   "source": [
    "is.infinite(x)"
   ]
  },
  {
   "cell_type": "code",
   "execution_count": 48,
   "metadata": {
    "collapsed": false
   },
   "outputs": [
    {
     "data": {
      "text/html": [
       "<ol class=list-inline>\n",
       "\t<li>FALSE</li>\n",
       "\t<li>FALSE</li>\n",
       "\t<li>FALSE</li>\n",
       "\t<li>TRUE</li>\n",
       "\t<li>FALSE</li>\n",
       "</ol>\n"
      ],
      "text/latex": [
       "\\begin{enumerate*}\n",
       "\\item FALSE\n",
       "\\item FALSE\n",
       "\\item FALSE\n",
       "\\item TRUE\n",
       "\\item FALSE\n",
       "\\end{enumerate*}\n"
      ],
      "text/markdown": [
       "1. FALSE\n",
       "2. FALSE\n",
       "3. FALSE\n",
       "4. TRUE\n",
       "5. FALSE\n",
       "\n",
       "\n"
      ],
      "text/plain": [
       "[1] FALSE FALSE FALSE  TRUE FALSE"
      ]
     },
     "metadata": {},
     "output_type": "display_data"
    }
   ],
   "source": [
    "is.nan(x)"
   ]
  },
  {
   "cell_type": "code",
   "execution_count": 49,
   "metadata": {
    "collapsed": false
   },
   "outputs": [
    {
     "data": {
      "text/html": [
       "<ol class=list-inline>\n",
       "\t<li>FALSE</li>\n",
       "\t<li>FALSE</li>\n",
       "\t<li>FALSE</li>\n",
       "\t<li>TRUE</li>\n",
       "\t<li>TRUE</li>\n",
       "</ol>\n"
      ],
      "text/latex": [
       "\\begin{enumerate*}\n",
       "\\item FALSE\n",
       "\\item FALSE\n",
       "\\item FALSE\n",
       "\\item TRUE\n",
       "\\item TRUE\n",
       "\\end{enumerate*}\n"
      ],
      "text/markdown": [
       "1. FALSE\n",
       "2. FALSE\n",
       "3. FALSE\n",
       "4. TRUE\n",
       "5. TRUE\n",
       "\n",
       "\n"
      ],
      "text/plain": [
       "[1] FALSE FALSE FALSE  TRUE  TRUE"
      ]
     },
     "metadata": {},
     "output_type": "display_data"
    }
   ],
   "source": [
    "is.na(x)"
   ]
  },
  {
   "cell_type": "markdown",
   "metadata": {},
   "source": [
    "# Logical Vectors"
   ]
  },
  {
   "cell_type": "code",
   "execution_count": 50,
   "metadata": {
    "collapsed": false
   },
   "outputs": [
    {
     "data": {
      "text/html": [
       "<ol class=list-inline>\n",
       "\t<li>FALSE</li>\n",
       "\t<li>FALSE</li>\n",
       "\t<li>FALSE</li>\n",
       "\t<li>FALSE</li>\n",
       "\t<li>TRUE</li>\n",
       "\t<li>TRUE</li>\n",
       "\t<li>TRUE</li>\n",
       "\t<li>TRUE</li>\n",
       "\t<li>TRUE</li>\n",
       "\t<li>TRUE</li>\n",
       "</ol>\n"
      ],
      "text/latex": [
       "\\begin{enumerate*}\n",
       "\\item FALSE\n",
       "\\item FALSE\n",
       "\\item FALSE\n",
       "\\item FALSE\n",
       "\\item TRUE\n",
       "\\item TRUE\n",
       "\\item TRUE\n",
       "\\item TRUE\n",
       "\\item TRUE\n",
       "\\item TRUE\n",
       "\\end{enumerate*}\n"
      ],
      "text/markdown": [
       "1. FALSE\n",
       "2. FALSE\n",
       "3. FALSE\n",
       "4. FALSE\n",
       "5. TRUE\n",
       "6. TRUE\n",
       "7. TRUE\n",
       "8. TRUE\n",
       "9. TRUE\n",
       "10. TRUE\n",
       "\n",
       "\n"
      ],
      "text/plain": [
       " [1] FALSE FALSE FALSE FALSE  TRUE  TRUE  TRUE  TRUE  TRUE  TRUE"
      ]
     },
     "metadata": {},
     "output_type": "display_data"
    }
   ],
   "source": [
    "(x <- 1:10 >= 5)"
   ]
  },
  {
   "cell_type": "code",
   "execution_count": 51,
   "metadata": {
    "collapsed": false
   },
   "outputs": [
    {
     "data": {
      "text/html": [
       "<ol class=list-inline>\n",
       "\t<li>TRUE</li>\n",
       "\t<li>TRUE</li>\n",
       "\t<li>TRUE</li>\n",
       "\t<li>TRUE</li>\n",
       "\t<li>FALSE</li>\n",
       "\t<li>FALSE</li>\n",
       "\t<li>FALSE</li>\n",
       "\t<li>FALSE</li>\n",
       "\t<li>FALSE</li>\n",
       "\t<li>FALSE</li>\n",
       "</ol>\n"
      ],
      "text/latex": [
       "\\begin{enumerate*}\n",
       "\\item TRUE\n",
       "\\item TRUE\n",
       "\\item TRUE\n",
       "\\item TRUE\n",
       "\\item FALSE\n",
       "\\item FALSE\n",
       "\\item FALSE\n",
       "\\item FALSE\n",
       "\\item FALSE\n",
       "\\item FALSE\n",
       "\\end{enumerate*}\n"
      ],
      "text/markdown": [
       "1. TRUE\n",
       "2. TRUE\n",
       "3. TRUE\n",
       "4. TRUE\n",
       "5. FALSE\n",
       "6. FALSE\n",
       "7. FALSE\n",
       "8. FALSE\n",
       "9. FALSE\n",
       "10. FALSE\n",
       "\n",
       "\n"
      ],
      "text/plain": [
       " [1]  TRUE  TRUE  TRUE  TRUE FALSE FALSE FALSE FALSE FALSE FALSE"
      ]
     },
     "metadata": {},
     "output_type": "display_data"
    }
   ],
   "source": [
    "!x"
   ]
  },
  {
   "cell_type": "code",
   "execution_count": 52,
   "metadata": {
    "collapsed": false
   },
   "outputs": [
    {
     "data": {
      "text/html": [
       "<ol class=list-inline>\n",
       "\t<li>FALSE</li>\n",
       "\t<li>TRUE</li>\n",
       "\t<li>FALSE</li>\n",
       "\t<li>TRUE</li>\n",
       "\t<li>FALSE</li>\n",
       "\t<li>TRUE</li>\n",
       "\t<li>FALSE</li>\n",
       "\t<li>TRUE</li>\n",
       "\t<li>FALSE</li>\n",
       "\t<li>TRUE</li>\n",
       "</ol>\n"
      ],
      "text/latex": [
       "\\begin{enumerate*}\n",
       "\\item FALSE\n",
       "\\item TRUE\n",
       "\\item FALSE\n",
       "\\item TRUE\n",
       "\\item FALSE\n",
       "\\item TRUE\n",
       "\\item FALSE\n",
       "\\item TRUE\n",
       "\\item FALSE\n",
       "\\item TRUE\n",
       "\\end{enumerate*}\n"
      ],
      "text/markdown": [
       "1. FALSE\n",
       "2. TRUE\n",
       "3. FALSE\n",
       "4. TRUE\n",
       "5. FALSE\n",
       "6. TRUE\n",
       "7. FALSE\n",
       "8. TRUE\n",
       "9. FALSE\n",
       "10. TRUE\n",
       "\n",
       "\n"
      ],
      "text/plain": [
       " [1] FALSE  TRUE FALSE  TRUE FALSE  TRUE FALSE  TRUE FALSE  TRUE"
      ]
     },
     "metadata": {},
     "output_type": "display_data"
    }
   ],
   "source": [
    "(y <- 1:10 %% 2 == 0)"
   ]
  },
  {
   "cell_type": "code",
   "execution_count": 53,
   "metadata": {
    "collapsed": false
   },
   "outputs": [
    {
     "data": {
      "text/html": [
       "<ol class=list-inline>\n",
       "\t<li>FALSE</li>\n",
       "\t<li>FALSE</li>\n",
       "\t<li>FALSE</li>\n",
       "\t<li>FALSE</li>\n",
       "\t<li>FALSE</li>\n",
       "\t<li>TRUE</li>\n",
       "\t<li>FALSE</li>\n",
       "\t<li>TRUE</li>\n",
       "\t<li>FALSE</li>\n",
       "\t<li>TRUE</li>\n",
       "</ol>\n"
      ],
      "text/latex": [
       "\\begin{enumerate*}\n",
       "\\item FALSE\n",
       "\\item FALSE\n",
       "\\item FALSE\n",
       "\\item FALSE\n",
       "\\item FALSE\n",
       "\\item TRUE\n",
       "\\item FALSE\n",
       "\\item TRUE\n",
       "\\item FALSE\n",
       "\\item TRUE\n",
       "\\end{enumerate*}\n"
      ],
      "text/markdown": [
       "1. FALSE\n",
       "2. FALSE\n",
       "3. FALSE\n",
       "4. FALSE\n",
       "5. FALSE\n",
       "6. TRUE\n",
       "7. FALSE\n",
       "8. TRUE\n",
       "9. FALSE\n",
       "10. TRUE\n",
       "\n",
       "\n"
      ],
      "text/plain": [
       " [1] FALSE FALSE FALSE FALSE FALSE  TRUE FALSE  TRUE FALSE  TRUE"
      ]
     },
     "metadata": {},
     "output_type": "display_data"
    }
   ],
   "source": [
    "x & y"
   ]
  },
  {
   "cell_type": "code",
   "execution_count": 54,
   "metadata": {
    "collapsed": false
   },
   "outputs": [
    {
     "data": {
      "text/html": [
       "<ol class=list-inline>\n",
       "\t<li>FALSE</li>\n",
       "\t<li>TRUE</li>\n",
       "\t<li>FALSE</li>\n",
       "\t<li>TRUE</li>\n",
       "\t<li>TRUE</li>\n",
       "\t<li>TRUE</li>\n",
       "\t<li>TRUE</li>\n",
       "\t<li>TRUE</li>\n",
       "\t<li>TRUE</li>\n",
       "\t<li>TRUE</li>\n",
       "</ol>\n"
      ],
      "text/latex": [
       "\\begin{enumerate*}\n",
       "\\item FALSE\n",
       "\\item TRUE\n",
       "\\item FALSE\n",
       "\\item TRUE\n",
       "\\item TRUE\n",
       "\\item TRUE\n",
       "\\item TRUE\n",
       "\\item TRUE\n",
       "\\item TRUE\n",
       "\\item TRUE\n",
       "\\end{enumerate*}\n"
      ],
      "text/markdown": [
       "1. FALSE\n",
       "2. TRUE\n",
       "3. FALSE\n",
       "4. TRUE\n",
       "5. TRUE\n",
       "6. TRUE\n",
       "7. TRUE\n",
       "8. TRUE\n",
       "9. TRUE\n",
       "10. TRUE\n",
       "\n",
       "\n"
      ],
      "text/plain": [
       " [1] FALSE  TRUE FALSE  TRUE  TRUE  TRUE  TRUE  TRUE  TRUE  TRUE"
      ]
     },
     "metadata": {},
     "output_type": "display_data"
    }
   ],
   "source": [
    "x | y"
   ]
  },
  {
   "cell_type": "code",
   "execution_count": 55,
   "metadata": {
    "collapsed": false
   },
   "outputs": [
    {
     "data": {
      "text/html": [
       "<table>\n",
       "<thead><tr><th scope=col>x</th><th scope=col>y</th><th scope=col>not.x</th><th scope=col>not.y</th><th scope=col>or</th><th scope=col>and</th></tr></thead>\n",
       "<tbody>\n",
       "\t<tr><td> TRUE</td><td> TRUE</td><td>FALSE</td><td>FALSE</td><td> TRUE</td><td> TRUE</td></tr>\n",
       "\t<tr><td>FALSE</td><td> TRUE</td><td> TRUE</td><td>FALSE</td><td> TRUE</td><td>FALSE</td></tr>\n",
       "\t<tr><td>   NA</td><td> TRUE</td><td>   NA</td><td>FALSE</td><td> TRUE</td><td>   NA</td></tr>\n",
       "\t<tr><td> TRUE</td><td>FALSE</td><td>FALSE</td><td> TRUE</td><td> TRUE</td><td>FALSE</td></tr>\n",
       "\t<tr><td>FALSE</td><td>FALSE</td><td> TRUE</td><td> TRUE</td><td>FALSE</td><td>FALSE</td></tr>\n",
       "\t<tr><td>   NA</td><td>FALSE</td><td>   NA</td><td> TRUE</td><td>   NA</td><td>FALSE</td></tr>\n",
       "\t<tr><td> TRUE</td><td>   NA</td><td>FALSE</td><td>   NA</td><td> TRUE</td><td>   NA</td></tr>\n",
       "\t<tr><td>FALSE</td><td>   NA</td><td> TRUE</td><td>   NA</td><td>   NA</td><td>FALSE</td></tr>\n",
       "\t<tr><td>   NA</td><td>   NA</td><td>   NA</td><td>   NA</td><td>   NA</td><td>   NA</td></tr>\n",
       "</tbody>\n",
       "</table>\n"
      ],
      "text/latex": [
       "\\begin{tabular}{r|llllll}\n",
       " x & y & not.x & not.y & or & and\\\\\n",
       "\\hline\n",
       "\t  TRUE &  TRUE & FALSE & FALSE &  TRUE &  TRUE\\\\\n",
       "\t FALSE &  TRUE &  TRUE & FALSE &  TRUE & FALSE\\\\\n",
       "\t    NA &  TRUE &    NA & FALSE &  TRUE &    NA\\\\\n",
       "\t  TRUE & FALSE & FALSE &  TRUE &  TRUE & FALSE\\\\\n",
       "\t FALSE & FALSE &  TRUE &  TRUE & FALSE & FALSE\\\\\n",
       "\t    NA & FALSE &    NA &  TRUE &    NA & FALSE\\\\\n",
       "\t  TRUE &    NA & FALSE &    NA &  TRUE &    NA\\\\\n",
       "\t FALSE &    NA &  TRUE &    NA &    NA & FALSE\\\\\n",
       "\t    NA &    NA &    NA &    NA &    NA &    NA\\\\\n",
       "\\end{tabular}\n"
      ],
      "text/markdown": [
       "\n",
       "x | y | not.x | not.y | or | and | \n",
       "|---|---|---|---|---|---|---|---|---|\n",
       "|  TRUE |  TRUE | FALSE | FALSE |  TRUE |  TRUE | \n",
       "| FALSE |  TRUE |  TRUE | FALSE |  TRUE | FALSE | \n",
       "|    NA |  TRUE |    NA | FALSE |  TRUE |    NA | \n",
       "|  TRUE | FALSE | FALSE |  TRUE |  TRUE | FALSE | \n",
       "| FALSE | FALSE |  TRUE |  TRUE | FALSE | FALSE | \n",
       "|    NA | FALSE |    NA |  TRUE |    NA | FALSE | \n",
       "|  TRUE |    NA | FALSE |    NA |  TRUE |    NA | \n",
       "| FALSE |    NA |  TRUE |    NA |    NA | FALSE | \n",
       "|    NA |    NA |    NA |    NA |    NA |    NA | \n",
       "\n",
       "\n"
      ],
      "text/plain": [
       "  x     y     not.x not.y or    and  \n",
       "1  TRUE  TRUE FALSE FALSE  TRUE  TRUE\n",
       "2 FALSE  TRUE  TRUE FALSE  TRUE FALSE\n",
       "3    NA  TRUE    NA FALSE  TRUE    NA\n",
       "4  TRUE FALSE FALSE  TRUE  TRUE FALSE\n",
       "5 FALSE FALSE  TRUE  TRUE FALSE FALSE\n",
       "6    NA FALSE    NA  TRUE    NA FALSE\n",
       "7  TRUE    NA FALSE    NA  TRUE    NA\n",
       "8 FALSE    NA  TRUE    NA    NA FALSE\n",
       "9    NA    NA    NA    NA    NA    NA"
      ]
     },
     "metadata": {},
     "output_type": "display_data"
    }
   ],
   "source": [
    "x <- c(TRUE, FALSE, NA)\n",
    "# Get all combination of x and y\n",
    "xy <- expand.grid(x = x, y = x)\n",
    "\n",
    "within (\n",
    "    xy,\n",
    "    {\n",
    "        and <- x & y\n",
    "        or <- x | y\n",
    "        not.y <- !y\n",
    "        not.x <- !x\n",
    "    }\n",
    ")"
   ]
  },
  {
   "cell_type": "markdown",
   "metadata": {},
   "source": [
    "## Chapter 3 \n",
    "### Inspecting Variables in Workspace"
   ]
  },
  {
   "cell_type": "code",
   "execution_count": 56,
   "metadata": {
    "collapsed": false
   },
   "outputs": [
    {
     "data": {
      "text/html": [
       "'logical'"
      ],
      "text/latex": [
       "'logical'"
      ],
      "text/markdown": [
       "'logical'"
      ],
      "text/plain": [
       "[1] \"logical\""
      ]
     },
     "metadata": {},
     "output_type": "display_data"
    }
   ],
   "source": [
    "class(c(TRUE, FALSE))"
   ]
  },
  {
   "cell_type": "code",
   "execution_count": 57,
   "metadata": {
    "collapsed": false
   },
   "outputs": [
    {
     "data": {
      "text/html": [
       "'numeric'"
      ],
      "text/latex": [
       "'numeric'"
      ],
      "text/markdown": [
       "'numeric'"
      ],
      "text/plain": [
       "[1] \"numeric\""
      ]
     },
     "metadata": {},
     "output_type": "display_data"
    }
   ],
   "source": [
    "class(c(1, 1.00))"
   ]
  },
  {
   "cell_type": "code",
   "execution_count": 58,
   "metadata": {
    "collapsed": false
   },
   "outputs": [
    {
     "data": {
      "text/html": [
       "'character'"
      ],
      "text/latex": [
       "'character'"
      ],
      "text/markdown": [
       "'character'"
      ],
      "text/plain": [
       "[1] \"character\""
      ]
     },
     "metadata": {},
     "output_type": "display_data"
    }
   ],
   "source": [
    "class(c(\"Hello\"))"
   ]
  },
  {
   "cell_type": "code",
   "execution_count": 59,
   "metadata": {
    "collapsed": false
   },
   "outputs": [
    {
     "data": {
      "text/html": [
       "'complex'"
      ],
      "text/latex": [
       "'complex'"
      ],
      "text/markdown": [
       "'complex'"
      ],
      "text/plain": [
       "[1] \"complex\""
      ]
     },
     "metadata": {},
     "output_type": "display_data"
    }
   ],
   "source": [
    "class(3+1i)"
   ]
  },
  {
   "cell_type": "code",
   "execution_count": 60,
   "metadata": {
    "collapsed": true
   },
   "outputs": [],
   "source": [
    "gender <- factor(c(\"male\", \"female\", \"male\", \"female\"))"
   ]
  },
  {
   "cell_type": "code",
   "execution_count": 61,
   "metadata": {
    "collapsed": false
   },
   "outputs": [
    {
     "data": {
      "text/html": [
       "<ol class=list-inline>\n",
       "\t<li>male</li>\n",
       "\t<li>female</li>\n",
       "\t<li>male</li>\n",
       "\t<li>female</li>\n",
       "</ol>\n"
      ],
      "text/latex": [
       "\\begin{enumerate*}\n",
       "\\item male\n",
       "\\item female\n",
       "\\item male\n",
       "\\item female\n",
       "\\end{enumerate*}\n"
      ],
      "text/markdown": [
       "1. male\n",
       "2. female\n",
       "3. male\n",
       "4. female\n",
       "\n",
       "\n"
      ],
      "text/plain": [
       "[1] male   female male   female\n",
       "Levels: female male"
      ]
     },
     "metadata": {},
     "output_type": "display_data"
    }
   ],
   "source": [
    "gender"
   ]
  },
  {
   "cell_type": "code",
   "execution_count": 62,
   "metadata": {
    "collapsed": false
   },
   "outputs": [
    {
     "data": {
      "text/html": [
       "<ol class=list-inline>\n",
       "\t<li>'female'</li>\n",
       "\t<li>'male'</li>\n",
       "</ol>\n"
      ],
      "text/latex": [
       "\\begin{enumerate*}\n",
       "\\item 'female'\n",
       "\\item 'male'\n",
       "\\end{enumerate*}\n"
      ],
      "text/markdown": [
       "1. 'female'\n",
       "2. 'male'\n",
       "\n",
       "\n"
      ],
      "text/plain": [
       "[1] \"female\" \"male\"  "
      ]
     },
     "metadata": {},
     "output_type": "display_data"
    }
   ],
   "source": [
    "levels(gender)"
   ]
  },
  {
   "cell_type": "code",
   "execution_count": 63,
   "metadata": {
    "collapsed": false
   },
   "outputs": [
    {
     "data": {
      "text/html": [
       "2"
      ],
      "text/latex": [
       "2"
      ],
      "text/markdown": [
       "2"
      ],
      "text/plain": [
       "[1] 2"
      ]
     },
     "metadata": {},
     "output_type": "display_data"
    }
   ],
   "source": [
    "nlevels(gender)"
   ]
  },
  {
   "cell_type": "code",
   "execution_count": 67,
   "metadata": {
    "collapsed": false
   },
   "outputs": [
    {
     "data": {
      "text/plain": [
       "NULL"
      ]
     },
     "metadata": {},
     "output_type": "display_data"
    },
    {
     "data": {
      "text/html": [
       "<ol class=list-inline>\n",
       "\t<li>'hello'</li>\n",
       "\t<li>'world'</li>\n",
       "</ol>\n"
      ],
      "text/latex": [
       "\\begin{enumerate*}\n",
       "\\item 'hello'\n",
       "\\item 'world'\n",
       "\\end{enumerate*}\n"
      ],
      "text/markdown": [
       "1. 'hello'\n",
       "2. 'world'\n",
       "\n",
       "\n"
      ],
      "text/plain": [
       "[1] \"hello\" \"world\""
      ]
     },
     "metadata": {},
     "output_type": "display_data"
    }
   ],
   "source": [
    "# Doesn't work, need to use the factor function\n",
    "hw <- c(\"hello\", \"world\", \"hello\")\n",
    "levels(hw)\n",
    "\n",
    "hw <- factor(c(\"hello\", \"world\", \"hello\"))\n",
    "levels(hw)"
   ]
  },
  {
   "cell_type": "code",
   "execution_count": 68,
   "metadata": {
    "collapsed": false
   },
   "outputs": [
    {
     "data": {
      "text/html": [
       "<ol class=list-inline>\n",
       "\t<li>2</li>\n",
       "\t<li>1</li>\n",
       "\t<li>2</li>\n",
       "\t<li>1</li>\n",
       "</ol>\n"
      ],
      "text/latex": [
       "\\begin{enumerate*}\n",
       "\\item 2\n",
       "\\item 1\n",
       "\\item 2\n",
       "\\item 1\n",
       "\\end{enumerate*}\n"
      ],
      "text/markdown": [
       "1. 2\n",
       "2. 1\n",
       "3. 2\n",
       "4. 1\n",
       "\n",
       "\n"
      ],
      "text/plain": [
       "[1] 2 1 2 1"
      ]
     },
     "metadata": {},
     "output_type": "display_data"
    }
   ],
   "source": [
    "as.integer(gender)"
   ]
  },
  {
   "cell_type": "code",
   "execution_count": 69,
   "metadata": {
    "collapsed": true
   },
   "outputs": [],
   "source": [
    "gender_char <- sample(c(\"female\", \"male\"), 10000, replace = TRUE)"
   ]
  },
  {
   "cell_type": "code",
   "execution_count": 70,
   "metadata": {
    "collapsed": true
   },
   "outputs": [],
   "source": [
    "gender_fac <- as.factor(gender_char)"
   ]
  },
  {
   "cell_type": "code",
   "execution_count": 71,
   "metadata": {
    "collapsed": false
   },
   "outputs": [
    {
     "data": {
      "text/plain": [
       "80136 bytes"
      ]
     },
     "metadata": {},
     "output_type": "display_data"
    }
   ],
   "source": [
    "object.size(gender_char)"
   ]
  },
  {
   "cell_type": "code",
   "execution_count": 72,
   "metadata": {
    "collapsed": false
   },
   "outputs": [
    {
     "data": {
      "text/plain": [
       "40512 bytes"
      ]
     },
     "metadata": {},
     "output_type": "display_data"
    }
   ],
   "source": [
    "object.size(gender_fac)"
   ]
  },
  {
   "cell_type": "code",
   "execution_count": 73,
   "metadata": {
    "collapsed": false
   },
   "outputs": [
    {
     "data": {
      "text/html": [
       "<ol class=list-inline>\n",
       "\t<li>'male'</li>\n",
       "\t<li>'female'</li>\n",
       "\t<li>'male'</li>\n",
       "\t<li>'female'</li>\n",
       "</ol>\n"
      ],
      "text/latex": [
       "\\begin{enumerate*}\n",
       "\\item 'male'\n",
       "\\item 'female'\n",
       "\\item 'male'\n",
       "\\item 'female'\n",
       "\\end{enumerate*}\n"
      ],
      "text/markdown": [
       "1. 'male'\n",
       "2. 'female'\n",
       "3. 'male'\n",
       "4. 'female'\n",
       "\n",
       "\n"
      ],
      "text/plain": [
       "[1] \"male\"   \"female\" \"male\"   \"female\""
      ]
     },
     "metadata": {},
     "output_type": "display_data"
    }
   ],
   "source": [
    "as.character(gender)"
   ]
  },
  {
   "cell_type": "code",
   "execution_count": 74,
   "metadata": {
    "collapsed": false
   },
   "outputs": [
    {
     "data": {
      "text/plain": [
       " [1] 01 02 03 04 05 06 07 08 09 0a 0b 0c 0d 0e 0f 10 11"
      ]
     },
     "metadata": {},
     "output_type": "display_data"
    }
   ],
   "source": [
    "as.raw(1:17)"
   ]
  },
  {
   "cell_type": "code",
   "execution_count": 75,
   "metadata": {
    "collapsed": false
   },
   "outputs": [
    {
     "name": "stderr",
     "output_type": "stream",
     "text": [
      "Warning message in eval(expr, envir, enclos):\n",
      "\"imaginary parts discarded in coercion\"Warning message in eval(expr, envir, enclos):\n",
      "\"out-of-range values treated as 0 in coercion to raw\""
     ]
    },
    {
     "data": {
      "text/plain": [
       "[1] 03 01 00 00"
      ]
     },
     "metadata": {},
     "output_type": "display_data"
    }
   ],
   "source": [
    "as.raw(c(pi, 1+1i, -1, 256))"
   ]
  },
  {
   "cell_type": "code",
   "execution_count": 76,
   "metadata": {
    "collapsed": true
   },
   "outputs": [],
   "source": [
    "sushi <- charToRaw(\"Fish!\")"
   ]
  },
  {
   "cell_type": "code",
   "execution_count": 77,
   "metadata": {
    "collapsed": false
   },
   "outputs": [
    {
     "data": {
      "text/plain": [
       "[1] 46 69 73 68 21"
      ]
     },
     "metadata": {},
     "output_type": "display_data"
    }
   ],
   "source": [
    "sushi"
   ]
  },
  {
   "cell_type": "code",
   "execution_count": 78,
   "metadata": {
    "collapsed": true
   },
   "outputs": [],
   "source": [
    "bangla <- charToRaw(\"বাংলা\")"
   ]
  },
  {
   "cell_type": "code",
   "execution_count": 79,
   "metadata": {
    "collapsed": false
   },
   "outputs": [
    {
     "data": {
      "text/plain": [
       " [1] 3c 55 2b 30 39 41 43 3e 3c 55 2b 30 39 42 45 3e 3c 55 2b 30 39 38 32 3e 3c\n",
       "[26] 55 2b 30 39 42 32 3e 3c 55 2b 30 39 42 45 3e"
      ]
     },
     "metadata": {},
     "output_type": "display_data"
    }
   ],
   "source": [
    "bangla"
   ]
  },
  {
   "cell_type": "code",
   "execution_count": 82,
   "metadata": {
    "collapsed": false
   },
   "outputs": [
    {
     "data": {
      "text/html": [
       "'raw'"
      ],
      "text/latex": [
       "'raw'"
      ],
      "text/markdown": [
       "'raw'"
      ],
      "text/plain": [
       "[1] \"raw\""
      ]
     },
     "metadata": {},
     "output_type": "display_data"
    }
   ],
   "source": [
    "class(sushi)"
   ]
  },
  {
   "cell_type": "markdown",
   "metadata": {},
   "source": [
    "## Checking and Changing Class"
   ]
  },
  {
   "cell_type": "markdown",
   "metadata": {},
   "source": [
    "```r\n",
    "# Typical Checking Solution\n",
    "if (!is(x, \"some_class\"))\n",
    "{\n",
    "    #corrective measures\n",
    "}\n",
    "```"
   ]
  },
  {
   "cell_type": "code",
   "execution_count": 83,
   "metadata": {
    "collapsed": false
   },
   "outputs": [
    {
     "data": {
      "text/html": [
       "TRUE"
      ],
      "text/latex": [
       "TRUE"
      ],
      "text/markdown": [
       "TRUE"
      ],
      "text/plain": [
       "[1] TRUE"
      ]
     },
     "metadata": {},
     "output_type": "display_data"
    }
   ],
   "source": [
    "is.character(\"red lorry, yellow lorry\")"
   ]
  },
  {
   "cell_type": "code",
   "execution_count": 84,
   "metadata": {
    "collapsed": false
   },
   "outputs": [
    {
     "data": {
      "text/html": [
       "TRUE"
      ],
      "text/latex": [
       "TRUE"
      ],
      "text/markdown": [
       "TRUE"
      ],
      "text/plain": [
       "[1] TRUE"
      ]
     },
     "metadata": {},
     "output_type": "display_data"
    }
   ],
   "source": [
    "is.logical(TRUE)"
   ]
  },
  {
   "cell_type": "code",
   "execution_count": 85,
   "metadata": {
    "collapsed": false
   },
   "outputs": [
    {
     "data": {
      "text/html": [
       "TRUE"
      ],
      "text/latex": [
       "TRUE"
      ],
      "text/markdown": [
       "TRUE"
      ],
      "text/plain": [
       "[1] TRUE"
      ]
     },
     "metadata": {},
     "output_type": "display_data"
    }
   ],
   "source": [
    "is.list(list(a = 1, b = 2))"
   ]
  },
  {
   "cell_type": "code",
   "execution_count": 86,
   "metadata": {
    "collapsed": false
   },
   "outputs": [
    {
     "data": {
      "text/html": [
       "<ol class=list-inline>\n",
       "\t<li>'is.array'</li>\n",
       "\t<li>'is.atomic'</li>\n",
       "\t<li>'is.call'</li>\n",
       "\t<li>'is.character'</li>\n",
       "\t<li>'is.complex'</li>\n",
       "\t<li>'is.data.frame'</li>\n",
       "\t<li>'is.double'</li>\n",
       "\t<li>'is.element'</li>\n",
       "\t<li>'is.environment'</li>\n",
       "\t<li>'is.expression'</li>\n",
       "\t<li>'is.factor'</li>\n",
       "\t<li>'is.finite'</li>\n",
       "\t<li>'is.function'</li>\n",
       "\t<li>'is.infinite'</li>\n",
       "\t<li>'is.integer'</li>\n",
       "\t<li>'is.language'</li>\n",
       "\t<li>'is.list'</li>\n",
       "\t<li>'is.loaded'</li>\n",
       "\t<li>'is.logical'</li>\n",
       "\t<li>'is.matrix'</li>\n",
       "\t<li>'is.na'</li>\n",
       "\t<li>'is.na.data.frame'</li>\n",
       "\t<li>'is.na.numeric_version'</li>\n",
       "\t<li>'is.na.POSIXlt'</li>\n",
       "\t<li>'is.na&lt;-'</li>\n",
       "\t<li>'is.na&lt;-.default'</li>\n",
       "\t<li>'is.na&lt;-.factor'</li>\n",
       "\t<li>'is.na&lt;-.numeric_version'</li>\n",
       "\t<li>'is.name'</li>\n",
       "\t<li>'is.nan'</li>\n",
       "\t<li>'is.null'</li>\n",
       "\t<li>'is.numeric'</li>\n",
       "\t<li>'is.numeric.Date'</li>\n",
       "\t<li>'is.numeric.difftime'</li>\n",
       "\t<li>'is.numeric.POSIXt'</li>\n",
       "\t<li>'is.numeric_version'</li>\n",
       "\t<li>'is.object'</li>\n",
       "\t<li>'is.ordered'</li>\n",
       "\t<li>'is.package_version'</li>\n",
       "\t<li>'is.pairlist'</li>\n",
       "\t<li>'is.primitive'</li>\n",
       "\t<li>'is.qr'</li>\n",
       "\t<li>'is.R'</li>\n",
       "\t<li>'is.raw'</li>\n",
       "\t<li>'is.recursive'</li>\n",
       "\t<li>'is.single'</li>\n",
       "\t<li>'is.symbol'</li>\n",
       "\t<li>'is.table'</li>\n",
       "\t<li>'is.unsorted'</li>\n",
       "\t<li>'is.vector'</li>\n",
       "\t<li>'isatty'</li>\n",
       "\t<li>'isBaseNamespace'</li>\n",
       "\t<li>'isdebugged'</li>\n",
       "\t<li>'isIncomplete'</li>\n",
       "\t<li>'isNamespace'</li>\n",
       "\t<li>'isNamespaceLoaded'</li>\n",
       "\t<li>'isOpen'</li>\n",
       "\t<li>'isRestart'</li>\n",
       "\t<li>'isS4'</li>\n",
       "\t<li>'isSeekable'</li>\n",
       "\t<li>'isSymmetric'</li>\n",
       "\t<li>'isSymmetric.matrix'</li>\n",
       "\t<li>'isTRUE'</li>\n",
       "</ol>\n"
      ],
      "text/latex": [
       "\\begin{enumerate*}\n",
       "\\item 'is.array'\n",
       "\\item 'is.atomic'\n",
       "\\item 'is.call'\n",
       "\\item 'is.character'\n",
       "\\item 'is.complex'\n",
       "\\item 'is.data.frame'\n",
       "\\item 'is.double'\n",
       "\\item 'is.element'\n",
       "\\item 'is.environment'\n",
       "\\item 'is.expression'\n",
       "\\item 'is.factor'\n",
       "\\item 'is.finite'\n",
       "\\item 'is.function'\n",
       "\\item 'is.infinite'\n",
       "\\item 'is.integer'\n",
       "\\item 'is.language'\n",
       "\\item 'is.list'\n",
       "\\item 'is.loaded'\n",
       "\\item 'is.logical'\n",
       "\\item 'is.matrix'\n",
       "\\item 'is.na'\n",
       "\\item 'is.na.data.frame'\n",
       "\\item 'is.na.numeric\\_version'\n",
       "\\item 'is.na.POSIXlt'\n",
       "\\item 'is.na<-'\n",
       "\\item 'is.na<-.default'\n",
       "\\item 'is.na<-.factor'\n",
       "\\item 'is.na<-.numeric\\_version'\n",
       "\\item 'is.name'\n",
       "\\item 'is.nan'\n",
       "\\item 'is.null'\n",
       "\\item 'is.numeric'\n",
       "\\item 'is.numeric.Date'\n",
       "\\item 'is.numeric.difftime'\n",
       "\\item 'is.numeric.POSIXt'\n",
       "\\item 'is.numeric\\_version'\n",
       "\\item 'is.object'\n",
       "\\item 'is.ordered'\n",
       "\\item 'is.package\\_version'\n",
       "\\item 'is.pairlist'\n",
       "\\item 'is.primitive'\n",
       "\\item 'is.qr'\n",
       "\\item 'is.R'\n",
       "\\item 'is.raw'\n",
       "\\item 'is.recursive'\n",
       "\\item 'is.single'\n",
       "\\item 'is.symbol'\n",
       "\\item 'is.table'\n",
       "\\item 'is.unsorted'\n",
       "\\item 'is.vector'\n",
       "\\item 'isatty'\n",
       "\\item 'isBaseNamespace'\n",
       "\\item 'isdebugged'\n",
       "\\item 'isIncomplete'\n",
       "\\item 'isNamespace'\n",
       "\\item 'isNamespaceLoaded'\n",
       "\\item 'isOpen'\n",
       "\\item 'isRestart'\n",
       "\\item 'isS4'\n",
       "\\item 'isSeekable'\n",
       "\\item 'isSymmetric'\n",
       "\\item 'isSymmetric.matrix'\n",
       "\\item 'isTRUE'\n",
       "\\end{enumerate*}\n"
      ],
      "text/markdown": [
       "1. 'is.array'\n",
       "2. 'is.atomic'\n",
       "3. 'is.call'\n",
       "4. 'is.character'\n",
       "5. 'is.complex'\n",
       "6. 'is.data.frame'\n",
       "7. 'is.double'\n",
       "8. 'is.element'\n",
       "9. 'is.environment'\n",
       "10. 'is.expression'\n",
       "11. 'is.factor'\n",
       "12. 'is.finite'\n",
       "13. 'is.function'\n",
       "14. 'is.infinite'\n",
       "15. 'is.integer'\n",
       "16. 'is.language'\n",
       "17. 'is.list'\n",
       "18. 'is.loaded'\n",
       "19. 'is.logical'\n",
       "20. 'is.matrix'\n",
       "21. 'is.na'\n",
       "22. 'is.na.data.frame'\n",
       "23. 'is.na.numeric_version'\n",
       "24. 'is.na.POSIXlt'\n",
       "25. 'is.na&lt;-'\n",
       "26. 'is.na&lt;-.default'\n",
       "27. 'is.na&lt;-.factor'\n",
       "28. 'is.na&lt;-.numeric_version'\n",
       "29. 'is.name'\n",
       "30. 'is.nan'\n",
       "31. 'is.null'\n",
       "32. 'is.numeric'\n",
       "33. 'is.numeric.Date'\n",
       "34. 'is.numeric.difftime'\n",
       "35. 'is.numeric.POSIXt'\n",
       "36. 'is.numeric_version'\n",
       "37. 'is.object'\n",
       "38. 'is.ordered'\n",
       "39. 'is.package_version'\n",
       "40. 'is.pairlist'\n",
       "41. 'is.primitive'\n",
       "42. 'is.qr'\n",
       "43. 'is.R'\n",
       "44. 'is.raw'\n",
       "45. 'is.recursive'\n",
       "46. 'is.single'\n",
       "47. 'is.symbol'\n",
       "48. 'is.table'\n",
       "49. 'is.unsorted'\n",
       "50. 'is.vector'\n",
       "51. 'isatty'\n",
       "52. 'isBaseNamespace'\n",
       "53. 'isdebugged'\n",
       "54. 'isIncomplete'\n",
       "55. 'isNamespace'\n",
       "56. 'isNamespaceLoaded'\n",
       "57. 'isOpen'\n",
       "58. 'isRestart'\n",
       "59. 'isS4'\n",
       "60. 'isSeekable'\n",
       "61. 'isSymmetric'\n",
       "62. 'isSymmetric.matrix'\n",
       "63. 'isTRUE'\n",
       "\n",
       "\n"
      ],
      "text/plain": [
       " [1] \"is.array\"                \"is.atomic\"              \n",
       " [3] \"is.call\"                 \"is.character\"           \n",
       " [5] \"is.complex\"              \"is.data.frame\"          \n",
       " [7] \"is.double\"               \"is.element\"             \n",
       " [9] \"is.environment\"          \"is.expression\"          \n",
       "[11] \"is.factor\"               \"is.finite\"              \n",
       "[13] \"is.function\"             \"is.infinite\"            \n",
       "[15] \"is.integer\"              \"is.language\"            \n",
       "[17] \"is.list\"                 \"is.loaded\"              \n",
       "[19] \"is.logical\"              \"is.matrix\"              \n",
       "[21] \"is.na\"                   \"is.na.data.frame\"       \n",
       "[23] \"is.na.numeric_version\"   \"is.na.POSIXlt\"          \n",
       "[25] \"is.na<-\"                 \"is.na<-.default\"        \n",
       "[27] \"is.na<-.factor\"          \"is.na<-.numeric_version\"\n",
       "[29] \"is.name\"                 \"is.nan\"                 \n",
       "[31] \"is.null\"                 \"is.numeric\"             \n",
       "[33] \"is.numeric.Date\"         \"is.numeric.difftime\"    \n",
       "[35] \"is.numeric.POSIXt\"       \"is.numeric_version\"     \n",
       "[37] \"is.object\"               \"is.ordered\"             \n",
       "[39] \"is.package_version\"      \"is.pairlist\"            \n",
       "[41] \"is.primitive\"            \"is.qr\"                  \n",
       "[43] \"is.R\"                    \"is.raw\"                 \n",
       "[45] \"is.recursive\"            \"is.single\"              \n",
       "[47] \"is.symbol\"               \"is.table\"               \n",
       "[49] \"is.unsorted\"             \"is.vector\"              \n",
       "[51] \"isatty\"                  \"isBaseNamespace\"        \n",
       "[53] \"isdebugged\"              \"isIncomplete\"           \n",
       "[55] \"isNamespace\"             \"isNamespaceLoaded\"      \n",
       "[57] \"isOpen\"                  \"isRestart\"              \n",
       "[59] \"isS4\"                    \"isSeekable\"             \n",
       "[61] \"isSymmetric\"             \"isSymmetric.matrix\"     \n",
       "[63] \"isTRUE\"                 "
      ]
     },
     "metadata": {},
     "output_type": "display_data"
    }
   ],
   "source": [
    "ls(pattern=\"^is\", baseenv())"
   ]
  },
  {
   "cell_type": "code",
   "execution_count": 88,
   "metadata": {
    "collapsed": false
   },
   "outputs": [
    {
     "data": {
      "text/html": [
       "TRUE"
      ],
      "text/latex": [
       "TRUE"
      ],
      "text/markdown": [
       "TRUE"
      ],
      "text/plain": [
       "[1] TRUE"
      ]
     },
     "metadata": {},
     "output_type": "display_data"
    }
   ],
   "source": [
    "# String to numeric conversion\n",
    "x <- \"123.456\"\n",
    "y <- as(x, \"numeric\")\n",
    "is.numeric(y)"
   ]
  },
  {
   "cell_type": "code",
   "execution_count": 89,
   "metadata": {
    "collapsed": false
   },
   "outputs": [
    {
     "ename": "ERROR",
     "evalue": "Error in as(y, \"data.frame\"): no method or default for coercing \"numeric\" to \"data.frame\"\n",
     "output_type": "error",
     "traceback": [
      "Error in as(y, \"data.frame\"): no method or default for coercing \"numeric\" to \"data.frame\"\nTraceback:\n",
      "1. as(y, \"data.frame\")",
      "2. stop(gettextf(\"no method or default for coercing %s to %s\", dQuote(thisClass), \n .     dQuote(Class)), domain = NA)"
     ]
    }
   ],
   "source": [
    "# Throws error\n",
    "y <- c(2, 12, 343, 34997)\n",
    "as(y, \"data.frame\")\n",
    "as.data.frame(y)"
   ]
  },
  {
   "cell_type": "code",
   "execution_count": 90,
   "metadata": {
    "collapsed": true
   },
   "outputs": [],
   "source": [
    "x <- \"123.455\"\n",
    "class(x) <- \"numeric\""
   ]
  },
  {
   "cell_type": "code",
   "execution_count": 92,
   "metadata": {
    "collapsed": false
   },
   "outputs": [
    {
     "data": {
      "text/html": [
       "TRUE"
      ],
      "text/latex": [
       "TRUE"
      ],
      "text/markdown": [
       "TRUE"
      ],
      "text/plain": [
       "[1] TRUE"
      ]
     },
     "metadata": {},
     "output_type": "display_data"
    }
   ],
   "source": [
    "is.numeric(x)"
   ]
  },
  {
   "cell_type": "markdown",
   "metadata": {},
   "source": [
    "## Examining Variables"
   ]
  },
  {
   "cell_type": "code",
   "execution_count": 93,
   "metadata": {
    "collapsed": false
   },
   "outputs": [
    {
     "name": "stdout",
     "output_type": "stream",
     "text": [
      "[1] 1\n",
      "[1] 8\n",
      "[1] 23\n",
      "[1] 46\n",
      "[1] 77\n"
     ]
    }
   ],
   "source": [
    "# Integer sequence -> http://oeis.org/A033951\n",
    "ulams_spiral <- c(1, 8, 23, 46, 77)\n",
    "for (i in ulams_spiral) print(i)"
   ]
  },
  {
   "cell_type": "code",
   "execution_count": 97,
   "metadata": {
    "collapsed": false
   },
   "outputs": [
    {
     "data": {
      "text/plain": [
       "   Min. 1st Qu.  Median    Mean 3rd Qu.    Max. \n",
       "0.05384 0.22690 0.48860 0.47860 0.68970 0.99300 "
      ]
     },
     "metadata": {},
     "output_type": "display_data"
    }
   ],
   "source": [
    "# Generating 30 random number within range [0, 1]\n",
    "num <- runif(30)\n",
    "summary(num)"
   ]
  },
  {
   "cell_type": "code",
   "execution_count": 98,
   "metadata": {
    "collapsed": false
   },
   "outputs": [],
   "source": [
    "# Sample function randomly samples values with `replace` 30 times\n",
    "fac <- factor(sample(letters[1:5], 30, replace=TRUE))"
   ]
  },
  {
   "cell_type": "code",
   "execution_count": 100,
   "metadata": {
    "collapsed": false
   },
   "outputs": [
    {
     "data": {
      "text/html": [
       "<dl class=dl-horizontal>\n",
       "\t<dt>a</dt>\n",
       "\t\t<dd>8</dd>\n",
       "\t<dt>b</dt>\n",
       "\t\t<dd>4</dd>\n",
       "\t<dt>c</dt>\n",
       "\t\t<dd>5</dd>\n",
       "\t<dt>d</dt>\n",
       "\t\t<dd>4</dd>\n",
       "\t<dt>e</dt>\n",
       "\t\t<dd>9</dd>\n",
       "</dl>\n"
      ],
      "text/latex": [
       "\\begin{description*}\n",
       "\\item[a] 8\n",
       "\\item[b] 4\n",
       "\\item[c] 5\n",
       "\\item[d] 4\n",
       "\\item[e] 9\n",
       "\\end{description*}\n"
      ],
      "text/markdown": [
       "a\n",
       ":   8b\n",
       ":   4c\n",
       ":   5d\n",
       ":   4e\n",
       ":   9\n",
       "\n"
      ],
      "text/plain": [
       "a b c d e \n",
       "8 4 5 4 9 "
      ]
     },
     "metadata": {},
     "output_type": "display_data"
    }
   ],
   "source": [
    "summary(fac)"
   ]
  },
  {
   "cell_type": "code",
   "execution_count": 102,
   "metadata": {
    "collapsed": false
   },
   "outputs": [
    {
     "data": {
      "text/plain": [
       "   Mode   FALSE    TRUE    NA's \n",
       "logical       7      12      11 "
      ]
     },
     "metadata": {},
     "output_type": "display_data"
    }
   ],
   "source": [
    "bool <- sample(c(TRUE, FALSE, NA), 30, replace=TRUE)\n",
    "summary(bool)"
   ]
  },
  {
   "cell_type": "code",
   "execution_count": 103,
   "metadata": {
    "collapsed": true
   },
   "outputs": [],
   "source": [
    "# Summarization of dataframes\n",
    "dfr <- data.frame(num, fac, bool)"
   ]
  },
  {
   "cell_type": "code",
   "execution_count": 105,
   "metadata": {
    "collapsed": false
   },
   "outputs": [
    {
     "data": {
      "text/html": [
       "<table>\n",
       "<thead><tr><th scope=col>num</th><th scope=col>fac</th><th scope=col>bool</th></tr></thead>\n",
       "<tbody>\n",
       "\t<tr><td>0.24906984</td><td>c         </td><td>   NA     </td></tr>\n",
       "\t<tr><td>0.98514727</td><td>e         </td><td>FALSE     </td></tr>\n",
       "\t<tr><td>0.57437965</td><td>d         </td><td>   NA     </td></tr>\n",
       "\t<tr><td>0.34823583</td><td>d         </td><td> TRUE     </td></tr>\n",
       "\t<tr><td>0.98970446</td><td>a         </td><td> TRUE     </td></tr>\n",
       "\t<tr><td>0.05384268</td><td>a         </td><td> TRUE     </td></tr>\n",
       "</tbody>\n",
       "</table>\n"
      ],
      "text/latex": [
       "\\begin{tabular}{r|lll}\n",
       " num & fac & bool\\\\\n",
       "\\hline\n",
       "\t 0.24906984 & c          &    NA     \\\\\n",
       "\t 0.98514727 & e          & FALSE     \\\\\n",
       "\t 0.57437965 & d          &    NA     \\\\\n",
       "\t 0.34823583 & d          &  TRUE     \\\\\n",
       "\t 0.98970446 & a          &  TRUE     \\\\\n",
       "\t 0.05384268 & a          &  TRUE     \\\\\n",
       "\\end{tabular}\n"
      ],
      "text/markdown": [
       "\n",
       "num | fac | bool | \n",
       "|---|---|---|---|---|---|\n",
       "| 0.24906984 | c          |    NA      | \n",
       "| 0.98514727 | e          | FALSE      | \n",
       "| 0.57437965 | d          |    NA      | \n",
       "| 0.34823583 | d          |  TRUE      | \n",
       "| 0.98970446 | a          |  TRUE      | \n",
       "| 0.05384268 | a          |  TRUE      | \n",
       "\n",
       "\n"
      ],
      "text/plain": [
       "  num        fac bool \n",
       "1 0.24906984 c      NA\n",
       "2 0.98514727 e   FALSE\n",
       "3 0.57437965 d      NA\n",
       "4 0.34823583 d    TRUE\n",
       "5 0.98970446 a    TRUE\n",
       "6 0.05384268 a    TRUE"
      ]
     },
     "metadata": {},
     "output_type": "display_data"
    }
   ],
   "source": [
    "head(dfr)"
   ]
  },
  {
   "cell_type": "code",
   "execution_count": 106,
   "metadata": {
    "collapsed": false
   },
   "outputs": [
    {
     "data": {
      "text/plain": [
       "      num          fac      bool        \n",
       " Min.   :0.05384   a:8   Mode :logical  \n",
       " 1st Qu.:0.22686   b:4   FALSE:7        \n",
       " Median :0.48864   c:5   TRUE :12       \n",
       " Mean   :0.47863   d:4   NA's :11       \n",
       " 3rd Qu.:0.68967   e:9                  \n",
       " Max.   :0.99303                        "
      ]
     },
     "metadata": {},
     "output_type": "display_data"
    }
   ],
   "source": [
    "summary(dfr)"
   ]
  },
  {
   "cell_type": "code",
   "execution_count": 107,
   "metadata": {
    "collapsed": false
   },
   "outputs": [
    {
     "name": "stdout",
     "output_type": "stream",
     "text": [
      " num [1:30] 0.249 0.985 0.574 0.348 0.99 ...\n"
     ]
    }
   ],
   "source": [
    "str(num)"
   ]
  },
  {
   "cell_type": "code",
   "execution_count": 108,
   "metadata": {
    "collapsed": false
   },
   "outputs": [
    {
     "name": "stdout",
     "output_type": "stream",
     "text": [
      "'data.frame':\t30 obs. of  3 variables:\n",
      " $ num : num  0.249 0.985 0.574 0.348 0.99 ...\n",
      " $ fac : Factor w/ 5 levels \"a\",\"b\",\"c\",\"d\",..: 3 5 4 4 1 1 5 5 5 5 ...\n",
      " $ bool: logi  NA FALSE NA TRUE TRUE TRUE ...\n"
     ]
    }
   ],
   "source": [
    "str(dfr)"
   ]
  },
  {
   "cell_type": "code",
   "execution_count": 109,
   "metadata": {
    "collapsed": false
   },
   "outputs": [
    {
     "data": {
      "text/html": [
       "<ol class=list-inline>\n",
       "\t<li>3</li>\n",
       "\t<li>5</li>\n",
       "\t<li>4</li>\n",
       "\t<li>4</li>\n",
       "\t<li>1</li>\n",
       "\t<li>1</li>\n",
       "\t<li>5</li>\n",
       "\t<li>5</li>\n",
       "\t<li>5</li>\n",
       "\t<li>5</li>\n",
       "\t<li>1</li>\n",
       "\t<li>3</li>\n",
       "\t<li>4</li>\n",
       "\t<li>1</li>\n",
       "\t<li>3</li>\n",
       "\t<li>2</li>\n",
       "\t<li>2</li>\n",
       "\t<li>5</li>\n",
       "\t<li>3</li>\n",
       "\t<li>2</li>\n",
       "\t<li>2</li>\n",
       "\t<li>1</li>\n",
       "\t<li>5</li>\n",
       "\t<li>5</li>\n",
       "\t<li>4</li>\n",
       "\t<li>5</li>\n",
       "\t<li>3</li>\n",
       "\t<li>1</li>\n",
       "\t<li>1</li>\n",
       "\t<li>1</li>\n",
       "</ol>\n"
      ],
      "text/latex": [
       "\\begin{enumerate*}\n",
       "\\item 3\n",
       "\\item 5\n",
       "\\item 4\n",
       "\\item 4\n",
       "\\item 1\n",
       "\\item 1\n",
       "\\item 5\n",
       "\\item 5\n",
       "\\item 5\n",
       "\\item 5\n",
       "\\item 1\n",
       "\\item 3\n",
       "\\item 4\n",
       "\\item 1\n",
       "\\item 3\n",
       "\\item 2\n",
       "\\item 2\n",
       "\\item 5\n",
       "\\item 3\n",
       "\\item 2\n",
       "\\item 2\n",
       "\\item 1\n",
       "\\item 5\n",
       "\\item 5\n",
       "\\item 4\n",
       "\\item 5\n",
       "\\item 3\n",
       "\\item 1\n",
       "\\item 1\n",
       "\\item 1\n",
       "\\end{enumerate*}\n"
      ],
      "text/markdown": [
       "1. 3\n",
       "2. 5\n",
       "3. 4\n",
       "4. 4\n",
       "5. 1\n",
       "6. 1\n",
       "7. 5\n",
       "8. 5\n",
       "9. 5\n",
       "10. 5\n",
       "11. 1\n",
       "12. 3\n",
       "13. 4\n",
       "14. 1\n",
       "15. 3\n",
       "16. 2\n",
       "17. 2\n",
       "18. 5\n",
       "19. 3\n",
       "20. 2\n",
       "21. 2\n",
       "22. 1\n",
       "23. 5\n",
       "24. 5\n",
       "25. 4\n",
       "26. 5\n",
       "27. 3\n",
       "28. 1\n",
       "29. 1\n",
       "30. 1\n",
       "\n",
       "\n"
      ],
      "text/plain": [
       " [1] 3 5 4 4 1 1 5 5 5 5 1 3 4 1 3 2 2 5 3 2 2 1 5 5 4 5 3 1 1 1\n",
       "attr(,\"levels\")\n",
       "[1] \"a\" \"b\" \"c\" \"d\" \"e\""
      ]
     },
     "metadata": {},
     "output_type": "display_data"
    }
   ],
   "source": [
    "unclass(fac)"
   ]
  },
  {
   "cell_type": "code",
   "execution_count": 110,
   "metadata": {
    "collapsed": false
   },
   "outputs": [
    {
     "data": {
      "text/html": [
       "<dl>\n",
       "\t<dt>$levels</dt>\n",
       "\t\t<dd><ol class=list-inline>\n",
       "\t<li>'a'</li>\n",
       "\t<li>'b'</li>\n",
       "\t<li>'c'</li>\n",
       "\t<li>'d'</li>\n",
       "\t<li>'e'</li>\n",
       "</ol>\n",
       "</dd>\n",
       "\t<dt>$class</dt>\n",
       "\t\t<dd>'factor'</dd>\n",
       "</dl>\n"
      ],
      "text/latex": [
       "\\begin{description}\n",
       "\\item[\\$levels] \\begin{enumerate*}\n",
       "\\item 'a'\n",
       "\\item 'b'\n",
       "\\item 'c'\n",
       "\\item 'd'\n",
       "\\item 'e'\n",
       "\\end{enumerate*}\n",
       "\n",
       "\\item[\\$class] 'factor'\n",
       "\\end{description}\n"
      ],
      "text/markdown": [
       "$levels\n",
       ":   1. 'a'\n",
       "2. 'b'\n",
       "3. 'c'\n",
       "4. 'd'\n",
       "5. 'e'\n",
       "\n",
       "\n",
       "\n",
       "$class\n",
       ":   'factor'\n",
       "\n",
       "\n"
      ],
      "text/plain": [
       "$levels\n",
       "[1] \"a\" \"b\" \"c\" \"d\" \"e\"\n",
       "\n",
       "$class\n",
       "[1] \"factor\"\n"
      ]
     },
     "metadata": {},
     "output_type": "display_data"
    }
   ],
   "source": [
    "attributes(fac)"
   ]
  },
  {
   "cell_type": "code",
   "execution_count": 113,
   "metadata": {
    "collapsed": false
   },
   "outputs": [
    {
     "ename": "ERROR",
     "evalue": "Error in View(dfr): 'View()' not yet supported in the Jupyter R kernel\n",
     "output_type": "error",
     "traceback": [
      "Error in View(dfr): 'View()' not yet supported in the Jupyter R kernel\nTraceback:\n",
      "1. View(dfr)",
      "2. stop(sQuote(\"View()\"), \" not yet supported in the Jupyter R kernel\")"
     ]
    }
   ],
   "source": [
    "# Visualizing 2D variables [Matrices / DataFrames]\n",
    "# Doesn't work on R notebook\n",
    "View(dfr)\n",
    "new_dfr <- edit(dfr)\n",
    "fix(dfr)"
   ]
  },
  {
   "cell_type": "markdown",
   "metadata": {},
   "source": [
    "## The Workspace"
   ]
  },
  {
   "cell_type": "code",
   "execution_count": 122,
   "metadata": {
    "collapsed": false
   },
   "outputs": [
    {
     "data": {
      "text/html": [
       "<ol class=list-inline>\n",
       "\t<li>'bangla'</li>\n",
       "\t<li>'bool'</li>\n",
       "\t<li>'dfr'</li>\n",
       "\t<li>'fac'</li>\n",
       "\t<li>'gender'</li>\n",
       "\t<li>'gender_char'</li>\n",
       "\t<li>'gender_fac'</li>\n",
       "\t<li>'hw'</li>\n",
       "\t<li>'i'</li>\n",
       "\t<li>'my_global_variable'</li>\n",
       "\t<li>'my_local_variable'</li>\n",
       "\t<li>'num'</li>\n",
       "\t<li>'peach'</li>\n",
       "\t<li>'pear'</li>\n",
       "\t<li>'plum'</li>\n",
       "\t<li>'sushi'</li>\n",
       "\t<li>'ulams_spiral'</li>\n",
       "\t<li>'x'</li>\n",
       "\t<li>'xy'</li>\n",
       "\t<li>'y'</li>\n",
       "\t<li>'z'</li>\n",
       "\t<li>'zz'</li>\n",
       "</ol>\n"
      ],
      "text/latex": [
       "\\begin{enumerate*}\n",
       "\\item 'bangla'\n",
       "\\item 'bool'\n",
       "\\item 'dfr'\n",
       "\\item 'fac'\n",
       "\\item 'gender'\n",
       "\\item 'gender\\_char'\n",
       "\\item 'gender\\_fac'\n",
       "\\item 'hw'\n",
       "\\item 'i'\n",
       "\\item 'my\\_global\\_variable'\n",
       "\\item 'my\\_local\\_variable'\n",
       "\\item 'num'\n",
       "\\item 'peach'\n",
       "\\item 'pear'\n",
       "\\item 'plum'\n",
       "\\item 'sushi'\n",
       "\\item 'ulams\\_spiral'\n",
       "\\item 'x'\n",
       "\\item 'xy'\n",
       "\\item 'y'\n",
       "\\item 'z'\n",
       "\\item 'zz'\n",
       "\\end{enumerate*}\n"
      ],
      "text/markdown": [
       "1. 'bangla'\n",
       "2. 'bool'\n",
       "3. 'dfr'\n",
       "4. 'fac'\n",
       "5. 'gender'\n",
       "6. 'gender_char'\n",
       "7. 'gender_fac'\n",
       "8. 'hw'\n",
       "9. 'i'\n",
       "10. 'my_global_variable'\n",
       "11. 'my_local_variable'\n",
       "12. 'num'\n",
       "13. 'peach'\n",
       "14. 'pear'\n",
       "15. 'plum'\n",
       "16. 'sushi'\n",
       "17. 'ulams_spiral'\n",
       "18. 'x'\n",
       "19. 'xy'\n",
       "20. 'y'\n",
       "21. 'z'\n",
       "22. 'zz'\n",
       "\n",
       "\n"
      ],
      "text/plain": [
       " [1] \"bangla\"             \"bool\"               \"dfr\"               \n",
       " [4] \"fac\"                \"gender\"             \"gender_char\"       \n",
       " [7] \"gender_fac\"         \"hw\"                 \"i\"                 \n",
       "[10] \"my_global_variable\" \"my_local_variable\"  \"num\"               \n",
       "[13] \"peach\"              \"pear\"               \"plum\"              \n",
       "[16] \"sushi\"              \"ulams_spiral\"       \"x\"                 \n",
       "[19] \"xy\"                 \"y\"                  \"z\"                 \n",
       "[22] \"zz\"                "
      ]
     },
     "metadata": {},
     "output_type": "display_data"
    }
   ],
   "source": [
    "# Create some variables to find\n",
    "peach <- 1\n",
    "plum <- 'fruity'\n",
    "pear <- TRUE\n",
    "ls()"
   ]
  },
  {
   "cell_type": "code",
   "execution_count": 125,
   "metadata": {
    "collapsed": false
   },
   "outputs": [
    {
     "data": {
      "text/html": [
       "<ol class=list-inline>\n",
       "\t<li>'peach'</li>\n",
       "\t<li>'pear'</li>\n",
       "</ol>\n"
      ],
      "text/latex": [
       "\\begin{enumerate*}\n",
       "\\item 'peach'\n",
       "\\item 'pear'\n",
       "\\end{enumerate*}\n"
      ],
      "text/markdown": [
       "1. 'peach'\n",
       "2. 'pear'\n",
       "\n",
       "\n"
      ],
      "text/plain": [
       "[1] \"peach\" \"pear\" "
      ]
     },
     "metadata": {},
     "output_type": "display_data"
    }
   ],
   "source": [
    "# Finding the variables that contain 'ea'\n",
    "ls(pattern=\"ea\")"
   ]
  },
  {
   "cell_type": "markdown",
   "metadata": {},
   "source": [
    "## Chapter 4\n",
    "### Vectors, Matrices & Arrays"
   ]
  },
  {
   "cell_type": "markdown",
   "metadata": {},
   "source": [
    "#### Vectors"
   ]
  },
  {
   "cell_type": "code",
   "execution_count": 127,
   "metadata": {
    "collapsed": false
   },
   "outputs": [
    {
     "data": {
      "text/html": [
       "<ol class=list-inline>\n",
       "\t<li>8.5</li>\n",
       "\t<li>7.5</li>\n",
       "\t<li>6.5</li>\n",
       "\t<li>5.5</li>\n",
       "\t<li>4.5</li>\n",
       "</ol>\n"
      ],
      "text/latex": [
       "\\begin{enumerate*}\n",
       "\\item 8.5\n",
       "\\item 7.5\n",
       "\\item 6.5\n",
       "\\item 5.5\n",
       "\\item 4.5\n",
       "\\end{enumerate*}\n"
      ],
      "text/markdown": [
       "1. 8.5\n",
       "2. 7.5\n",
       "3. 6.5\n",
       "4. 5.5\n",
       "5. 4.5\n",
       "\n",
       "\n"
      ],
      "text/plain": [
       "[1] 8.5 7.5 6.5 5.5 4.5"
      ]
     },
     "metadata": {},
     "output_type": "display_data"
    }
   ],
   "source": [
    "# Sequence of numbers from 8.5 down to 4.5\n",
    "8.5:4.5"
   ]
  },
  {
   "cell_type": "code",
   "execution_count": 128,
   "metadata": {
    "collapsed": false
   },
   "outputs": [
    {
     "data": {
      "text/html": [
       "<ol class=list-inline>\n",
       "\t<li>1</li>\n",
       "\t<li>1</li>\n",
       "\t<li>2</li>\n",
       "\t<li>3</li>\n",
       "\t<li>5</li>\n",
       "\t<li>8</li>\n",
       "\t<li>13</li>\n",
       "</ol>\n"
      ],
      "text/latex": [
       "\\begin{enumerate*}\n",
       "\\item 1\n",
       "\\item 1\n",
       "\\item 2\n",
       "\\item 3\n",
       "\\item 5\n",
       "\\item 8\n",
       "\\item 13\n",
       "\\end{enumerate*}\n"
      ],
      "text/markdown": [
       "1. 1\n",
       "2. 1\n",
       "3. 2\n",
       "4. 3\n",
       "5. 5\n",
       "6. 8\n",
       "7. 13\n",
       "\n",
       "\n"
      ],
      "text/plain": [
       "[1]  1  1  2  3  5  8 13"
      ]
     },
     "metadata": {},
     "output_type": "display_data"
    }
   ],
   "source": [
    "# Values concatenated into single vector\n",
    "c(1, 1:3, c(5, 8, 13))"
   ]
  },
  {
   "cell_type": "code",
   "execution_count": 129,
   "metadata": {
    "collapsed": false
   },
   "outputs": [
    {
     "data": {
      "text/html": [
       "<ol class=list-inline>\n",
       "\t<li>0</li>\n",
       "\t<li>0</li>\n",
       "\t<li>0</li>\n",
       "\t<li>0</li>\n",
       "\t<li>0</li>\n",
       "</ol>\n"
      ],
      "text/latex": [
       "\\begin{enumerate*}\n",
       "\\item 0\n",
       "\\item 0\n",
       "\\item 0\n",
       "\\item 0\n",
       "\\item 0\n",
       "\\end{enumerate*}\n"
      ],
      "text/markdown": [
       "1. 0\n",
       "2. 0\n",
       "3. 0\n",
       "4. 0\n",
       "5. 0\n",
       "\n",
       "\n"
      ],
      "text/plain": [
       "[1] 0 0 0 0 0"
      ]
     },
     "metadata": {},
     "output_type": "display_data"
    }
   ],
   "source": [
    "vector(\"numeric\", 5)"
   ]
  },
  {
   "cell_type": "code",
   "execution_count": 130,
   "metadata": {
    "collapsed": false
   },
   "outputs": [
    {
     "data": {
      "text/html": [
       "<ol class=list-inline>\n",
       "\t<li>0+0i</li>\n",
       "\t<li>0+0i</li>\n",
       "\t<li>0+0i</li>\n",
       "\t<li>0+0i</li>\n",
       "\t<li>0+0i</li>\n",
       "</ol>\n"
      ],
      "text/latex": [
       "\\begin{enumerate*}\n",
       "\\item 0+0i\n",
       "\\item 0+0i\n",
       "\\item 0+0i\n",
       "\\item 0+0i\n",
       "\\item 0+0i\n",
       "\\end{enumerate*}\n"
      ],
      "text/markdown": [
       "1. 0+0i\n",
       "2. 0+0i\n",
       "3. 0+0i\n",
       "4. 0+0i\n",
       "5. 0+0i\n",
       "\n",
       "\n"
      ],
      "text/plain": [
       "[1] 0+0i 0+0i 0+0i 0+0i 0+0i"
      ]
     },
     "metadata": {},
     "output_type": "display_data"
    }
   ],
   "source": [
    "vector(\"complex\", 5)"
   ]
  },
  {
   "cell_type": "code",
   "execution_count": 131,
   "metadata": {
    "collapsed": false
   },
   "outputs": [
    {
     "data": {
      "text/html": [
       "<ol class=list-inline>\n",
       "\t<li>FALSE</li>\n",
       "\t<li>FALSE</li>\n",
       "\t<li>FALSE</li>\n",
       "\t<li>FALSE</li>\n",
       "\t<li>FALSE</li>\n",
       "</ol>\n"
      ],
      "text/latex": [
       "\\begin{enumerate*}\n",
       "\\item FALSE\n",
       "\\item FALSE\n",
       "\\item FALSE\n",
       "\\item FALSE\n",
       "\\item FALSE\n",
       "\\end{enumerate*}\n"
      ],
      "text/markdown": [
       "1. FALSE\n",
       "2. FALSE\n",
       "3. FALSE\n",
       "4. FALSE\n",
       "5. FALSE\n",
       "\n",
       "\n"
      ],
      "text/plain": [
       "[1] FALSE FALSE FALSE FALSE FALSE"
      ]
     },
     "metadata": {},
     "output_type": "display_data"
    }
   ],
   "source": [
    "vector(\"logical\", 5)"
   ]
  },
  {
   "cell_type": "code",
   "execution_count": 132,
   "metadata": {
    "collapsed": false
   },
   "outputs": [
    {
     "data": {
      "text/html": [
       "<ol class=list-inline>\n",
       "\t<li>''</li>\n",
       "\t<li>''</li>\n",
       "\t<li>''</li>\n",
       "\t<li>''</li>\n",
       "\t<li>''</li>\n",
       "</ol>\n"
      ],
      "text/latex": [
       "\\begin{enumerate*}\n",
       "\\item ''\n",
       "\\item ''\n",
       "\\item ''\n",
       "\\item ''\n",
       "\\item ''\n",
       "\\end{enumerate*}\n"
      ],
      "text/markdown": [
       "1. ''\n",
       "2. ''\n",
       "3. ''\n",
       "4. ''\n",
       "5. ''\n",
       "\n",
       "\n"
      ],
      "text/plain": [
       "[1] \"\" \"\" \"\" \"\" \"\""
      ]
     },
     "metadata": {},
     "output_type": "display_data"
    }
   ],
   "source": [
    "vector(\"character\", 5)"
   ]
  },
  {
   "cell_type": "code",
   "execution_count": 133,
   "metadata": {
    "collapsed": false
   },
   "outputs": [
    {
     "data": {
      "text/html": [
       "<ol>\n",
       "\t<li>NULL</li>\n",
       "\t<li>NULL</li>\n",
       "\t<li>NULL</li>\n",
       "\t<li>NULL</li>\n",
       "\t<li>NULL</li>\n",
       "</ol>\n"
      ],
      "text/latex": [
       "\\begin{enumerate}\n",
       "\\item NULL\n",
       "\\item NULL\n",
       "\\item NULL\n",
       "\\item NULL\n",
       "\\item NULL\n",
       "\\end{enumerate}\n"
      ],
      "text/markdown": [
       "1. NULL\n",
       "2. NULL\n",
       "3. NULL\n",
       "4. NULL\n",
       "5. NULL\n",
       "\n",
       "\n"
      ],
      "text/plain": [
       "[[1]]\n",
       "NULL\n",
       "\n",
       "[[2]]\n",
       "NULL\n",
       "\n",
       "[[3]]\n",
       "NULL\n",
       "\n",
       "[[4]]\n",
       "NULL\n",
       "\n",
       "[[5]]\n",
       "NULL\n"
      ]
     },
     "metadata": {},
     "output_type": "display_data"
    }
   ],
   "source": [
    "vector(\"list\", 5)"
   ]
  },
  {
   "cell_type": "code",
   "execution_count": 134,
   "metadata": {
    "collapsed": false
   },
   "outputs": [
    {
     "data": {
      "text/html": [
       "<ol class=list-inline>\n",
       "\t<li>0</li>\n",
       "\t<li>0</li>\n",
       "\t<li>0</li>\n",
       "\t<li>0</li>\n",
       "\t<li>0</li>\n",
       "</ol>\n"
      ],
      "text/latex": [
       "\\begin{enumerate*}\n",
       "\\item 0\n",
       "\\item 0\n",
       "\\item 0\n",
       "\\item 0\n",
       "\\item 0\n",
       "\\end{enumerate*}\n"
      ],
      "text/markdown": [
       "1. 0\n",
       "2. 0\n",
       "3. 0\n",
       "4. 0\n",
       "5. 0\n",
       "\n",
       "\n"
      ],
      "text/plain": [
       "[1] 0 0 0 0 0"
      ]
     },
     "metadata": {},
     "output_type": "display_data"
    }
   ],
   "source": [
    "numeric(5)"
   ]
  },
  {
   "cell_type": "code",
   "execution_count": 135,
   "metadata": {
    "collapsed": false
   },
   "outputs": [
    {
     "data": {
      "text/html": [
       "<ol class=list-inline>\n",
       "\t<li>0+0i</li>\n",
       "\t<li>0+0i</li>\n",
       "\t<li>0+0i</li>\n",
       "\t<li>0+0i</li>\n",
       "\t<li>0+0i</li>\n",
       "</ol>\n"
      ],
      "text/latex": [
       "\\begin{enumerate*}\n",
       "\\item 0+0i\n",
       "\\item 0+0i\n",
       "\\item 0+0i\n",
       "\\item 0+0i\n",
       "\\item 0+0i\n",
       "\\end{enumerate*}\n"
      ],
      "text/markdown": [
       "1. 0+0i\n",
       "2. 0+0i\n",
       "3. 0+0i\n",
       "4. 0+0i\n",
       "5. 0+0i\n",
       "\n",
       "\n"
      ],
      "text/plain": [
       "[1] 0+0i 0+0i 0+0i 0+0i 0+0i"
      ]
     },
     "metadata": {},
     "output_type": "display_data"
    }
   ],
   "source": [
    "complex(5)"
   ]
  },
  {
   "cell_type": "code",
   "execution_count": 136,
   "metadata": {
    "collapsed": false
   },
   "outputs": [
    {
     "data": {
      "text/html": [
       "<ol class=list-inline>\n",
       "\t<li>FALSE</li>\n",
       "\t<li>FALSE</li>\n",
       "\t<li>FALSE</li>\n",
       "\t<li>FALSE</li>\n",
       "\t<li>FALSE</li>\n",
       "</ol>\n"
      ],
      "text/latex": [
       "\\begin{enumerate*}\n",
       "\\item FALSE\n",
       "\\item FALSE\n",
       "\\item FALSE\n",
       "\\item FALSE\n",
       "\\item FALSE\n",
       "\\end{enumerate*}\n"
      ],
      "text/markdown": [
       "1. FALSE\n",
       "2. FALSE\n",
       "3. FALSE\n",
       "4. FALSE\n",
       "5. FALSE\n",
       "\n",
       "\n"
      ],
      "text/plain": [
       "[1] FALSE FALSE FALSE FALSE FALSE"
      ]
     },
     "metadata": {},
     "output_type": "display_data"
    }
   ],
   "source": [
    "logical(5)"
   ]
  },
  {
   "cell_type": "code",
   "execution_count": 137,
   "metadata": {
    "collapsed": false
   },
   "outputs": [
    {
     "data": {
      "text/html": [
       "<ol class=list-inline>\n",
       "\t<li>''</li>\n",
       "\t<li>''</li>\n",
       "\t<li>''</li>\n",
       "\t<li>''</li>\n",
       "\t<li>''</li>\n",
       "</ol>\n"
      ],
      "text/latex": [
       "\\begin{enumerate*}\n",
       "\\item ''\n",
       "\\item ''\n",
       "\\item ''\n",
       "\\item ''\n",
       "\\item ''\n",
       "\\end{enumerate*}\n"
      ],
      "text/markdown": [
       "1. ''\n",
       "2. ''\n",
       "3. ''\n",
       "4. ''\n",
       "5. ''\n",
       "\n",
       "\n"
      ],
      "text/plain": [
       "[1] \"\" \"\" \"\" \"\" \"\""
      ]
     },
     "metadata": {},
     "output_type": "display_data"
    }
   ],
   "source": [
    "character(5)"
   ]
  },
  {
   "cell_type": "markdown",
   "metadata": {},
   "source": [
    "#### Sequences"
   ]
  },
  {
   "cell_type": "code",
   "execution_count": 138,
   "metadata": {
    "collapsed": false
   },
   "outputs": [
    {
     "data": {
      "text/html": [
       "<ol class=list-inline>\n",
       "\t<li>3</li>\n",
       "\t<li>4</li>\n",
       "\t<li>5</li>\n",
       "\t<li>6</li>\n",
       "\t<li>7</li>\n",
       "\t<li>8</li>\n",
       "\t<li>9</li>\n",
       "\t<li>10</li>\n",
       "\t<li>11</li>\n",
       "\t<li>12</li>\n",
       "</ol>\n"
      ],
      "text/latex": [
       "\\begin{enumerate*}\n",
       "\\item 3\n",
       "\\item 4\n",
       "\\item 5\n",
       "\\item 6\n",
       "\\item 7\n",
       "\\item 8\n",
       "\\item 9\n",
       "\\item 10\n",
       "\\item 11\n",
       "\\item 12\n",
       "\\end{enumerate*}\n"
      ],
      "text/markdown": [
       "1. 3\n",
       "2. 4\n",
       "3. 5\n",
       "4. 6\n",
       "5. 7\n",
       "6. 8\n",
       "7. 9\n",
       "8. 10\n",
       "9. 11\n",
       "10. 12\n",
       "\n",
       "\n"
      ],
      "text/plain": [
       " [1]  3  4  5  6  7  8  9 10 11 12"
      ]
     },
     "metadata": {},
     "output_type": "display_data"
    }
   ],
   "source": [
    "seq.int(3, 12)"
   ]
  },
  {
   "cell_type": "code",
   "execution_count": 139,
   "metadata": {
    "collapsed": false
   },
   "outputs": [
    {
     "data": {
      "text/html": [
       "<ol class=list-inline>\n",
       "\t<li>0.1</li>\n",
       "\t<li>0.09</li>\n",
       "\t<li>0.08</li>\n",
       "\t<li>0.07</li>\n",
       "\t<li>0.06</li>\n",
       "\t<li>0.05</li>\n",
       "\t<li>0.04</li>\n",
       "\t<li>0.03</li>\n",
       "\t<li>0.02</li>\n",
       "\t<li>0.01</li>\n",
       "</ol>\n"
      ],
      "text/latex": [
       "\\begin{enumerate*}\n",
       "\\item 0.1\n",
       "\\item 0.09\n",
       "\\item 0.08\n",
       "\\item 0.07\n",
       "\\item 0.06\n",
       "\\item 0.05\n",
       "\\item 0.04\n",
       "\\item 0.03\n",
       "\\item 0.02\n",
       "\\item 0.01\n",
       "\\end{enumerate*}\n"
      ],
      "text/markdown": [
       "1. 0.1\n",
       "2. 0.09\n",
       "3. 0.08\n",
       "4. 0.07\n",
       "5. 0.06\n",
       "6. 0.05\n",
       "7. 0.04\n",
       "8. 0.03\n",
       "9. 0.02\n",
       "10. 0.01\n",
       "\n",
       "\n"
      ],
      "text/plain": [
       " [1] 0.10 0.09 0.08 0.07 0.06 0.05 0.04 0.03 0.02 0.01"
      ]
     },
     "metadata": {},
     "output_type": "display_data"
    }
   ],
   "source": [
    "seq.int(.1, 0.01, -0.01)"
   ]
  },
  {
   "cell_type": "code",
   "execution_count": 140,
   "metadata": {
    "collapsed": true
   },
   "outputs": [],
   "source": [
    "n <- 0"
   ]
  },
  {
   "cell_type": "code",
   "execution_count": 141,
   "metadata": {
    "collapsed": false
   },
   "outputs": [
    {
     "data": {
      "text/html": [
       "<ol class=list-inline>\n",
       "\t<li>1</li>\n",
       "\t<li>0</li>\n",
       "</ol>\n"
      ],
      "text/latex": [
       "\\begin{enumerate*}\n",
       "\\item 1\n",
       "\\item 0\n",
       "\\end{enumerate*}\n"
      ],
      "text/markdown": [
       "1. 1\n",
       "2. 0\n",
       "\n",
       "\n"
      ],
      "text/plain": [
       "[1] 1 0"
      ]
     },
     "metadata": {},
     "output_type": "display_data"
    }
   ],
   "source": [
    "1:n"
   ]
  },
  {
   "cell_type": "code",
   "execution_count": 143,
   "metadata": {
    "collapsed": false
   },
   "outputs": [
    {
     "name": "stdout",
     "output_type": "stream",
     "text": [
      "integer(0)\n"
     ]
    }
   ],
   "source": [
    "print(seq_len(n))"
   ]
  },
  {
   "cell_type": "code",
   "execution_count": 145,
   "metadata": {
    "collapsed": false
   },
   "outputs": [
    {
     "name": "stdout",
     "output_type": "stream",
     "text": [
      "[1] \"Peter\"\n",
      "[1] \"Piper\"\n",
      "[1] \"picked\"\n",
      "[1] \"a\"\n",
      "[1] \"peck\"\n",
      "[1] \"of\"\n",
      "[1] \"pickled\"\n",
      "[1] \"peppers\"\n"
     ]
    }
   ],
   "source": [
    "# seq_along creates a sequence from 1 upto the length of its input\n",
    "pp <- c(\"Peter\", \"Piper\", \"picked\", \"a\", \"peck\", \"of\", \"pickled\", \"peppers\")\n",
    "for (i in seq_along(pp))\n",
    "    print(pp[i])"
   ]
  },
  {
   "cell_type": "markdown",
   "metadata": {},
   "source": [
    "#### Lengths"
   ]
  },
  {
   "cell_type": "code",
   "execution_count": 146,
   "metadata": {
    "collapsed": false
   },
   "outputs": [
    {
     "data": {
      "text/html": [
       "5"
      ],
      "text/latex": [
       "5"
      ],
      "text/markdown": [
       "5"
      ],
      "text/plain": [
       "[1] 5"
      ]
     },
     "metadata": {},
     "output_type": "display_data"
    }
   ],
   "source": [
    "length(1:5)"
   ]
  },
  {
   "cell_type": "code",
   "execution_count": 147,
   "metadata": {
    "collapsed": false
   },
   "outputs": [
    {
     "data": {
      "text/html": [
       "2"
      ],
      "text/latex": [
       "2"
      ],
      "text/markdown": [
       "2"
      ],
      "text/plain": [
       "[1] 2"
      ]
     },
     "metadata": {},
     "output_type": "display_data"
    }
   ],
   "source": [
    "length(c(TRUE, FALSE))"
   ]
  },
  {
   "cell_type": "code",
   "execution_count": 151,
   "metadata": {
    "collapsed": false
   },
   "outputs": [
    {
     "data": {
      "text/html": [
       "4"
      ],
      "text/latex": [
       "4"
      ],
      "text/markdown": [
       "4"
      ],
      "text/plain": [
       "[1] 4"
      ]
     },
     "metadata": {},
     "output_type": "display_data"
    }
   ],
   "source": [
    "# Get overall length\n",
    "sn <- c(\"Hello\", \"R\", \"Data\", \"Science\")\n",
    "length(sn)"
   ]
  },
  {
   "cell_type": "code",
   "execution_count": 150,
   "metadata": {
    "collapsed": false
   },
   "outputs": [
    {
     "data": {
      "text/html": [
       "<ol class=list-inline>\n",
       "\t<li>5</li>\n",
       "\t<li>1</li>\n",
       "\t<li>4</li>\n",
       "\t<li>7</li>\n",
       "</ol>\n"
      ],
      "text/latex": [
       "\\begin{enumerate*}\n",
       "\\item 5\n",
       "\\item 1\n",
       "\\item 4\n",
       "\\item 7\n",
       "\\end{enumerate*}\n"
      ],
      "text/markdown": [
       "1. 5\n",
       "2. 1\n",
       "3. 4\n",
       "4. 7\n",
       "\n",
       "\n"
      ],
      "text/plain": [
       "[1] 5 1 4 7"
      ]
     },
     "metadata": {},
     "output_type": "display_data"
    }
   ],
   "source": [
    "# Getting individual string length\n",
    "nchar(sn)"
   ]
  },
  {
   "cell_type": "code",
   "execution_count": 154,
   "metadata": {
    "collapsed": false
   },
   "outputs": [
    {
     "data": {
      "text/html": [
       "<ol class=list-inline>\n",
       "\t<li>1</li>\n",
       "\t<li>0</li>\n",
       "\t<li>0</li>\n",
       "</ol>\n"
      ],
      "text/latex": [
       "\\begin{enumerate*}\n",
       "\\item 1\n",
       "\\item 0\n",
       "\\item 0\n",
       "\\end{enumerate*}\n"
      ],
      "text/markdown": [
       "1. 1\n",
       "2. 0\n",
       "3. 0\n",
       "\n",
       "\n"
      ],
      "text/plain": [
       "[1] 1 0 0"
      ]
     },
     "metadata": {},
     "output_type": "display_data"
    }
   ],
   "source": [
    "# Assigning a new length to a vector\n",
    "poincare <- c(1, 0, 0, 0, 2, 0, 2, 0) # #See http://oeis.org/A051629\n",
    "length(poincare) <- 3\n",
    "poincare"
   ]
  },
  {
   "cell_type": "code",
   "execution_count": 155,
   "metadata": {
    "collapsed": false
   },
   "outputs": [
    {
     "name": "stdout",
     "output_type": "stream",
     "text": [
      "[1]  1  0  0 NA NA NA NA NA\n"
     ]
    }
   ],
   "source": [
    "length(poincare) <- 8\n",
    "print(poincare)"
   ]
  },
  {
   "cell_type": "markdown",
   "metadata": {},
   "source": [
    "#### Names"
   ]
  },
  {
   "cell_type": "code",
   "execution_count": 156,
   "metadata": {
    "collapsed": false
   },
   "outputs": [
    {
     "data": {
      "text/html": [
       "<dl class=dl-horizontal>\n",
       "\t<dt>apple</dt>\n",
       "\t\t<dd>1</dd>\n",
       "\t<dt>banana</dt>\n",
       "\t\t<dd>2</dd>\n",
       "\t<dt>kiwi fruit</dt>\n",
       "\t\t<dd>3</dd>\n",
       "\t<dt>4</dt>\n",
       "\t\t<dd>4</dd>\n",
       "</dl>\n"
      ],
      "text/latex": [
       "\\begin{description*}\n",
       "\\item[apple] 1\n",
       "\\item[banana] 2\n",
       "\\item[kiwi fruit] 3\n",
       "\\item[4] 4\n",
       "\\end{description*}\n"
      ],
      "text/markdown": [
       "apple\n",
       ":   1banana\n",
       ":   2kiwi fruit\n",
       ":   34\n",
       ":   4\n",
       "\n"
      ],
      "text/plain": [
       "     apple     banana kiwi fruit            \n",
       "         1          2          3          4 "
      ]
     },
     "metadata": {},
     "output_type": "display_data"
    }
   ],
   "source": [
    "c(apple = 1, banana = 2, \"kiwi fruit\" = 3, 4)"
   ]
  },
  {
   "cell_type": "code",
   "execution_count": 159,
   "metadata": {
    "collapsed": false
   },
   "outputs": [
    {
     "name": "stdout",
     "output_type": "stream",
     "text": [
      "     Apple     banana kiwi fruit            \n",
      "         1          2          3          4 \n"
     ]
    }
   ],
   "source": [
    "# Adding element names to a vector after its creation\n",
    "x <- 1:4\n",
    "names(x) <- c(\"Apple\", \"banana\", \"kiwi fruit\", \"\")\n",
    "print(x)"
   ]
  },
  {
   "cell_type": "code",
   "execution_count": 160,
   "metadata": {
    "collapsed": false
   },
   "outputs": [
    {
     "data": {
      "text/plain": [
       "NULL"
      ]
     },
     "metadata": {},
     "output_type": "display_data"
    }
   ],
   "source": [
    "# If vector has no element names the `names` function returns NULL\n",
    "names(1:4)"
   ]
  },
  {
   "cell_type": "markdown",
   "metadata": {},
   "source": [
    "#### Indexing Vectors"
   ]
  },
  {
   "cell_type": "code",
   "execution_count": 162,
   "metadata": {
    "collapsed": false
   },
   "outputs": [
    {
     "data": {
      "text/html": [
       "<ol class=list-inline>\n",
       "\t<li>1</li>\n",
       "\t<li>4</li>\n",
       "\t<li>9</li>\n",
       "\t<li>16</li>\n",
       "\t<li>25</li>\n",
       "</ol>\n"
      ],
      "text/latex": [
       "\\begin{enumerate*}\n",
       "\\item 1\n",
       "\\item 4\n",
       "\\item 9\n",
       "\\item 16\n",
       "\\item 25\n",
       "\\end{enumerate*}\n"
      ],
      "text/markdown": [
       "1. 1\n",
       "2. 4\n",
       "3. 9\n",
       "4. 16\n",
       "5. 25\n",
       "\n",
       "\n"
      ],
      "text/plain": [
       "[1]  1  4  9 16 25"
      ]
     },
     "metadata": {},
     "output_type": "display_data"
    }
   ],
   "source": [
    "# Consider this vector\n",
    "x <- (1:5) ^ 2; x"
   ]
  },
  {
   "cell_type": "code",
   "execution_count": 164,
   "metadata": {
    "collapsed": false
   },
   "outputs": [
    {
     "data": {
      "text/html": [
       "<ol class=list-inline>\n",
       "\t<li>1</li>\n",
       "\t<li>9</li>\n",
       "\t<li>25</li>\n",
       "</ol>\n"
      ],
      "text/latex": [
       "\\begin{enumerate*}\n",
       "\\item 1\n",
       "\\item 9\n",
       "\\item 25\n",
       "\\end{enumerate*}\n"
      ],
      "text/markdown": [
       "1. 1\n",
       "2. 9\n",
       "3. 25\n",
       "\n",
       "\n"
      ],
      "text/plain": [
       "[1]  1  9 25"
      ]
     },
     "metadata": {},
     "output_type": "display_data"
    }
   ],
   "source": [
    "x[c(1, 3, 5)]"
   ]
  },
  {
   "cell_type": "code",
   "execution_count": 165,
   "metadata": {
    "collapsed": false
   },
   "outputs": [
    {
     "data": {
      "text/html": [
       "<ol class=list-inline>\n",
       "\t<li>1</li>\n",
       "\t<li>9</li>\n",
       "\t<li>25</li>\n",
       "</ol>\n"
      ],
      "text/latex": [
       "\\begin{enumerate*}\n",
       "\\item 1\n",
       "\\item 9\n",
       "\\item 25\n",
       "\\end{enumerate*}\n"
      ],
      "text/markdown": [
       "1. 1\n",
       "2. 9\n",
       "3. 25\n",
       "\n",
       "\n"
      ],
      "text/plain": [
       "[1]  1  9 25"
      ]
     },
     "metadata": {},
     "output_type": "display_data"
    }
   ],
   "source": [
    "x[c(-2, -4)]"
   ]
  },
  {
   "cell_type": "code",
   "execution_count": 167,
   "metadata": {
    "collapsed": false
   },
   "outputs": [
    {
     "data": {
      "text/html": [
       "<ol class=list-inline>\n",
       "\t<li>1</li>\n",
       "\t<li>9</li>\n",
       "\t<li>25</li>\n",
       "</ol>\n"
      ],
      "text/latex": [
       "\\begin{enumerate*}\n",
       "\\item 1\n",
       "\\item 9\n",
       "\\item 25\n",
       "\\end{enumerate*}\n"
      ],
      "text/markdown": [
       "1. 1\n",
       "2. 9\n",
       "3. 25\n",
       "\n",
       "\n"
      ],
      "text/plain": [
       "[1]  1  9 25"
      ]
     },
     "metadata": {},
     "output_type": "display_data"
    }
   ],
   "source": [
    "# Only TRUE indexed element will be returned\n",
    "x[c(TRUE, FALSE, TRUE, FALSE, TRUE)]"
   ]
  },
  {
   "cell_type": "code",
   "execution_count": 168,
   "metadata": {
    "collapsed": true
   },
   "outputs": [],
   "source": [
    "names(x) <- c(\"one\", \"four\", \"nine\", \"sixteen\", \"twenty five\")"
   ]
  },
  {
   "cell_type": "code",
   "execution_count": 170,
   "metadata": {
    "collapsed": false
   },
   "outputs": [
    {
     "data": {
      "text/html": [
       "<dl class=dl-horizontal>\n",
       "\t<dt>one</dt>\n",
       "\t\t<dd>1</dd>\n",
       "\t<dt>nine</dt>\n",
       "\t\t<dd>9</dd>\n",
       "\t<dt>twenty five</dt>\n",
       "\t\t<dd>25</dd>\n",
       "</dl>\n"
      ],
      "text/latex": [
       "\\begin{description*}\n",
       "\\item[one] 1\n",
       "\\item[nine] 9\n",
       "\\item[twenty five] 25\n",
       "\\end{description*}\n"
      ],
      "text/markdown": [
       "one\n",
       ":   1nine\n",
       ":   9twenty five\n",
       ":   25\n",
       "\n"
      ],
      "text/plain": [
       "        one        nine twenty five \n",
       "          1           9          25 "
      ]
     },
     "metadata": {},
     "output_type": "display_data"
    }
   ],
   "source": [
    "x[c(\"one\", \"nine\", \"twenty five\")]"
   ]
  },
  {
   "cell_type": "code",
   "execution_count": 172,
   "metadata": {
    "collapsed": false
   },
   "outputs": [
    {
     "ename": "ERROR",
     "evalue": "Error in x[c(1, -1)]: only 0's may be mixed with negative subscripts\n",
     "output_type": "error",
     "traceback": [
      "Error in x[c(1, -1)]: only 0's may be mixed with negative subscripts\nTraceback:\n"
     ]
    }
   ],
   "source": [
    "# Doesn't make sense [Mixing positive and negative values is not allowed]\n",
    "x[c(1, -1)]"
   ]
  },
  {
   "cell_type": "code",
   "execution_count": 173,
   "metadata": {
    "collapsed": false
   },
   "outputs": [
    {
     "data": {
      "text/html": [
       "<dl class=dl-horizontal>\n",
       "\t<dt>one</dt>\n",
       "\t\t<dd>1</dd>\n",
       "\t<dt>2</dt>\n",
       "\t\t<dd>NA</dd>\n",
       "\t<dt>twenty five</dt>\n",
       "\t\t<dd>25</dd>\n",
       "</dl>\n"
      ],
      "text/latex": [
       "\\begin{description*}\n",
       "\\item[one] 1\n",
       "\\item[2] NA\n",
       "\\item[twenty five] 25\n",
       "\\end{description*}\n"
      ],
      "text/markdown": [
       "one\n",
       ":   12\n",
       ":   NAtwenty five\n",
       ":   25\n",
       "\n"
      ],
      "text/plain": [
       "        one        <NA> twenty five \n",
       "          1          NA          25 "
      ]
     },
     "metadata": {},
     "output_type": "display_data"
    }
   ],
   "source": [
    "x[c(1, NA, 5)]"
   ]
  },
  {
   "cell_type": "code",
   "execution_count": 174,
   "metadata": {
    "collapsed": false
   },
   "outputs": [
    {
     "data": {
      "text/html": [
       "<dl class=dl-horizontal>\n",
       "\t<dt>one</dt>\n",
       "\t\t<dd>1</dd>\n",
       "\t<dt>2</dt>\n",
       "\t\t<dd>NA</dd>\n",
       "\t<dt>twenty five</dt>\n",
       "\t\t<dd>25</dd>\n",
       "</dl>\n"
      ],
      "text/latex": [
       "\\begin{description*}\n",
       "\\item[one] 1\n",
       "\\item[2] NA\n",
       "\\item[twenty five] 25\n",
       "\\end{description*}\n"
      ],
      "text/markdown": [
       "one\n",
       ":   12\n",
       ":   NAtwenty five\n",
       ":   25\n",
       "\n"
      ],
      "text/plain": [
       "        one        <NA> twenty five \n",
       "          1          NA          25 "
      ]
     },
     "metadata": {},
     "output_type": "display_data"
    }
   ],
   "source": [
    "x[c(TRUE, FALSE, NA, FALSE, TRUE)]"
   ]
  },
  {
   "cell_type": "code",
   "execution_count": 175,
   "metadata": {
    "collapsed": false
   },
   "outputs": [
    {
     "ename": "ERROR",
     "evalue": "Error in x[c(-2, NA)]: only 0's may be mixed with negative subscripts\n",
     "output_type": "error",
     "traceback": [
      "Error in x[c(-2, NA)]: only 0's may be mixed with negative subscripts\nTraceback:\n"
     ]
    }
   ],
   "source": [
    "# This doesn't make sense either\n",
    "x[c(-2, NA)]"
   ]
  },
  {
   "cell_type": "code",
   "execution_count": 176,
   "metadata": {
    "collapsed": false
   },
   "outputs": [
    {
     "data": {
      "text/html": [
       "<strong>NA:</strong> NA"
      ],
      "text/latex": [
       "\\textbf{NA:} NA"
      ],
      "text/markdown": [
       "**NA:** NA"
      ],
      "text/plain": [
       "<NA> \n",
       "  NA "
      ]
     },
     "metadata": {},
     "output_type": "display_data"
    }
   ],
   "source": [
    "x[6]"
   ]
  },
  {
   "cell_type": "code",
   "execution_count": 178,
   "metadata": {
    "collapsed": false
   },
   "outputs": [
    {
     "data": {
      "text/html": [
       "<strong>one:</strong> 1"
      ],
      "text/latex": [
       "\\textbf{one:} 1"
      ],
      "text/markdown": [
       "**one:** 1"
      ],
      "text/plain": [
       "one \n",
       "  1 "
      ]
     },
     "metadata": {},
     "output_type": "display_data"
    }
   ],
   "source": [
    "# Passing fraction as indices still work [not recommended]\n",
    "x[1.9]"
   ]
  },
  {
   "cell_type": "code",
   "execution_count": 179,
   "metadata": {
    "collapsed": false
   },
   "outputs": [
    {
     "data": {
      "text/html": [
       "<dl class=dl-horizontal>\n",
       "\t<dt>four</dt>\n",
       "\t\t<dd>4</dd>\n",
       "\t<dt>nine</dt>\n",
       "\t\t<dd>9</dd>\n",
       "\t<dt>sixteen</dt>\n",
       "\t\t<dd>16</dd>\n",
       "\t<dt>twenty five</dt>\n",
       "\t\t<dd>25</dd>\n",
       "</dl>\n"
      ],
      "text/latex": [
       "\\begin{description*}\n",
       "\\item[four] 4\n",
       "\\item[nine] 9\n",
       "\\item[sixteen] 16\n",
       "\\item[twenty five] 25\n",
       "\\end{description*}\n"
      ],
      "text/markdown": [
       "four\n",
       ":   4nine\n",
       ":   9sixteen\n",
       ":   16twenty five\n",
       ":   25\n",
       "\n"
      ],
      "text/plain": [
       "       four        nine     sixteen twenty five \n",
       "          4           9          16          25 "
      ]
     },
     "metadata": {},
     "output_type": "display_data"
    }
   ],
   "source": [
    "x[-1.9]"
   ]
  },
  {
   "cell_type": "markdown",
   "metadata": {},
   "source": [
    "#### Vector Recycling & Repitition"
   ]
  },
  {
   "cell_type": "code",
   "execution_count": 180,
   "metadata": {
    "collapsed": false
   },
   "outputs": [
    {
     "data": {
      "text/html": [
       "<ol class=list-inline>\n",
       "\t<li>2</li>\n",
       "\t<li>3</li>\n",
       "\t<li>4</li>\n",
       "\t<li>5</li>\n",
       "\t<li>6</li>\n",
       "</ol>\n"
      ],
      "text/latex": [
       "\\begin{enumerate*}\n",
       "\\item 2\n",
       "\\item 3\n",
       "\\item 4\n",
       "\\item 5\n",
       "\\item 6\n",
       "\\end{enumerate*}\n"
      ],
      "text/markdown": [
       "1. 2\n",
       "2. 3\n",
       "3. 4\n",
       "4. 5\n",
       "5. 6\n",
       "\n",
       "\n"
      ],
      "text/plain": [
       "[1] 2 3 4 5 6"
      ]
     },
     "metadata": {},
     "output_type": "display_data"
    }
   ],
   "source": [
    "1:5 + 1"
   ]
  },
  {
   "cell_type": "code",
   "execution_count": 181,
   "metadata": {
    "collapsed": false
   },
   "outputs": [
    {
     "data": {
      "text/html": [
       "<ol class=list-inline>\n",
       "\t<li>2</li>\n",
       "\t<li>3</li>\n",
       "\t<li>4</li>\n",
       "\t<li>5</li>\n",
       "\t<li>6</li>\n",
       "</ol>\n"
      ],
      "text/latex": [
       "\\begin{enumerate*}\n",
       "\\item 2\n",
       "\\item 3\n",
       "\\item 4\n",
       "\\item 5\n",
       "\\item 6\n",
       "\\end{enumerate*}\n"
      ],
      "text/markdown": [
       "1. 2\n",
       "2. 3\n",
       "3. 4\n",
       "4. 5\n",
       "5. 6\n",
       "\n",
       "\n"
      ],
      "text/plain": [
       "[1] 2 3 4 5 6"
      ]
     },
     "metadata": {},
     "output_type": "display_data"
    }
   ],
   "source": [
    "1 + 1:5"
   ]
  },
  {
   "cell_type": "code",
   "execution_count": 182,
   "metadata": {
    "collapsed": false
   },
   "outputs": [
    {
     "data": {
      "text/html": [
       "<ol class=list-inline>\n",
       "\t<li>2</li>\n",
       "\t<li>4</li>\n",
       "\t<li>6</li>\n",
       "\t<li>8</li>\n",
       "\t<li>10</li>\n",
       "\t<li>7</li>\n",
       "\t<li>9</li>\n",
       "\t<li>11</li>\n",
       "\t<li>13</li>\n",
       "\t<li>15</li>\n",
       "\t<li>12</li>\n",
       "\t<li>14</li>\n",
       "\t<li>16</li>\n",
       "\t<li>18</li>\n",
       "\t<li>20</li>\n",
       "</ol>\n"
      ],
      "text/latex": [
       "\\begin{enumerate*}\n",
       "\\item 2\n",
       "\\item 4\n",
       "\\item 6\n",
       "\\item 8\n",
       "\\item 10\n",
       "\\item 7\n",
       "\\item 9\n",
       "\\item 11\n",
       "\\item 13\n",
       "\\item 15\n",
       "\\item 12\n",
       "\\item 14\n",
       "\\item 16\n",
       "\\item 18\n",
       "\\item 20\n",
       "\\end{enumerate*}\n"
      ],
      "text/markdown": [
       "1. 2\n",
       "2. 4\n",
       "3. 6\n",
       "4. 8\n",
       "5. 10\n",
       "6. 7\n",
       "7. 9\n",
       "8. 11\n",
       "9. 13\n",
       "10. 15\n",
       "11. 12\n",
       "12. 14\n",
       "13. 16\n",
       "14. 18\n",
       "15. 20\n",
       "\n",
       "\n"
      ],
      "text/plain": [
       " [1]  2  4  6  8 10  7  9 11 13 15 12 14 16 18 20"
      ]
     },
     "metadata": {},
     "output_type": "display_data"
    }
   ],
   "source": [
    "# Broadcasting\n",
    "1:5 + 1:15"
   ]
  },
  {
   "cell_type": "code",
   "execution_count": 183,
   "metadata": {
    "collapsed": false
   },
   "outputs": [
    {
     "name": "stderr",
     "output_type": "stream",
     "text": [
      "Warning message in 1:5 + 1:7:\n",
      "\"longer object length is not a multiple of shorter object length\""
     ]
    },
    {
     "data": {
      "text/html": [
       "<ol class=list-inline>\n",
       "\t<li>2</li>\n",
       "\t<li>4</li>\n",
       "\t<li>6</li>\n",
       "\t<li>8</li>\n",
       "\t<li>10</li>\n",
       "\t<li>7</li>\n",
       "\t<li>9</li>\n",
       "</ol>\n"
      ],
      "text/latex": [
       "\\begin{enumerate*}\n",
       "\\item 2\n",
       "\\item 4\n",
       "\\item 6\n",
       "\\item 8\n",
       "\\item 10\n",
       "\\item 7\n",
       "\\item 9\n",
       "\\end{enumerate*}\n"
      ],
      "text/markdown": [
       "1. 2\n",
       "2. 4\n",
       "3. 6\n",
       "4. 8\n",
       "5. 10\n",
       "6. 7\n",
       "7. 9\n",
       "\n",
       "\n"
      ],
      "text/plain": [
       "[1]  2  4  6  8 10  7  9"
      ]
     },
     "metadata": {},
     "output_type": "display_data"
    }
   ],
   "source": [
    "1:5 + 1:7"
   ]
  },
  {
   "cell_type": "code",
   "execution_count": 184,
   "metadata": {
    "collapsed": false
   },
   "outputs": [
    {
     "data": {
      "text/html": [
       "<ol class=list-inline>\n",
       "\t<li>1</li>\n",
       "\t<li>2</li>\n",
       "\t<li>3</li>\n",
       "\t<li>4</li>\n",
       "\t<li>5</li>\n",
       "\t<li>1</li>\n",
       "\t<li>2</li>\n",
       "\t<li>3</li>\n",
       "\t<li>4</li>\n",
       "\t<li>5</li>\n",
       "\t<li>1</li>\n",
       "\t<li>2</li>\n",
       "\t<li>3</li>\n",
       "\t<li>4</li>\n",
       "\t<li>5</li>\n",
       "</ol>\n"
      ],
      "text/latex": [
       "\\begin{enumerate*}\n",
       "\\item 1\n",
       "\\item 2\n",
       "\\item 3\n",
       "\\item 4\n",
       "\\item 5\n",
       "\\item 1\n",
       "\\item 2\n",
       "\\item 3\n",
       "\\item 4\n",
       "\\item 5\n",
       "\\item 1\n",
       "\\item 2\n",
       "\\item 3\n",
       "\\item 4\n",
       "\\item 5\n",
       "\\end{enumerate*}\n"
      ],
      "text/markdown": [
       "1. 1\n",
       "2. 2\n",
       "3. 3\n",
       "4. 4\n",
       "5. 5\n",
       "6. 1\n",
       "7. 2\n",
       "8. 3\n",
       "9. 4\n",
       "10. 5\n",
       "11. 1\n",
       "12. 2\n",
       "13. 3\n",
       "14. 4\n",
       "15. 5\n",
       "\n",
       "\n"
      ],
      "text/plain": [
       " [1] 1 2 3 4 5 1 2 3 4 5 1 2 3 4 5"
      ]
     },
     "metadata": {},
     "output_type": "display_data"
    }
   ],
   "source": [
    "# Repitition\n",
    "rep(1:5, 3 )"
   ]
  },
  {
   "cell_type": "code",
   "execution_count": 185,
   "metadata": {
    "collapsed": false
   },
   "outputs": [
    {
     "data": {
      "text/html": [
       "<ol class=list-inline>\n",
       "\t<li>1</li>\n",
       "\t<li>1</li>\n",
       "\t<li>1</li>\n",
       "\t<li>2</li>\n",
       "\t<li>2</li>\n",
       "\t<li>2</li>\n",
       "\t<li>3</li>\n",
       "\t<li>3</li>\n",
       "\t<li>3</li>\n",
       "\t<li>4</li>\n",
       "\t<li>4</li>\n",
       "\t<li>4</li>\n",
       "\t<li>5</li>\n",
       "\t<li>5</li>\n",
       "\t<li>5</li>\n",
       "</ol>\n"
      ],
      "text/latex": [
       "\\begin{enumerate*}\n",
       "\\item 1\n",
       "\\item 1\n",
       "\\item 1\n",
       "\\item 2\n",
       "\\item 2\n",
       "\\item 2\n",
       "\\item 3\n",
       "\\item 3\n",
       "\\item 3\n",
       "\\item 4\n",
       "\\item 4\n",
       "\\item 4\n",
       "\\item 5\n",
       "\\item 5\n",
       "\\item 5\n",
       "\\end{enumerate*}\n"
      ],
      "text/markdown": [
       "1. 1\n",
       "2. 1\n",
       "3. 1\n",
       "4. 2\n",
       "5. 2\n",
       "6. 2\n",
       "7. 3\n",
       "8. 3\n",
       "9. 3\n",
       "10. 4\n",
       "11. 4\n",
       "12. 4\n",
       "13. 5\n",
       "14. 5\n",
       "15. 5\n",
       "\n",
       "\n"
      ],
      "text/plain": [
       " [1] 1 1 1 2 2 2 3 3 3 4 4 4 5 5 5"
      ]
     },
     "metadata": {},
     "output_type": "display_data"
    }
   ],
   "source": [
    "rep(1:5, each=3)"
   ]
  },
  {
   "cell_type": "code",
   "execution_count": 186,
   "metadata": {
    "collapsed": false
   },
   "outputs": [
    {
     "data": {
      "text/html": [
       "<ol class=list-inline>\n",
       "\t<li>1</li>\n",
       "\t<li>2</li>\n",
       "\t<li>2</li>\n",
       "\t<li>3</li>\n",
       "\t<li>3</li>\n",
       "\t<li>3</li>\n",
       "\t<li>4</li>\n",
       "\t<li>4</li>\n",
       "\t<li>4</li>\n",
       "\t<li>4</li>\n",
       "\t<li>5</li>\n",
       "\t<li>5</li>\n",
       "\t<li>5</li>\n",
       "\t<li>5</li>\n",
       "\t<li>5</li>\n",
       "</ol>\n"
      ],
      "text/latex": [
       "\\begin{enumerate*}\n",
       "\\item 1\n",
       "\\item 2\n",
       "\\item 2\n",
       "\\item 3\n",
       "\\item 3\n",
       "\\item 3\n",
       "\\item 4\n",
       "\\item 4\n",
       "\\item 4\n",
       "\\item 4\n",
       "\\item 5\n",
       "\\item 5\n",
       "\\item 5\n",
       "\\item 5\n",
       "\\item 5\n",
       "\\end{enumerate*}\n"
      ],
      "text/markdown": [
       "1. 1\n",
       "2. 2\n",
       "3. 2\n",
       "4. 3\n",
       "5. 3\n",
       "6. 3\n",
       "7. 4\n",
       "8. 4\n",
       "9. 4\n",
       "10. 4\n",
       "11. 5\n",
       "12. 5\n",
       "13. 5\n",
       "14. 5\n",
       "15. 5\n",
       "\n",
       "\n"
      ],
      "text/plain": [
       " [1] 1 2 2 3 3 3 4 4 4 4 5 5 5 5 5"
      ]
     },
     "metadata": {},
     "output_type": "display_data"
    }
   ],
   "source": [
    "rep(1:5, times=1:5)"
   ]
  },
  {
   "cell_type": "code",
   "execution_count": 187,
   "metadata": {
    "collapsed": false
   },
   "outputs": [
    {
     "data": {
      "text/html": [
       "<ol class=list-inline>\n",
       "\t<li>1</li>\n",
       "\t<li>2</li>\n",
       "\t<li>3</li>\n",
       "\t<li>4</li>\n",
       "\t<li>5</li>\n",
       "\t<li>1</li>\n",
       "\t<li>2</li>\n",
       "</ol>\n"
      ],
      "text/latex": [
       "\\begin{enumerate*}\n",
       "\\item 1\n",
       "\\item 2\n",
       "\\item 3\n",
       "\\item 4\n",
       "\\item 5\n",
       "\\item 1\n",
       "\\item 2\n",
       "\\end{enumerate*}\n"
      ],
      "text/markdown": [
       "1. 1\n",
       "2. 2\n",
       "3. 3\n",
       "4. 4\n",
       "5. 5\n",
       "6. 1\n",
       "7. 2\n",
       "\n",
       "\n"
      ],
      "text/plain": [
       "[1] 1 2 3 4 5 1 2"
      ]
     },
     "metadata": {},
     "output_type": "display_data"
    }
   ],
   "source": [
    "rep(1:5, length.out= 7)"
   ]
  },
  {
   "cell_type": "code",
   "execution_count": 188,
   "metadata": {
    "collapsed": false
   },
   "outputs": [
    {
     "data": {
      "text/html": [
       "<ol class=list-inline>\n",
       "\t<li>1</li>\n",
       "\t<li>2</li>\n",
       "\t<li>3</li>\n",
       "\t<li>4</li>\n",
       "\t<li>5</li>\n",
       "\t<li>1</li>\n",
       "\t<li>2</li>\n",
       "\t<li>3</li>\n",
       "\t<li>4</li>\n",
       "\t<li>5</li>\n",
       "\t<li>1</li>\n",
       "\t<li>2</li>\n",
       "\t<li>3</li>\n",
       "\t<li>4</li>\n",
       "\t<li>5</li>\n",
       "</ol>\n"
      ],
      "text/latex": [
       "\\begin{enumerate*}\n",
       "\\item 1\n",
       "\\item 2\n",
       "\\item 3\n",
       "\\item 4\n",
       "\\item 5\n",
       "\\item 1\n",
       "\\item 2\n",
       "\\item 3\n",
       "\\item 4\n",
       "\\item 5\n",
       "\\item 1\n",
       "\\item 2\n",
       "\\item 3\n",
       "\\item 4\n",
       "\\item 5\n",
       "\\end{enumerate*}\n"
      ],
      "text/markdown": [
       "1. 1\n",
       "2. 2\n",
       "3. 3\n",
       "4. 4\n",
       "5. 5\n",
       "6. 1\n",
       "7. 2\n",
       "8. 3\n",
       "9. 4\n",
       "10. 5\n",
       "11. 1\n",
       "12. 2\n",
       "13. 3\n",
       "14. 4\n",
       "15. 5\n",
       "\n",
       "\n"
      ],
      "text/plain": [
       " [1] 1 2 3 4 5 1 2 3 4 5 1 2 3 4 5"
      ]
     },
     "metadata": {},
     "output_type": "display_data"
    }
   ],
   "source": [
    "# same as rep(1:5, 3)\n",
    "rep.int(1:5, 3)"
   ]
  },
  {
   "cell_type": "code",
   "execution_count": 189,
   "metadata": {
    "collapsed": false
   },
   "outputs": [
    {
     "data": {
      "text/html": [
       "<ol class=list-inline>\n",
       "\t<li>1</li>\n",
       "\t<li>2</li>\n",
       "\t<li>3</li>\n",
       "\t<li>4</li>\n",
       "\t<li>5</li>\n",
       "\t<li>1</li>\n",
       "\t<li>2</li>\n",
       "\t<li>3</li>\n",
       "\t<li>4</li>\n",
       "\t<li>5</li>\n",
       "\t<li>1</li>\n",
       "\t<li>2</li>\n",
       "\t<li>3</li>\n",
       "</ol>\n"
      ],
      "text/latex": [
       "\\begin{enumerate*}\n",
       "\\item 1\n",
       "\\item 2\n",
       "\\item 3\n",
       "\\item 4\n",
       "\\item 5\n",
       "\\item 1\n",
       "\\item 2\n",
       "\\item 3\n",
       "\\item 4\n",
       "\\item 5\n",
       "\\item 1\n",
       "\\item 2\n",
       "\\item 3\n",
       "\\end{enumerate*}\n"
      ],
      "text/markdown": [
       "1. 1\n",
       "2. 2\n",
       "3. 3\n",
       "4. 4\n",
       "5. 5\n",
       "6. 1\n",
       "7. 2\n",
       "8. 3\n",
       "9. 4\n",
       "10. 5\n",
       "11. 1\n",
       "12. 2\n",
       "13. 3\n",
       "\n",
       "\n"
      ],
      "text/plain": [
       " [1] 1 2 3 4 5 1 2 3 4 5 1 2 3"
      ]
     },
     "metadata": {},
     "output_type": "display_data"
    }
   ],
   "source": [
    "rep_len(1:5, 13)"
   ]
  },
  {
   "cell_type": "markdown",
   "metadata": {},
   "source": [
    "#### Matrices & Arrays"
   ]
  },
  {
   "cell_type": "markdown",
   "metadata": {},
   "source": [
    "##### Creating Arrays & Matrices"
   ]
  },
  {
   "cell_type": "code",
   "execution_count": 190,
   "metadata": {
    "collapsed": false
   },
   "outputs": [
    {
     "data": {
      "text/html": [
       "<ol class=list-inline>\n",
       "\t<li>1</li>\n",
       "\t<li>2</li>\n",
       "\t<li>3</li>\n",
       "\t<li>4</li>\n",
       "\t<li>5</li>\n",
       "\t<li>6</li>\n",
       "\t<li>7</li>\n",
       "\t<li>8</li>\n",
       "\t<li>9</li>\n",
       "\t<li>10</li>\n",
       "\t<li>11</li>\n",
       "\t<li>12</li>\n",
       "\t<li>13</li>\n",
       "\t<li>14</li>\n",
       "\t<li>15</li>\n",
       "\t<li>16</li>\n",
       "\t<li>17</li>\n",
       "\t<li>18</li>\n",
       "\t<li>19</li>\n",
       "\t<li>20</li>\n",
       "\t<li>21</li>\n",
       "\t<li>22</li>\n",
       "\t<li>23</li>\n",
       "\t<li>24</li>\n",
       "</ol>\n"
      ],
      "text/latex": [
       "\\begin{enumerate*}\n",
       "\\item 1\n",
       "\\item 2\n",
       "\\item 3\n",
       "\\item 4\n",
       "\\item 5\n",
       "\\item 6\n",
       "\\item 7\n",
       "\\item 8\n",
       "\\item 9\n",
       "\\item 10\n",
       "\\item 11\n",
       "\\item 12\n",
       "\\item 13\n",
       "\\item 14\n",
       "\\item 15\n",
       "\\item 16\n",
       "\\item 17\n",
       "\\item 18\n",
       "\\item 19\n",
       "\\item 20\n",
       "\\item 21\n",
       "\\item 22\n",
       "\\item 23\n",
       "\\item 24\n",
       "\\end{enumerate*}\n"
      ],
      "text/markdown": [
       "1. 1\n",
       "2. 2\n",
       "3. 3\n",
       "4. 4\n",
       "5. 5\n",
       "6. 6\n",
       "7. 7\n",
       "8. 8\n",
       "9. 9\n",
       "10. 10\n",
       "11. 11\n",
       "12. 12\n",
       "13. 13\n",
       "14. 14\n",
       "15. 15\n",
       "16. 16\n",
       "17. 17\n",
       "18. 18\n",
       "19. 19\n",
       "20. 20\n",
       "21. 21\n",
       "22. 22\n",
       "23. 23\n",
       "24. 24\n",
       "\n",
       "\n"
      ],
      "text/plain": [
       ", , un\n",
       "\n",
       "      ein zwei drei\n",
       "one     1    5    9\n",
       "two     2    6   10\n",
       "three   3    7   11\n",
       "four    4    8   12\n",
       "\n",
       ", , deux\n",
       "\n",
       "      ein zwei drei\n",
       "one    13   17   21\n",
       "two    14   18   22\n",
       "three  15   19   23\n",
       "four   16   20   24\n"
      ]
     },
     "metadata": {},
     "output_type": "display_data"
    }
   ],
   "source": [
    "(three_d_array <- array(\n",
    "    1:24,\n",
    "    dim = c(4, 3, 2),\n",
    "    dimnames = list (\n",
    "        c(\"one\", \"two\", \"three\", \"four\"),\n",
    "        c(\"ein\", \"zwei\", \"drei\"),\n",
    "        c(\"un\", \"deux\")\n",
    "    )\n",
    "))"
   ]
  },
  {
   "cell_type": "code",
   "execution_count": 191,
   "metadata": {
    "collapsed": false
   },
   "outputs": [
    {
     "data": {
      "text/html": [
       "'array'"
      ],
      "text/latex": [
       "'array'"
      ],
      "text/markdown": [
       "'array'"
      ],
      "text/plain": [
       "[1] \"array\""
      ]
     },
     "metadata": {},
     "output_type": "display_data"
    }
   ],
   "source": [
    "class(three_d_array)"
   ]
  },
  {
   "cell_type": "code",
   "execution_count": 192,
   "metadata": {
    "collapsed": false
   },
   "outputs": [
    {
     "data": {
      "text/html": [
       "<table>\n",
       "<thead><tr><th></th><th scope=col>ein</th><th scope=col>zwei</th><th scope=col>drei</th></tr></thead>\n",
       "<tbody>\n",
       "\t<tr><th scope=row>one</th><td>1 </td><td>5 </td><td> 9</td></tr>\n",
       "\t<tr><th scope=row>two</th><td>2 </td><td>6 </td><td>10</td></tr>\n",
       "\t<tr><th scope=row>three</th><td>3 </td><td>7 </td><td>11</td></tr>\n",
       "\t<tr><th scope=row>four</th><td>4 </td><td>8 </td><td>12</td></tr>\n",
       "</tbody>\n",
       "</table>\n"
      ],
      "text/latex": [
       "\\begin{tabular}{r|lll}\n",
       "  & ein & zwei & drei\\\\\n",
       "\\hline\n",
       "\tone & 1  & 5  &  9\\\\\n",
       "\ttwo & 2  & 6  & 10\\\\\n",
       "\tthree & 3  & 7  & 11\\\\\n",
       "\tfour & 4  & 8  & 12\\\\\n",
       "\\end{tabular}\n"
      ],
      "text/markdown": [
       "\n",
       "| <!--/--> | ein | zwei | drei | \n",
       "|---|---|---|---|\n",
       "| one | 1  | 5  |  9 | \n",
       "| two | 2  | 6  | 10 | \n",
       "| three | 3  | 7  | 11 | \n",
       "| four | 4  | 8  | 12 | \n",
       "\n",
       "\n"
      ],
      "text/plain": [
       "      ein zwei drei\n",
       "one   1   5     9  \n",
       "two   2   6    10  \n",
       "three 3   7    11  \n",
       "four  4   8    12  "
      ]
     },
     "metadata": {},
     "output_type": "display_data"
    }
   ],
   "source": [
    "(a_matrix <- matrix(\n",
    "    1:12,\n",
    "    nrow = 4,\n",
    "    dimnames = list(\n",
    "        c(\"one\", \"two\", \"three\", \"four\"),\n",
    "        c(\"ein\", \"zwei\", \"drei\")\n",
    "    )\n",
    "))"
   ]
  },
  {
   "cell_type": "code",
   "execution_count": 193,
   "metadata": {
    "collapsed": false
   },
   "outputs": [
    {
     "data": {
      "text/html": [
       "'matrix'"
      ],
      "text/latex": [
       "'matrix'"
      ],
      "text/markdown": [
       "'matrix'"
      ],
      "text/plain": [
       "[1] \"matrix\""
      ]
     },
     "metadata": {},
     "output_type": "display_data"
    }
   ],
   "source": [
    "class(a_matrix)"
   ]
  },
  {
   "cell_type": "code",
   "execution_count": 196,
   "metadata": {
    "collapsed": false
   },
   "outputs": [
    {
     "data": {
      "text/html": [
       "<table>\n",
       "<thead><tr><th></th><th scope=col>ein</th><th scope=col>zwei</th><th scope=col>drei</th></tr></thead>\n",
       "<tbody>\n",
       "\t<tr><th scope=row>one</th><td>1 </td><td>5 </td><td> 9</td></tr>\n",
       "\t<tr><th scope=row>two</th><td>2 </td><td>6 </td><td>10</td></tr>\n",
       "\t<tr><th scope=row>three</th><td>3 </td><td>7 </td><td>11</td></tr>\n",
       "\t<tr><th scope=row>four</th><td>4 </td><td>8 </td><td>12</td></tr>\n",
       "</tbody>\n",
       "</table>\n"
      ],
      "text/latex": [
       "\\begin{tabular}{r|lll}\n",
       "  & ein & zwei & drei\\\\\n",
       "\\hline\n",
       "\tone & 1  & 5  &  9\\\\\n",
       "\ttwo & 2  & 6  & 10\\\\\n",
       "\tthree & 3  & 7  & 11\\\\\n",
       "\tfour & 4  & 8  & 12\\\\\n",
       "\\end{tabular}\n"
      ],
      "text/markdown": [
       "\n",
       "| <!--/--> | ein | zwei | drei | \n",
       "|---|---|---|---|\n",
       "| one | 1  | 5  |  9 | \n",
       "| two | 2  | 6  | 10 | \n",
       "| three | 3  | 7  | 11 | \n",
       "| four | 4  | 8  | 12 | \n",
       "\n",
       "\n"
      ],
      "text/plain": [
       "      ein zwei drei\n",
       "one   1   5     9  \n",
       "two   2   6    10  \n",
       "three 3   7    11  \n",
       "four  4   8    12  "
      ]
     },
     "metadata": {},
     "output_type": "display_data"
    }
   ],
   "source": [
    "(two_d_array <- array(\n",
    "    1:12,\n",
    "    dim = c(4, 3),\n",
    "    dimnames = list (\n",
    "        c(\"one\", \"two\", \"three\", \"four\"),\n",
    "        c(\"ein\", \"zwei\", \"drei\")\n",
    "    )\n",
    "))"
   ]
  },
  {
   "cell_type": "code",
   "execution_count": 197,
   "metadata": {
    "collapsed": false
   },
   "outputs": [
    {
     "data": {
      "text/html": [
       "TRUE"
      ],
      "text/latex": [
       "TRUE"
      ],
      "text/markdown": [
       "TRUE"
      ],
      "text/plain": [
       "[1] TRUE"
      ]
     },
     "metadata": {},
     "output_type": "display_data"
    }
   ],
   "source": [
    "identical(two_d_array, a_matrix)"
   ]
  },
  {
   "cell_type": "code",
   "execution_count": 199,
   "metadata": {
    "collapsed": false
   },
   "outputs": [
    {
     "data": {
      "text/html": [
       "<table>\n",
       "<thead><tr><th></th><th scope=col>ein</th><th scope=col>zwei</th><th scope=col>drei</th></tr></thead>\n",
       "<tbody>\n",
       "\t<tr><th scope=row>one</th><td> 1</td><td> 2</td><td> 3</td></tr>\n",
       "\t<tr><th scope=row>two</th><td> 4</td><td> 5</td><td> 6</td></tr>\n",
       "\t<tr><th scope=row>three</th><td> 7</td><td> 8</td><td> 9</td></tr>\n",
       "\t<tr><th scope=row>four</th><td>10</td><td>11</td><td>12</td></tr>\n",
       "</tbody>\n",
       "</table>\n"
      ],
      "text/latex": [
       "\\begin{tabular}{r|lll}\n",
       "  & ein & zwei & drei\\\\\n",
       "\\hline\n",
       "\tone &  1 &  2 &  3\\\\\n",
       "\ttwo &  4 &  5 &  6\\\\\n",
       "\tthree &  7 &  8 &  9\\\\\n",
       "\tfour & 10 & 11 & 12\\\\\n",
       "\\end{tabular}\n"
      ],
      "text/markdown": [
       "\n",
       "| <!--/--> | ein | zwei | drei | \n",
       "|---|---|---|---|\n",
       "| one |  1 |  2 |  3 | \n",
       "| two |  4 |  5 |  6 | \n",
       "| three |  7 |  8 |  9 | \n",
       "| four | 10 | 11 | 12 | \n",
       "\n",
       "\n"
      ],
      "text/plain": [
       "      ein zwei drei\n",
       "one    1   2    3  \n",
       "two    4   5    6  \n",
       "three  7   8    9  \n",
       "four  10  11   12  "
      ]
     },
     "metadata": {},
     "output_type": "display_data"
    }
   ],
   "source": [
    "matrix(\n",
    "    1:12,\n",
    "    nrow = 4,\n",
    "    byrow = TRUE,\n",
    "    dimnames = list (\n",
    "        c(\"one\", \"two\", \"three\", \"four\"),\n",
    "        c(\"ein\", \"zwei\", \"drei\")\n",
    "    )\n",
    ")"
   ]
  },
  {
   "cell_type": "markdown",
   "metadata": {},
   "source": [
    "#### Rows, Columns & Dimensions"
   ]
  },
  {
   "cell_type": "code",
   "execution_count": 200,
   "metadata": {
    "collapsed": false
   },
   "outputs": [
    {
     "data": {
      "text/html": [
       "<ol class=list-inline>\n",
       "\t<li>4</li>\n",
       "\t<li>3</li>\n",
       "\t<li>2</li>\n",
       "</ol>\n"
      ],
      "text/latex": [
       "\\begin{enumerate*}\n",
       "\\item 4\n",
       "\\item 3\n",
       "\\item 2\n",
       "\\end{enumerate*}\n"
      ],
      "text/markdown": [
       "1. 4\n",
       "2. 3\n",
       "3. 2\n",
       "\n",
       "\n"
      ],
      "text/plain": [
       "[1] 4 3 2"
      ]
     },
     "metadata": {},
     "output_type": "display_data"
    }
   ],
   "source": [
    "dim(three_d_array)"
   ]
  },
  {
   "cell_type": "code",
   "execution_count": 201,
   "metadata": {
    "collapsed": false
   },
   "outputs": [
    {
     "data": {
      "text/html": [
       "<ol class=list-inline>\n",
       "\t<li>4</li>\n",
       "\t<li>3</li>\n",
       "</ol>\n"
      ],
      "text/latex": [
       "\\begin{enumerate*}\n",
       "\\item 4\n",
       "\\item 3\n",
       "\\end{enumerate*}\n"
      ],
      "text/markdown": [
       "1. 4\n",
       "2. 3\n",
       "\n",
       "\n"
      ],
      "text/plain": [
       "[1] 4 3"
      ]
     },
     "metadata": {},
     "output_type": "display_data"
    }
   ],
   "source": [
    "dim(a_matrix)"
   ]
  },
  {
   "cell_type": "code",
   "execution_count": 202,
   "metadata": {
    "collapsed": false
   },
   "outputs": [
    {
     "data": {
      "text/html": [
       "4"
      ],
      "text/latex": [
       "4"
      ],
      "text/markdown": [
       "4"
      ],
      "text/plain": [
       "[1] 4"
      ]
     },
     "metadata": {},
     "output_type": "display_data"
    }
   ],
   "source": [
    "nrow(a_matrix)"
   ]
  },
  {
   "cell_type": "code",
   "execution_count": 203,
   "metadata": {
    "collapsed": false
   },
   "outputs": [
    {
     "data": {
      "text/html": [
       "3"
      ],
      "text/latex": [
       "3"
      ],
      "text/markdown": [
       "3"
      ],
      "text/plain": [
       "[1] 3"
      ]
     },
     "metadata": {},
     "output_type": "display_data"
    }
   ],
   "source": [
    "ncol(a_matrix)"
   ]
  },
  {
   "cell_type": "code",
   "execution_count": 204,
   "metadata": {
    "collapsed": false
   },
   "outputs": [
    {
     "data": {
      "text/html": [
       "4"
      ],
      "text/latex": [
       "4"
      ],
      "text/markdown": [
       "4"
      ],
      "text/plain": [
       "[1] 4"
      ]
     },
     "metadata": {},
     "output_type": "display_data"
    }
   ],
   "source": [
    "nrow(three_d_array)"
   ]
  },
  {
   "cell_type": "code",
   "execution_count": 205,
   "metadata": {
    "collapsed": false
   },
   "outputs": [
    {
     "data": {
      "text/html": [
       "3"
      ],
      "text/latex": [
       "3"
      ],
      "text/markdown": [
       "3"
      ],
      "text/plain": [
       "[1] 3"
      ]
     },
     "metadata": {},
     "output_type": "display_data"
    }
   ],
   "source": [
    "ncol(three_d_array)"
   ]
  },
  {
   "cell_type": "code",
   "execution_count": 206,
   "metadata": {
    "collapsed": false
   },
   "outputs": [
    {
     "data": {
      "text/html": [
       "24"
      ],
      "text/latex": [
       "24"
      ],
      "text/markdown": [
       "24"
      ],
      "text/plain": [
       "[1] 24"
      ]
     },
     "metadata": {},
     "output_type": "display_data"
    }
   ],
   "source": [
    "length(three_d_array)"
   ]
  },
  {
   "cell_type": "code",
   "execution_count": 207,
   "metadata": {
    "collapsed": false
   },
   "outputs": [
    {
     "data": {
      "text/html": [
       "12"
      ],
      "text/latex": [
       "12"
      ],
      "text/markdown": [
       "12"
      ],
      "text/plain": [
       "[1] 12"
      ]
     },
     "metadata": {},
     "output_type": "display_data"
    }
   ],
   "source": [
    "length(a_matrix)"
   ]
  },
  {
   "cell_type": "code",
   "execution_count": 208,
   "metadata": {
    "collapsed": true
   },
   "outputs": [],
   "source": [
    "dim(a_matrix) <- c(6, 2)"
   ]
  },
  {
   "cell_type": "code",
   "execution_count": 209,
   "metadata": {
    "collapsed": false
   },
   "outputs": [
    {
     "data": {
      "text/html": [
       "<table>\n",
       "<tbody>\n",
       "\t<tr><td>1 </td><td> 7</td></tr>\n",
       "\t<tr><td>2 </td><td> 8</td></tr>\n",
       "\t<tr><td>3 </td><td> 9</td></tr>\n",
       "\t<tr><td>4 </td><td>10</td></tr>\n",
       "\t<tr><td>5 </td><td>11</td></tr>\n",
       "\t<tr><td>6 </td><td>12</td></tr>\n",
       "</tbody>\n",
       "</table>\n"
      ],
      "text/latex": [
       "\\begin{tabular}{ll}\n",
       "\t 1  &  7\\\\\n",
       "\t 2  &  8\\\\\n",
       "\t 3  &  9\\\\\n",
       "\t 4  & 10\\\\\n",
       "\t 5  & 11\\\\\n",
       "\t 6  & 12\\\\\n",
       "\\end{tabular}\n"
      ],
      "text/markdown": [
       "\n",
       "| 1  |  7 | \n",
       "| 2  |  8 | \n",
       "| 3  |  9 | \n",
       "| 4  | 10 | \n",
       "| 5  | 11 | \n",
       "| 6  | 12 | \n",
       "\n",
       "\n"
      ],
      "text/plain": [
       "     [,1] [,2]\n",
       "[1,] 1     7  \n",
       "[2,] 2     8  \n",
       "[3,] 3     9  \n",
       "[4,] 4    10  \n",
       "[5,] 5    11  \n",
       "[6,] 6    12  "
      ]
     },
     "metadata": {},
     "output_type": "display_data"
    }
   ],
   "source": [
    "a_matrix"
   ]
  },
  {
   "cell_type": "code",
   "execution_count": 210,
   "metadata": {
    "collapsed": false
   },
   "outputs": [
    {
     "data": {
      "text/html": [
       "TRUE"
      ],
      "text/latex": [
       "TRUE"
      ],
      "text/markdown": [
       "TRUE"
      ],
      "text/plain": [
       "[1] TRUE"
      ]
     },
     "metadata": {},
     "output_type": "display_data"
    }
   ],
   "source": [
    "identical(nrow(a_matrix), NROW(a_matrix))"
   ]
  },
  {
   "cell_type": "code",
   "execution_count": 211,
   "metadata": {
    "collapsed": false
   },
   "outputs": [
    {
     "data": {
      "text/html": [
       "TRUE"
      ],
      "text/latex": [
       "TRUE"
      ],
      "text/markdown": [
       "TRUE"
      ],
      "text/plain": [
       "[1] TRUE"
      ]
     },
     "metadata": {},
     "output_type": "display_data"
    }
   ],
   "source": [
    "identical(ncol(a_matrix), NCOL(a_matrix))"
   ]
  },
  {
   "cell_type": "code",
   "execution_count": 212,
   "metadata": {
    "collapsed": true
   },
   "outputs": [],
   "source": [
    "recamen <- c(0, 1, 3, 6, 2, 7, 13, 20)"
   ]
  },
  {
   "cell_type": "code",
   "execution_count": 213,
   "metadata": {
    "collapsed": false
   },
   "outputs": [
    {
     "data": {
      "text/plain": [
       "NULL"
      ]
     },
     "metadata": {},
     "output_type": "display_data"
    }
   ],
   "source": [
    "nrow(recamen)"
   ]
  },
  {
   "cell_type": "code",
   "execution_count": 214,
   "metadata": {
    "collapsed": false
   },
   "outputs": [
    {
     "data": {
      "text/html": [
       "8"
      ],
      "text/latex": [
       "8"
      ],
      "text/markdown": [
       "8"
      ],
      "text/plain": [
       "[1] 8"
      ]
     },
     "metadata": {},
     "output_type": "display_data"
    }
   ],
   "source": [
    "NROW(recamen)"
   ]
  },
  {
   "cell_type": "code",
   "execution_count": 215,
   "metadata": {
    "collapsed": false
   },
   "outputs": [
    {
     "data": {
      "text/plain": [
       "NULL"
      ]
     },
     "metadata": {},
     "output_type": "display_data"
    }
   ],
   "source": [
    "ncol(recamen)"
   ]
  },
  {
   "cell_type": "code",
   "execution_count": 216,
   "metadata": {
    "collapsed": false
   },
   "outputs": [
    {
     "data": {
      "text/html": [
       "1"
      ],
      "text/latex": [
       "1"
      ],
      "text/markdown": [
       "1"
      ],
      "text/plain": [
       "[1] 1"
      ]
     },
     "metadata": {},
     "output_type": "display_data"
    }
   ],
   "source": [
    "NCOL(recamen)"
   ]
  },
  {
   "cell_type": "code",
   "execution_count": 217,
   "metadata": {
    "collapsed": false
   },
   "outputs": [
    {
     "data": {
      "text/plain": [
       "NULL"
      ]
     },
     "metadata": {},
     "output_type": "display_data"
    }
   ],
   "source": [
    "dim(recamen)"
   ]
  },
  {
   "cell_type": "markdown",
   "metadata": {},
   "source": [
    "#### Row, Column & Dimension Names"
   ]
  },
  {
   "cell_type": "code",
   "execution_count": 220,
   "metadata": {
    "collapsed": false
   },
   "outputs": [
    {
     "data": {
      "text/html": [
       "<table>\n",
       "<thead><tr><th></th><th scope=col>ein</th><th scope=col>zwei</th><th scope=col>drei</th></tr></thead>\n",
       "<tbody>\n",
       "\t<tr><th scope=row>one</th><td>1 </td><td>5 </td><td> 9</td></tr>\n",
       "\t<tr><th scope=row>two</th><td>2 </td><td>6 </td><td>10</td></tr>\n",
       "\t<tr><th scope=row>three</th><td>3 </td><td>7 </td><td>11</td></tr>\n",
       "\t<tr><th scope=row>four</th><td>4 </td><td>8 </td><td>12</td></tr>\n",
       "</tbody>\n",
       "</table>\n"
      ],
      "text/latex": [
       "\\begin{tabular}{r|lll}\n",
       "  & ein & zwei & drei\\\\\n",
       "\\hline\n",
       "\tone & 1  & 5  &  9\\\\\n",
       "\ttwo & 2  & 6  & 10\\\\\n",
       "\tthree & 3  & 7  & 11\\\\\n",
       "\tfour & 4  & 8  & 12\\\\\n",
       "\\end{tabular}\n"
      ],
      "text/markdown": [
       "\n",
       "| <!--/--> | ein | zwei | drei | \n",
       "|---|---|---|---|\n",
       "| one | 1  | 5  |  9 | \n",
       "| two | 2  | 6  | 10 | \n",
       "| three | 3  | 7  | 11 | \n",
       "| four | 4  | 8  | 12 | \n",
       "\n",
       "\n"
      ],
      "text/plain": [
       "      ein zwei drei\n",
       "one   1   5     9  \n",
       "two   2   6    10  \n",
       "three 3   7    11  \n",
       "four  4   8    12  "
      ]
     },
     "metadata": {},
     "output_type": "display_data"
    },
    {
     "data": {
      "text/html": [
       "<ol class=list-inline>\n",
       "\t<li>'one'</li>\n",
       "\t<li>'two'</li>\n",
       "\t<li>'three'</li>\n",
       "\t<li>'four'</li>\n",
       "</ol>\n"
      ],
      "text/latex": [
       "\\begin{enumerate*}\n",
       "\\item 'one'\n",
       "\\item 'two'\n",
       "\\item 'three'\n",
       "\\item 'four'\n",
       "\\end{enumerate*}\n"
      ],
      "text/markdown": [
       "1. 'one'\n",
       "2. 'two'\n",
       "3. 'three'\n",
       "4. 'four'\n",
       "\n",
       "\n"
      ],
      "text/plain": [
       "[1] \"one\"   \"two\"   \"three\" \"four\" "
      ]
     },
     "metadata": {},
     "output_type": "display_data"
    }
   ],
   "source": [
    "(a_matrix <- matrix(\n",
    "    1:12,\n",
    "    nrow = 4,\n",
    "    dimnames = list(\n",
    "        c(\"one\", \"two\", \"three\", \"four\"),\n",
    "        c(\"ein\", \"zwei\", \"drei\")\n",
    "    )\n",
    "))\n",
    "\n",
    "rownames(a_matrix)"
   ]
  },
  {
   "cell_type": "code",
   "execution_count": 221,
   "metadata": {
    "collapsed": false
   },
   "outputs": [
    {
     "data": {
      "text/html": [
       "<ol class=list-inline>\n",
       "\t<li>'ein'</li>\n",
       "\t<li>'zwei'</li>\n",
       "\t<li>'drei'</li>\n",
       "</ol>\n"
      ],
      "text/latex": [
       "\\begin{enumerate*}\n",
       "\\item 'ein'\n",
       "\\item 'zwei'\n",
       "\\item 'drei'\n",
       "\\end{enumerate*}\n"
      ],
      "text/markdown": [
       "1. 'ein'\n",
       "2. 'zwei'\n",
       "3. 'drei'\n",
       "\n",
       "\n"
      ],
      "text/plain": [
       "[1] \"ein\"  \"zwei\" \"drei\""
      ]
     },
     "metadata": {},
     "output_type": "display_data"
    }
   ],
   "source": [
    "colnames(a_matrix)"
   ]
  },
  {
   "cell_type": "code",
   "execution_count": 222,
   "metadata": {
    "collapsed": false
   },
   "outputs": [
    {
     "data": {
      "text/html": [
       "<ol>\n",
       "\t<li><ol class=list-inline>\n",
       "\t<li>'one'</li>\n",
       "\t<li>'two'</li>\n",
       "\t<li>'three'</li>\n",
       "\t<li>'four'</li>\n",
       "</ol>\n",
       "</li>\n",
       "\t<li><ol class=list-inline>\n",
       "\t<li>'ein'</li>\n",
       "\t<li>'zwei'</li>\n",
       "\t<li>'drei'</li>\n",
       "</ol>\n",
       "</li>\n",
       "</ol>\n"
      ],
      "text/latex": [
       "\\begin{enumerate}\n",
       "\\item \\begin{enumerate*}\n",
       "\\item 'one'\n",
       "\\item 'two'\n",
       "\\item 'three'\n",
       "\\item 'four'\n",
       "\\end{enumerate*}\n",
       "\n",
       "\\item \\begin{enumerate*}\n",
       "\\item 'ein'\n",
       "\\item 'zwei'\n",
       "\\item 'drei'\n",
       "\\end{enumerate*}\n",
       "\n",
       "\\end{enumerate}\n"
      ],
      "text/markdown": [
       "1. 1. 'one'\n",
       "2. 'two'\n",
       "3. 'three'\n",
       "4. 'four'\n",
       "\n",
       "\n",
       "\n",
       "2. 1. 'ein'\n",
       "2. 'zwei'\n",
       "3. 'drei'\n",
       "\n",
       "\n",
       "\n",
       "\n",
       "\n"
      ],
      "text/plain": [
       "[[1]]\n",
       "[1] \"one\"   \"two\"   \"three\" \"four\" \n",
       "\n",
       "[[2]]\n",
       "[1] \"ein\"  \"zwei\" \"drei\"\n"
      ]
     },
     "metadata": {},
     "output_type": "display_data"
    }
   ],
   "source": [
    "dimnames(a_matrix)"
   ]
  },
  {
   "cell_type": "code",
   "execution_count": 223,
   "metadata": {
    "collapsed": false
   },
   "outputs": [
    {
     "data": {
      "text/html": [
       "<ol class=list-inline>\n",
       "\t<li>'one'</li>\n",
       "\t<li>'two'</li>\n",
       "\t<li>'three'</li>\n",
       "\t<li>'four'</li>\n",
       "</ol>\n"
      ],
      "text/latex": [
       "\\begin{enumerate*}\n",
       "\\item 'one'\n",
       "\\item 'two'\n",
       "\\item 'three'\n",
       "\\item 'four'\n",
       "\\end{enumerate*}\n"
      ],
      "text/markdown": [
       "1. 'one'\n",
       "2. 'two'\n",
       "3. 'three'\n",
       "4. 'four'\n",
       "\n",
       "\n"
      ],
      "text/plain": [
       "[1] \"one\"   \"two\"   \"three\" \"four\" "
      ]
     },
     "metadata": {},
     "output_type": "display_data"
    }
   ],
   "source": [
    "rownames(three_d_array)"
   ]
  },
  {
   "cell_type": "code",
   "execution_count": 224,
   "metadata": {
    "collapsed": false
   },
   "outputs": [
    {
     "data": {
      "text/html": [
       "<ol class=list-inline>\n",
       "\t<li>'ein'</li>\n",
       "\t<li>'zwei'</li>\n",
       "\t<li>'drei'</li>\n",
       "</ol>\n"
      ],
      "text/latex": [
       "\\begin{enumerate*}\n",
       "\\item 'ein'\n",
       "\\item 'zwei'\n",
       "\\item 'drei'\n",
       "\\end{enumerate*}\n"
      ],
      "text/markdown": [
       "1. 'ein'\n",
       "2. 'zwei'\n",
       "3. 'drei'\n",
       "\n",
       "\n"
      ],
      "text/plain": [
       "[1] \"ein\"  \"zwei\" \"drei\""
      ]
     },
     "metadata": {},
     "output_type": "display_data"
    }
   ],
   "source": [
    "colnames(three_d_array)"
   ]
  },
  {
   "cell_type": "markdown",
   "metadata": {},
   "source": [
    "#### Indexing Arrays"
   ]
  },
  {
   "cell_type": "code",
   "execution_count": 225,
   "metadata": {
    "collapsed": false
   },
   "outputs": [
    {
     "data": {
      "text/html": [
       "<dl class=dl-horizontal>\n",
       "\t<dt>zwei</dt>\n",
       "\t\t<dd>5</dd>\n",
       "\t<dt>drei</dt>\n",
       "\t\t<dd>9</dd>\n",
       "</dl>\n"
      ],
      "text/latex": [
       "\\begin{description*}\n",
       "\\item[zwei] 5\n",
       "\\item[drei] 9\n",
       "\\end{description*}\n"
      ],
      "text/markdown": [
       "zwei\n",
       ":   5drei\n",
       ":   9\n",
       "\n"
      ],
      "text/plain": [
       "zwei drei \n",
       "   5    9 "
      ]
     },
     "metadata": {},
     "output_type": "display_data"
    }
   ],
   "source": [
    "a_matrix[1, c(\"zwei\", \"drei\")]"
   ]
  },
  {
   "cell_type": "code",
   "execution_count": 226,
   "metadata": {
    "collapsed": false
   },
   "outputs": [
    {
     "data": {
      "text/html": [
       "<dl class=dl-horizontal>\n",
       "\t<dt>ein</dt>\n",
       "\t\t<dd>1</dd>\n",
       "\t<dt>zwei</dt>\n",
       "\t\t<dd>5</dd>\n",
       "\t<dt>drei</dt>\n",
       "\t\t<dd>9</dd>\n",
       "</dl>\n"
      ],
      "text/latex": [
       "\\begin{description*}\n",
       "\\item[ein] 1\n",
       "\\item[zwei] 5\n",
       "\\item[drei] 9\n",
       "\\end{description*}\n"
      ],
      "text/markdown": [
       "ein\n",
       ":   1zwei\n",
       ":   5drei\n",
       ":   9\n",
       "\n"
      ],
      "text/plain": [
       " ein zwei drei \n",
       "   1    5    9 "
      ]
     },
     "metadata": {},
     "output_type": "display_data"
    }
   ],
   "source": [
    "# Include all of a dimension\n",
    "a_matrix[1, ]"
   ]
  },
  {
   "cell_type": "code",
   "execution_count": 227,
   "metadata": {
    "collapsed": false
   },
   "outputs": [
    {
     "data": {
      "text/html": [
       "<dl class=dl-horizontal>\n",
       "\t<dt>one</dt>\n",
       "\t\t<dd>1</dd>\n",
       "\t<dt>two</dt>\n",
       "\t\t<dd>2</dd>\n",
       "\t<dt>three</dt>\n",
       "\t\t<dd>3</dd>\n",
       "\t<dt>four</dt>\n",
       "\t\t<dd>4</dd>\n",
       "</dl>\n"
      ],
      "text/latex": [
       "\\begin{description*}\n",
       "\\item[one] 1\n",
       "\\item[two] 2\n",
       "\\item[three] 3\n",
       "\\item[four] 4\n",
       "\\end{description*}\n"
      ],
      "text/markdown": [
       "one\n",
       ":   1two\n",
       ":   2three\n",
       ":   3four\n",
       ":   4\n",
       "\n"
      ],
      "text/plain": [
       "  one   two three  four \n",
       "    1     2     3     4 "
      ]
     },
     "metadata": {},
     "output_type": "display_data"
    }
   ],
   "source": [
    "a_matrix[, 1]"
   ]
  },
  {
   "cell_type": "markdown",
   "metadata": {},
   "source": [
    "#### Combining Matrices"
   ]
  },
  {
   "cell_type": "code",
   "execution_count": 228,
   "metadata": {
    "collapsed": true
   },
   "outputs": [],
   "source": [
    "another_matrix <- matrix(\n",
    "    seq.int(2, 24, 2),\n",
    "    nrow = 4,\n",
    "    dimnames = list (\n",
    "        c(\"five\", \"six\", \"seven\", \"eigth\"),\n",
    "        c(\"vier\", \"funf\", \"sechs\")\n",
    "    )\n",
    ")"
   ]
  },
  {
   "cell_type": "code",
   "execution_count": 229,
   "metadata": {
    "collapsed": false
   },
   "outputs": [
    {
     "data": {
      "text/html": [
       "<table>\n",
       "<thead><tr><th></th><th scope=col>vier</th><th scope=col>funf</th><th scope=col>sechs</th></tr></thead>\n",
       "<tbody>\n",
       "\t<tr><th scope=row>five</th><td>2 </td><td>10</td><td>18</td></tr>\n",
       "\t<tr><th scope=row>six</th><td>4 </td><td>12</td><td>20</td></tr>\n",
       "\t<tr><th scope=row>seven</th><td>6 </td><td>14</td><td>22</td></tr>\n",
       "\t<tr><th scope=row>eigth</th><td>8 </td><td>16</td><td>24</td></tr>\n",
       "</tbody>\n",
       "</table>\n"
      ],
      "text/latex": [
       "\\begin{tabular}{r|lll}\n",
       "  & vier & funf & sechs\\\\\n",
       "\\hline\n",
       "\tfive & 2  & 10 & 18\\\\\n",
       "\tsix & 4  & 12 & 20\\\\\n",
       "\tseven & 6  & 14 & 22\\\\\n",
       "\teigth & 8  & 16 & 24\\\\\n",
       "\\end{tabular}\n"
      ],
      "text/markdown": [
       "\n",
       "| <!--/--> | vier | funf | sechs | \n",
       "|---|---|---|---|\n",
       "| five | 2  | 10 | 18 | \n",
       "| six | 4  | 12 | 20 | \n",
       "| seven | 6  | 14 | 22 | \n",
       "| eigth | 8  | 16 | 24 | \n",
       "\n",
       "\n"
      ],
      "text/plain": [
       "      vier funf sechs\n",
       "five  2    10   18   \n",
       "six   4    12   20   \n",
       "seven 6    14   22   \n",
       "eigth 8    16   24   "
      ]
     },
     "metadata": {},
     "output_type": "display_data"
    }
   ],
   "source": [
    "another_matrix"
   ]
  },
  {
   "cell_type": "code",
   "execution_count": 230,
   "metadata": {
    "collapsed": false
   },
   "outputs": [
    {
     "data": {
      "text/html": [
       "<ol class=list-inline>\n",
       "\t<li>1</li>\n",
       "\t<li>2</li>\n",
       "\t<li>3</li>\n",
       "\t<li>4</li>\n",
       "\t<li>5</li>\n",
       "\t<li>6</li>\n",
       "\t<li>7</li>\n",
       "\t<li>8</li>\n",
       "\t<li>9</li>\n",
       "\t<li>10</li>\n",
       "\t<li>11</li>\n",
       "\t<li>12</li>\n",
       "\t<li>2</li>\n",
       "\t<li>4</li>\n",
       "\t<li>6</li>\n",
       "\t<li>8</li>\n",
       "\t<li>10</li>\n",
       "\t<li>12</li>\n",
       "\t<li>14</li>\n",
       "\t<li>16</li>\n",
       "\t<li>18</li>\n",
       "\t<li>20</li>\n",
       "\t<li>22</li>\n",
       "\t<li>24</li>\n",
       "</ol>\n"
      ],
      "text/latex": [
       "\\begin{enumerate*}\n",
       "\\item 1\n",
       "\\item 2\n",
       "\\item 3\n",
       "\\item 4\n",
       "\\item 5\n",
       "\\item 6\n",
       "\\item 7\n",
       "\\item 8\n",
       "\\item 9\n",
       "\\item 10\n",
       "\\item 11\n",
       "\\item 12\n",
       "\\item 2\n",
       "\\item 4\n",
       "\\item 6\n",
       "\\item 8\n",
       "\\item 10\n",
       "\\item 12\n",
       "\\item 14\n",
       "\\item 16\n",
       "\\item 18\n",
       "\\item 20\n",
       "\\item 22\n",
       "\\item 24\n",
       "\\end{enumerate*}\n"
      ],
      "text/markdown": [
       "1. 1\n",
       "2. 2\n",
       "3. 3\n",
       "4. 4\n",
       "5. 5\n",
       "6. 6\n",
       "7. 7\n",
       "8. 8\n",
       "9. 9\n",
       "10. 10\n",
       "11. 11\n",
       "12. 12\n",
       "13. 2\n",
       "14. 4\n",
       "15. 6\n",
       "16. 8\n",
       "17. 10\n",
       "18. 12\n",
       "19. 14\n",
       "20. 16\n",
       "21. 18\n",
       "22. 20\n",
       "23. 22\n",
       "24. 24\n",
       "\n",
       "\n"
      ],
      "text/plain": [
       " [1]  1  2  3  4  5  6  7  8  9 10 11 12  2  4  6  8 10 12 14 16 18 20 22 24"
      ]
     },
     "metadata": {},
     "output_type": "display_data"
    }
   ],
   "source": [
    "c(a_matrix, another_matrix)"
   ]
  },
  {
   "cell_type": "code",
   "execution_count": 232,
   "metadata": {
    "collapsed": false
   },
   "outputs": [
    {
     "data": {
      "text/html": [
       "<table>\n",
       "<thead><tr><th></th><th scope=col>ein</th><th scope=col>zwei</th><th scope=col>drei</th><th scope=col>vier</th><th scope=col>funf</th><th scope=col>sechs</th></tr></thead>\n",
       "<tbody>\n",
       "\t<tr><th scope=row>one</th><td>1 </td><td>5 </td><td> 9</td><td>2 </td><td>10</td><td>18</td></tr>\n",
       "\t<tr><th scope=row>two</th><td>2 </td><td>6 </td><td>10</td><td>4 </td><td>12</td><td>20</td></tr>\n",
       "\t<tr><th scope=row>three</th><td>3 </td><td>7 </td><td>11</td><td>6 </td><td>14</td><td>22</td></tr>\n",
       "\t<tr><th scope=row>four</th><td>4 </td><td>8 </td><td>12</td><td>8 </td><td>16</td><td>24</td></tr>\n",
       "</tbody>\n",
       "</table>\n"
      ],
      "text/latex": [
       "\\begin{tabular}{r|llllll}\n",
       "  & ein & zwei & drei & vier & funf & sechs\\\\\n",
       "\\hline\n",
       "\tone & 1  & 5  &  9 & 2  & 10 & 18\\\\\n",
       "\ttwo & 2  & 6  & 10 & 4  & 12 & 20\\\\\n",
       "\tthree & 3  & 7  & 11 & 6  & 14 & 22\\\\\n",
       "\tfour & 4  & 8  & 12 & 8  & 16 & 24\\\\\n",
       "\\end{tabular}\n"
      ],
      "text/markdown": [
       "\n",
       "| <!--/--> | ein | zwei | drei | vier | funf | sechs | \n",
       "|---|---|---|---|\n",
       "| one | 1  | 5  |  9 | 2  | 10 | 18 | \n",
       "| two | 2  | 6  | 10 | 4  | 12 | 20 | \n",
       "| three | 3  | 7  | 11 | 6  | 14 | 22 | \n",
       "| four | 4  | 8  | 12 | 8  | 16 | 24 | \n",
       "\n",
       "\n"
      ],
      "text/plain": [
       "      ein zwei drei vier funf sechs\n",
       "one   1   5     9   2    10   18   \n",
       "two   2   6    10   4    12   20   \n",
       "three 3   7    11   6    14   22   \n",
       "four  4   8    12   8    16   24   "
      ]
     },
     "metadata": {},
     "output_type": "display_data"
    }
   ],
   "source": [
    "# Natural way to combine is to using `cbind` / `rbind`\n",
    "# cbind is binding by column and rbind is by row\n",
    "cbind(a_matrix, another_matrix)"
   ]
  },
  {
   "cell_type": "code",
   "execution_count": 233,
   "metadata": {
    "collapsed": false
   },
   "outputs": [
    {
     "data": {
      "text/html": [
       "<table>\n",
       "<thead><tr><th></th><th scope=col>ein</th><th scope=col>zwei</th><th scope=col>drei</th></tr></thead>\n",
       "<tbody>\n",
       "\t<tr><th scope=row>one</th><td>1 </td><td> 5</td><td> 9</td></tr>\n",
       "\t<tr><th scope=row>two</th><td>2 </td><td> 6</td><td>10</td></tr>\n",
       "\t<tr><th scope=row>three</th><td>3 </td><td> 7</td><td>11</td></tr>\n",
       "\t<tr><th scope=row>four</th><td>4 </td><td> 8</td><td>12</td></tr>\n",
       "\t<tr><th scope=row>five</th><td>2 </td><td>10</td><td>18</td></tr>\n",
       "\t<tr><th scope=row>six</th><td>4 </td><td>12</td><td>20</td></tr>\n",
       "\t<tr><th scope=row>seven</th><td>6 </td><td>14</td><td>22</td></tr>\n",
       "\t<tr><th scope=row>eigth</th><td>8 </td><td>16</td><td>24</td></tr>\n",
       "</tbody>\n",
       "</table>\n"
      ],
      "text/latex": [
       "\\begin{tabular}{r|lll}\n",
       "  & ein & zwei & drei\\\\\n",
       "\\hline\n",
       "\tone & 1  &  5 &  9\\\\\n",
       "\ttwo & 2  &  6 & 10\\\\\n",
       "\tthree & 3  &  7 & 11\\\\\n",
       "\tfour & 4  &  8 & 12\\\\\n",
       "\tfive & 2  & 10 & 18\\\\\n",
       "\tsix & 4  & 12 & 20\\\\\n",
       "\tseven & 6  & 14 & 22\\\\\n",
       "\teigth & 8  & 16 & 24\\\\\n",
       "\\end{tabular}\n"
      ],
      "text/markdown": [
       "\n",
       "| <!--/--> | ein | zwei | drei | \n",
       "|---|---|---|---|---|---|---|---|\n",
       "| one | 1  |  5 |  9 | \n",
       "| two | 2  |  6 | 10 | \n",
       "| three | 3  |  7 | 11 | \n",
       "| four | 4  |  8 | 12 | \n",
       "| five | 2  | 10 | 18 | \n",
       "| six | 4  | 12 | 20 | \n",
       "| seven | 6  | 14 | 22 | \n",
       "| eigth | 8  | 16 | 24 | \n",
       "\n",
       "\n"
      ],
      "text/plain": [
       "      ein zwei drei\n",
       "one   1    5    9  \n",
       "two   2    6   10  \n",
       "three 3    7   11  \n",
       "four  4    8   12  \n",
       "five  2   10   18  \n",
       "six   4   12   20  \n",
       "seven 6   14   22  \n",
       "eigth 8   16   24  "
      ]
     },
     "metadata": {},
     "output_type": "display_data"
    }
   ],
   "source": [
    "rbind(a_matrix, another_matrix)"
   ]
  },
  {
   "cell_type": "markdown",
   "metadata": {},
   "source": [
    "#### Array Arithmetic"
   ]
  },
  {
   "cell_type": "code",
   "execution_count": 234,
   "metadata": {
    "collapsed": false
   },
   "outputs": [
    {
     "data": {
      "text/html": [
       "<table>\n",
       "<thead><tr><th></th><th scope=col>ein</th><th scope=col>zwei</th><th scope=col>drei</th></tr></thead>\n",
       "<tbody>\n",
       "\t<tr><th scope=row>one</th><td> 3</td><td>15</td><td>27</td></tr>\n",
       "\t<tr><th scope=row>two</th><td> 6</td><td>18</td><td>30</td></tr>\n",
       "\t<tr><th scope=row>three</th><td> 9</td><td>21</td><td>33</td></tr>\n",
       "\t<tr><th scope=row>four</th><td>12</td><td>24</td><td>36</td></tr>\n",
       "</tbody>\n",
       "</table>\n"
      ],
      "text/latex": [
       "\\begin{tabular}{r|lll}\n",
       "  & ein & zwei & drei\\\\\n",
       "\\hline\n",
       "\tone &  3 & 15 & 27\\\\\n",
       "\ttwo &  6 & 18 & 30\\\\\n",
       "\tthree &  9 & 21 & 33\\\\\n",
       "\tfour & 12 & 24 & 36\\\\\n",
       "\\end{tabular}\n"
      ],
      "text/markdown": [
       "\n",
       "| <!--/--> | ein | zwei | drei | \n",
       "|---|---|---|---|\n",
       "| one |  3 | 15 | 27 | \n",
       "| two |  6 | 18 | 30 | \n",
       "| three |  9 | 21 | 33 | \n",
       "| four | 12 | 24 | 36 | \n",
       "\n",
       "\n"
      ],
      "text/plain": [
       "      ein zwei drei\n",
       "one    3  15   27  \n",
       "two    6  18   30  \n",
       "three  9  21   33  \n",
       "four  12  24   36  "
      ]
     },
     "metadata": {},
     "output_type": "display_data"
    }
   ],
   "source": [
    "a_matrix + another_matrix"
   ]
  },
  {
   "cell_type": "code",
   "execution_count": 235,
   "metadata": {
    "collapsed": false
   },
   "outputs": [
    {
     "data": {
      "text/html": [
       "<table>\n",
       "<thead><tr><th></th><th scope=col>ein</th><th scope=col>zwei</th><th scope=col>drei</th></tr></thead>\n",
       "<tbody>\n",
       "\t<tr><th scope=row>one</th><td> 2 </td><td> 50</td><td>162</td></tr>\n",
       "\t<tr><th scope=row>two</th><td> 8 </td><td> 72</td><td>200</td></tr>\n",
       "\t<tr><th scope=row>three</th><td>18 </td><td> 98</td><td>242</td></tr>\n",
       "\t<tr><th scope=row>four</th><td>32 </td><td>128</td><td>288</td></tr>\n",
       "</tbody>\n",
       "</table>\n"
      ],
      "text/latex": [
       "\\begin{tabular}{r|lll}\n",
       "  & ein & zwei & drei\\\\\n",
       "\\hline\n",
       "\tone &  2  &  50 & 162\\\\\n",
       "\ttwo &  8  &  72 & 200\\\\\n",
       "\tthree & 18  &  98 & 242\\\\\n",
       "\tfour & 32  & 128 & 288\\\\\n",
       "\\end{tabular}\n"
      ],
      "text/markdown": [
       "\n",
       "| <!--/--> | ein | zwei | drei | \n",
       "|---|---|---|---|\n",
       "| one |  2  |  50 | 162 | \n",
       "| two |  8  |  72 | 200 | \n",
       "| three | 18  |  98 | 242 | \n",
       "| four | 32  | 128 | 288 | \n",
       "\n",
       "\n"
      ],
      "text/plain": [
       "      ein zwei drei\n",
       "one    2   50  162 \n",
       "two    8   72  200 \n",
       "three 18   98  242 \n",
       "four  32  128  288 "
      ]
     },
     "metadata": {},
     "output_type": "display_data"
    }
   ],
   "source": [
    "a_matrix * another_matrix"
   ]
  },
  {
   "cell_type": "code",
   "execution_count": 236,
   "metadata": {
    "collapsed": false
   },
   "outputs": [
    {
     "ename": "ERROR",
     "evalue": "Error in a_matrix + another_matrix: non-conformable arrays\n",
     "output_type": "error",
     "traceback": [
      "Error in a_matrix + another_matrix: non-conformable arrays\nTraceback:\n"
     ]
    }
   ],
   "source": [
    "# Adding nonformable matrices throws an error\n",
    "another_matrix <- matrix(1:12, nrow=2)\n",
    "a_matrix + another_matrix"
   ]
  },
  {
   "cell_type": "code",
   "execution_count": 238,
   "metadata": {
    "collapsed": false
   },
   "outputs": [
    {
     "data": {
      "text/html": [
       "<table>\n",
       "<thead><tr><th></th><th scope=col>one</th><th scope=col>two</th><th scope=col>three</th><th scope=col>four</th></tr></thead>\n",
       "<tbody>\n",
       "\t<tr><th scope=row>ein</th><td>1 </td><td> 2</td><td> 3</td><td> 4</td></tr>\n",
       "\t<tr><th scope=row>zwei</th><td>5 </td><td> 6</td><td> 7</td><td> 8</td></tr>\n",
       "\t<tr><th scope=row>drei</th><td>9 </td><td>10</td><td>11</td><td>12</td></tr>\n",
       "</tbody>\n",
       "</table>\n"
      ],
      "text/latex": [
       "\\begin{tabular}{r|llll}\n",
       "  & one & two & three & four\\\\\n",
       "\\hline\n",
       "\tein & 1  &  2 &  3 &  4\\\\\n",
       "\tzwei & 5  &  6 &  7 &  8\\\\\n",
       "\tdrei & 9  & 10 & 11 & 12\\\\\n",
       "\\end{tabular}\n"
      ],
      "text/markdown": [
       "\n",
       "| <!--/--> | one | two | three | four | \n",
       "|---|---|---|\n",
       "| ein | 1  |  2 |  3 |  4 | \n",
       "| zwei | 5  |  6 |  7 |  8 | \n",
       "| drei | 9  | 10 | 11 | 12 | \n",
       "\n",
       "\n"
      ],
      "text/plain": [
       "     one two three four\n",
       "ein  1    2   3     4  \n",
       "zwei 5    6   7     8  \n",
       "drei 9   10  11    12  "
      ]
     },
     "metadata": {},
     "output_type": "display_data"
    }
   ],
   "source": [
    "# Transposing matrices\n",
    "t(a_matrix)"
   ]
  },
  {
   "cell_type": "code",
   "execution_count": 239,
   "metadata": {
    "collapsed": false
   },
   "outputs": [
    {
     "data": {
      "text/html": [
       "<table>\n",
       "<thead><tr><th></th><th scope=col>one</th><th scope=col>two</th><th scope=col>three</th><th scope=col>four</th></tr></thead>\n",
       "<tbody>\n",
       "\t<tr><th scope=row>one</th><td>107</td><td>122</td><td>137</td><td>152</td></tr>\n",
       "\t<tr><th scope=row>two</th><td>122</td><td>140</td><td>158</td><td>176</td></tr>\n",
       "\t<tr><th scope=row>three</th><td>137</td><td>158</td><td>179</td><td>200</td></tr>\n",
       "\t<tr><th scope=row>four</th><td>152</td><td>176</td><td>200</td><td>224</td></tr>\n",
       "</tbody>\n",
       "</table>\n"
      ],
      "text/latex": [
       "\\begin{tabular}{r|llll}\n",
       "  & one & two & three & four\\\\\n",
       "\\hline\n",
       "\tone & 107 & 122 & 137 & 152\\\\\n",
       "\ttwo & 122 & 140 & 158 & 176\\\\\n",
       "\tthree & 137 & 158 & 179 & 200\\\\\n",
       "\tfour & 152 & 176 & 200 & 224\\\\\n",
       "\\end{tabular}\n"
      ],
      "text/markdown": [
       "\n",
       "| <!--/--> | one | two | three | four | \n",
       "|---|---|---|---|\n",
       "| one | 107 | 122 | 137 | 152 | \n",
       "| two | 122 | 140 | 158 | 176 | \n",
       "| three | 137 | 158 | 179 | 200 | \n",
       "| four | 152 | 176 | 200 | 224 | \n",
       "\n",
       "\n"
      ],
      "text/plain": [
       "      one two three four\n",
       "one   107 122 137   152 \n",
       "two   122 140 158   176 \n",
       "three 137 158 179   200 \n",
       "four  152 176 200   224 "
      ]
     },
     "metadata": {},
     "output_type": "display_data"
    }
   ],
   "source": [
    "# Inner multiplication\n",
    "a_matrix %*% t(a_matrix)"
   ]
  },
  {
   "cell_type": "code",
   "execution_count": 240,
   "metadata": {
    "collapsed": false
   },
   "outputs": [
    {
     "data": {
      "text/html": [
       "<table>\n",
       "<tbody>\n",
       "\t<tr><td> 4</td><td> 5</td><td> 6</td></tr>\n",
       "\t<tr><td> 8</td><td>10</td><td>12</td></tr>\n",
       "\t<tr><td>12</td><td>15</td><td>18</td></tr>\n",
       "</tbody>\n",
       "</table>\n"
      ],
      "text/latex": [
       "\\begin{tabular}{lll}\n",
       "\t  4 &  5 &  6\\\\\n",
       "\t  8 & 10 & 12\\\\\n",
       "\t 12 & 15 & 18\\\\\n",
       "\\end{tabular}\n"
      ],
      "text/markdown": [
       "\n",
       "|  4 |  5 |  6 | \n",
       "|  8 | 10 | 12 | \n",
       "| 12 | 15 | 18 | \n",
       "\n",
       "\n"
      ],
      "text/plain": [
       "     [,1] [,2] [,3]\n",
       "[1,]  4    5    6  \n",
       "[2,]  8   10   12  \n",
       "[3,] 12   15   18  "
      ]
     },
     "metadata": {},
     "output_type": "display_data"
    }
   ],
   "source": [
    "# Outer multiplication\n",
    "1:3 %o% 4:6"
   ]
  },
  {
   "cell_type": "code",
   "execution_count": 241,
   "metadata": {
    "collapsed": false
   },
   "outputs": [
    {
     "data": {
      "text/html": [
       "<table>\n",
       "<tbody>\n",
       "\t<tr><td> 4</td><td> 5</td><td> 6</td></tr>\n",
       "\t<tr><td> 8</td><td>10</td><td>12</td></tr>\n",
       "\t<tr><td>12</td><td>15</td><td>18</td></tr>\n",
       "</tbody>\n",
       "</table>\n"
      ],
      "text/latex": [
       "\\begin{tabular}{lll}\n",
       "\t  4 &  5 &  6\\\\\n",
       "\t  8 & 10 & 12\\\\\n",
       "\t 12 & 15 & 18\\\\\n",
       "\\end{tabular}\n"
      ],
      "text/markdown": [
       "\n",
       "|  4 |  5 |  6 | \n",
       "|  8 | 10 | 12 | \n",
       "| 12 | 15 | 18 | \n",
       "\n",
       "\n"
      ],
      "text/plain": [
       "     [,1] [,2] [,3]\n",
       "[1,]  4    5    6  \n",
       "[2,]  8   10   12  \n",
       "[3,] 12   15   18  "
      ]
     },
     "metadata": {},
     "output_type": "display_data"
    }
   ],
   "source": [
    "# Same as prev\n",
    "outer(1:3, 4:6)"
   ]
  },
  {
   "cell_type": "code",
   "execution_count": 242,
   "metadata": {
    "collapsed": true
   },
   "outputs": [],
   "source": [
    "# Matrix inversion\n",
    "m <- matrix(c(1, 0, 1, 5, -3, 1, 2, 4, 7), nrow=3)"
   ]
  },
  {
   "cell_type": "code",
   "execution_count": 244,
   "metadata": {
    "collapsed": false
   },
   "outputs": [
    {
     "data": {
      "text/html": [
       "<table>\n",
       "<tbody>\n",
       "\t<tr><td>1 </td><td> 5</td><td>2 </td></tr>\n",
       "\t<tr><td>0 </td><td>-3</td><td>4 </td></tr>\n",
       "\t<tr><td>1 </td><td> 1</td><td>7 </td></tr>\n",
       "</tbody>\n",
       "</table>\n"
      ],
      "text/latex": [
       "\\begin{tabular}{lll}\n",
       "\t 1  &  5 & 2 \\\\\n",
       "\t 0  & -3 & 4 \\\\\n",
       "\t 1  &  1 & 7 \\\\\n",
       "\\end{tabular}\n"
      ],
      "text/markdown": [
       "\n",
       "| 1  |  5 | 2  | \n",
       "| 0  | -3 | 4  | \n",
       "| 1  |  1 | 7  | \n",
       "\n",
       "\n"
      ],
      "text/plain": [
       "     [,1] [,2] [,3]\n",
       "[1,] 1     5   2   \n",
       "[2,] 0    -3   4   \n",
       "[3,] 1     1   7   "
      ]
     },
     "metadata": {},
     "output_type": "display_data"
    }
   ],
   "source": [
    "m"
   ]
  },
  {
   "cell_type": "code",
   "execution_count": 246,
   "metadata": {
    "collapsed": false
   },
   "outputs": [
    {
     "data": {
      "text/html": [
       "<table>\n",
       "<tbody>\n",
       "\t<tr><td>  1       </td><td> 0.2000000</td><td>0.5000000 </td></tr>\n",
       "\t<tr><td>Inf       </td><td>-0.3333333</td><td>0.2500000 </td></tr>\n",
       "\t<tr><td>  1       </td><td> 1.0000000</td><td>0.1428571 </td></tr>\n",
       "</tbody>\n",
       "</table>\n"
      ],
      "text/latex": [
       "\\begin{tabular}{lll}\n",
       "\t   1        &  0.2000000 & 0.5000000 \\\\\n",
       "\t Inf        & -0.3333333 & 0.2500000 \\\\\n",
       "\t   1        &  1.0000000 & 0.1428571 \\\\\n",
       "\\end{tabular}\n"
      ],
      "text/markdown": [
       "\n",
       "|   1        |  0.2000000 | 0.5000000  | \n",
       "| Inf        | -0.3333333 | 0.2500000  | \n",
       "|   1        |  1.0000000 | 0.1428571  | \n",
       "\n",
       "\n"
      ],
      "text/plain": [
       "     [,1] [,2]       [,3]     \n",
       "[1,]   1   0.2000000 0.5000000\n",
       "[2,] Inf  -0.3333333 0.2500000\n",
       "[3,]   1   1.0000000 0.1428571"
      ]
     },
     "metadata": {},
     "output_type": "display_data"
    }
   ],
   "source": [
    "# This doesn't invert matrices\n",
    "m^-1"
   ]
  },
  {
   "cell_type": "code",
   "execution_count": 248,
   "metadata": {
    "collapsed": false
   },
   "outputs": [
    {
     "data": {
      "text/html": [
       "<table>\n",
       "<tbody>\n",
       "\t<tr><td>-25</td><td>-33</td><td>26 </td></tr>\n",
       "\t<tr><td>  4</td><td>  5</td><td>-4 </td></tr>\n",
       "\t<tr><td>  3</td><td>  4</td><td>-3 </td></tr>\n",
       "</tbody>\n",
       "</table>\n"
      ],
      "text/latex": [
       "\\begin{tabular}{lll}\n",
       "\t -25 & -33 & 26 \\\\\n",
       "\t   4 &   5 & -4 \\\\\n",
       "\t   3 &   4 & -3 \\\\\n",
       "\\end{tabular}\n"
      ],
      "text/markdown": [
       "\n",
       "| -25 | -33 | 26  | \n",
       "|   4 |   5 | -4  | \n",
       "|   3 |   4 | -3  | \n",
       "\n",
       "\n"
      ],
      "text/plain": [
       "     [,1] [,2] [,3]\n",
       "[1,] -25  -33  26  \n",
       "[2,]   4    5  -4  \n",
       "[3,]   3    4  -3  "
      ]
     },
     "metadata": {},
     "output_type": "display_data"
    }
   ],
   "source": [
    "# Inversion using `solve`\n",
    "inverse_of_m <- solve(m); inverse_of_m"
   ]
  },
  {
   "cell_type": "code",
   "execution_count": 249,
   "metadata": {
    "collapsed": false
   },
   "outputs": [
    {
     "data": {
      "text/html": [
       "<table>\n",
       "<tbody>\n",
       "\t<tr><td>1</td><td>0</td><td>0</td></tr>\n",
       "\t<tr><td>0</td><td>1</td><td>0</td></tr>\n",
       "\t<tr><td>0</td><td>0</td><td>1</td></tr>\n",
       "</tbody>\n",
       "</table>\n"
      ],
      "text/latex": [
       "\\begin{tabular}{lll}\n",
       "\t 1 & 0 & 0\\\\\n",
       "\t 0 & 1 & 0\\\\\n",
       "\t 0 & 0 & 1\\\\\n",
       "\\end{tabular}\n"
      ],
      "text/markdown": [
       "\n",
       "| 1 | 0 | 0 | \n",
       "| 0 | 1 | 0 | \n",
       "| 0 | 0 | 1 | \n",
       "\n",
       "\n"
      ],
      "text/plain": [
       "     [,1] [,2] [,3]\n",
       "[1,] 1    0    0   \n",
       "[2,] 0    1    0   \n",
       "[3,] 0    0    1   "
      ]
     },
     "metadata": {},
     "output_type": "display_data"
    }
   ],
   "source": [
    "m %*% inverse_of_m"
   ]
  },
  {
   "cell_type": "markdown",
   "metadata": {},
   "source": [
    "## Chapter 5\n",
    "### Lists & Data Frames"
   ]
  },
  {
   "cell_type": "markdown",
   "metadata": {},
   "source": [
    "#### Lists"
   ]
  },
  {
   "cell_type": "code",
   "execution_count": 250,
   "metadata": {
    "collapsed": true
   },
   "outputs": [],
   "source": [
    "a_list <- list(\n",
    "    c(1, 1, 2, 5, 14, 42),\n",
    "    month.abb,\n",
    "    matrix(c(3, -8, 1, -3), nrow = 2),\n",
    "    asin\n",
    ")"
   ]
  },
  {
   "cell_type": "code",
   "execution_count": 251,
   "metadata": {
    "collapsed": false
   },
   "outputs": [
    {
     "data": {
      "text/html": [
       "<ol>\n",
       "\t<li><ol class=list-inline>\n",
       "\t<li>1</li>\n",
       "\t<li>1</li>\n",
       "\t<li>2</li>\n",
       "\t<li>5</li>\n",
       "\t<li>14</li>\n",
       "\t<li>42</li>\n",
       "</ol>\n",
       "</li>\n",
       "\t<li><ol class=list-inline>\n",
       "\t<li>'Jan'</li>\n",
       "\t<li>'Feb'</li>\n",
       "\t<li>'Mar'</li>\n",
       "\t<li>'Apr'</li>\n",
       "\t<li>'May'</li>\n",
       "\t<li>'Jun'</li>\n",
       "\t<li>'Jul'</li>\n",
       "\t<li>'Aug'</li>\n",
       "\t<li>'Sep'</li>\n",
       "\t<li>'Oct'</li>\n",
       "\t<li>'Nov'</li>\n",
       "\t<li>'Dec'</li>\n",
       "</ol>\n",
       "</li>\n",
       "\t<li><table>\n",
       "<tbody>\n",
       "\t<tr><td> 3</td><td> 1</td></tr>\n",
       "\t<tr><td>-8</td><td>-3</td></tr>\n",
       "</tbody>\n",
       "</table>\n",
       "</li>\n",
       "\t<li><pre class=language-r><code>.Primitive(\"asin\")</code></pre></li>\n",
       "</ol>\n"
      ],
      "text/latex": [
       "\\begin{enumerate}\n",
       "\\item \\begin{enumerate*}\n",
       "\\item 1\n",
       "\\item 1\n",
       "\\item 2\n",
       "\\item 5\n",
       "\\item 14\n",
       "\\item 42\n",
       "\\end{enumerate*}\n",
       "\n",
       "\\item \\begin{enumerate*}\n",
       "\\item 'Jan'\n",
       "\\item 'Feb'\n",
       "\\item 'Mar'\n",
       "\\item 'Apr'\n",
       "\\item 'May'\n",
       "\\item 'Jun'\n",
       "\\item 'Jul'\n",
       "\\item 'Aug'\n",
       "\\item 'Sep'\n",
       "\\item 'Oct'\n",
       "\\item 'Nov'\n",
       "\\item 'Dec'\n",
       "\\end{enumerate*}\n",
       "\n",
       "\\item \\begin{tabular}{ll}\n",
       "\t  3 &  1\\\\\n",
       "\t -8 & -3\\\\\n",
       "\\end{tabular}\n",
       "\n",
       "\\item \\begin{minted}{r}\n",
       ".Primitive(\"asin\")\n",
       "\\end{minted}\n",
       "\\end{enumerate}\n"
      ],
      "text/markdown": [
       "1. 1. 1\n",
       "2. 1\n",
       "3. 2\n",
       "4. 5\n",
       "5. 14\n",
       "6. 42\n",
       "\n",
       "\n",
       "\n",
       "2. 1. 'Jan'\n",
       "2. 'Feb'\n",
       "3. 'Mar'\n",
       "4. 'Apr'\n",
       "5. 'May'\n",
       "6. 'Jun'\n",
       "7. 'Jul'\n",
       "8. 'Aug'\n",
       "9. 'Sep'\n",
       "10. 'Oct'\n",
       "11. 'Nov'\n",
       "12. 'Dec'\n",
       "\n",
       "\n",
       "\n",
       "3. \n",
       "|  3 |  1 | \n",
       "| -8 | -3 | \n",
       "\n",
       "\n",
       "\n",
       "4. ```r\n",
       ".Primitive(\"asin\")\n",
       "```\n",
       "\n",
       "\n"
      ],
      "text/plain": [
       "[[1]]\n",
       "[1]  1  1  2  5 14 42\n",
       "\n",
       "[[2]]\n",
       " [1] \"Jan\" \"Feb\" \"Mar\" \"Apr\" \"May\" \"Jun\" \"Jul\" \"Aug\" \"Sep\" \"Oct\" \"Nov\" \"Dec\"\n",
       "\n",
       "[[3]]\n",
       "     [,1] [,2]\n",
       "[1,]    3    1\n",
       "[2,]   -8   -3\n",
       "\n",
       "[[4]]\n",
       "function (x)  .Primitive(\"asin\")\n"
      ]
     },
     "metadata": {},
     "output_type": "display_data"
    }
   ],
   "source": [
    "a_list"
   ]
  },
  {
   "cell_type": "code",
   "execution_count": 252,
   "metadata": {
    "collapsed": false
   },
   "outputs": [
    {
     "data": {
      "text/html": [
       "<dl>\n",
       "\t<dt>$catalan</dt>\n",
       "\t\t<dd><ol class=list-inline>\n",
       "\t<li>1</li>\n",
       "\t<li>1</li>\n",
       "\t<li>2</li>\n",
       "\t<li>5</li>\n",
       "\t<li>14</li>\n",
       "\t<li>42</li>\n",
       "</ol>\n",
       "</dd>\n",
       "\t<dt>$months</dt>\n",
       "\t\t<dd><ol class=list-inline>\n",
       "\t<li>'Jan'</li>\n",
       "\t<li>'Feb'</li>\n",
       "\t<li>'Mar'</li>\n",
       "\t<li>'Apr'</li>\n",
       "\t<li>'May'</li>\n",
       "\t<li>'Jun'</li>\n",
       "\t<li>'Jul'</li>\n",
       "\t<li>'Aug'</li>\n",
       "\t<li>'Sep'</li>\n",
       "\t<li>'Oct'</li>\n",
       "\t<li>'Nov'</li>\n",
       "\t<li>'Dec'</li>\n",
       "</ol>\n",
       "</dd>\n",
       "\t<dt>$involutary</dt>\n",
       "\t\t<dd><table>\n",
       "<tbody>\n",
       "\t<tr><td> 3</td><td> 1</td></tr>\n",
       "\t<tr><td>-8</td><td>-3</td></tr>\n",
       "</tbody>\n",
       "</table>\n",
       "</dd>\n",
       "\t<dt>$arcsin</dt>\n",
       "\t\t<dd><pre class=language-r><code>.Primitive(\"asin\")</code></pre></dd>\n",
       "</dl>\n"
      ],
      "text/latex": [
       "\\begin{description}\n",
       "\\item[\\$catalan] \\begin{enumerate*}\n",
       "\\item 1\n",
       "\\item 1\n",
       "\\item 2\n",
       "\\item 5\n",
       "\\item 14\n",
       "\\item 42\n",
       "\\end{enumerate*}\n",
       "\n",
       "\\item[\\$months] \\begin{enumerate*}\n",
       "\\item 'Jan'\n",
       "\\item 'Feb'\n",
       "\\item 'Mar'\n",
       "\\item 'Apr'\n",
       "\\item 'May'\n",
       "\\item 'Jun'\n",
       "\\item 'Jul'\n",
       "\\item 'Aug'\n",
       "\\item 'Sep'\n",
       "\\item 'Oct'\n",
       "\\item 'Nov'\n",
       "\\item 'Dec'\n",
       "\\end{enumerate*}\n",
       "\n",
       "\\item[\\$involutary] \\begin{tabular}{ll}\n",
       "\t  3 &  1\\\\\n",
       "\t -8 & -3\\\\\n",
       "\\end{tabular}\n",
       "\n",
       "\\item[\\$arcsin] \\begin{minted}{r}\n",
       ".Primitive(\"asin\")\n",
       "\\end{minted}\n",
       "\\end{description}\n"
      ],
      "text/markdown": [
       "$catalan\n",
       ":   1. 1\n",
       "2. 1\n",
       "3. 2\n",
       "4. 5\n",
       "5. 14\n",
       "6. 42\n",
       "\n",
       "\n",
       "\n",
       "$months\n",
       ":   1. 'Jan'\n",
       "2. 'Feb'\n",
       "3. 'Mar'\n",
       "4. 'Apr'\n",
       "5. 'May'\n",
       "6. 'Jun'\n",
       "7. 'Jul'\n",
       "8. 'Aug'\n",
       "9. 'Sep'\n",
       "10. 'Oct'\n",
       "11. 'Nov'\n",
       "12. 'Dec'\n",
       "\n",
       "\n",
       "\n",
       "$involutary\n",
       ":   \n",
       "|  3 |  1 | \n",
       "| -8 | -3 | \n",
       "\n",
       "\n",
       "\n",
       "$arcsin\n",
       ":   ```r\n",
       ".Primitive(\"asin\")\n",
       "```\n",
       "\n",
       "\n"
      ],
      "text/plain": [
       "$catalan\n",
       "[1]  1  1  2  5 14 42\n",
       "\n",
       "$months\n",
       " [1] \"Jan\" \"Feb\" \"Mar\" \"Apr\" \"May\" \"Jun\" \"Jul\" \"Aug\" \"Sep\" \"Oct\" \"Nov\" \"Dec\"\n",
       "\n",
       "$involutary\n",
       "     [,1] [,2]\n",
       "[1,]    3    1\n",
       "[2,]   -8   -3\n",
       "\n",
       "$arcsin\n",
       "function (x)  .Primitive(\"asin\")\n"
      ]
     },
     "metadata": {},
     "output_type": "display_data"
    }
   ],
   "source": [
    "names(a_list) <- c(\"catalan\", \"months\", \"involutary\", \"arcsin\"); a_list"
   ]
  },
  {
   "cell_type": "code",
   "execution_count": 253,
   "metadata": {
    "collapsed": true
   },
   "outputs": [],
   "source": [
    "the_same_list <- list (\n",
    "    catalan = c(1, 1, 2, 5, 14, 42),\n",
    "    months = month.abb,\n",
    "    involutary = matrix(c(3, -8, 1, -3), nrow = 2),\n",
    "    arcsin = asin\n",
    ")"
   ]
  },
  {
   "cell_type": "code",
   "execution_count": 254,
   "metadata": {
    "collapsed": false
   },
   "outputs": [
    {
     "data": {
      "text/html": [
       "<dl>\n",
       "\t<dt>$catalan</dt>\n",
       "\t\t<dd><ol class=list-inline>\n",
       "\t<li>1</li>\n",
       "\t<li>1</li>\n",
       "\t<li>2</li>\n",
       "\t<li>5</li>\n",
       "\t<li>14</li>\n",
       "\t<li>42</li>\n",
       "</ol>\n",
       "</dd>\n",
       "\t<dt>$months</dt>\n",
       "\t\t<dd><ol class=list-inline>\n",
       "\t<li>'Jan'</li>\n",
       "\t<li>'Feb'</li>\n",
       "\t<li>'Mar'</li>\n",
       "\t<li>'Apr'</li>\n",
       "\t<li>'May'</li>\n",
       "\t<li>'Jun'</li>\n",
       "\t<li>'Jul'</li>\n",
       "\t<li>'Aug'</li>\n",
       "\t<li>'Sep'</li>\n",
       "\t<li>'Oct'</li>\n",
       "\t<li>'Nov'</li>\n",
       "\t<li>'Dec'</li>\n",
       "</ol>\n",
       "</dd>\n",
       "\t<dt>$involutary</dt>\n",
       "\t\t<dd><table>\n",
       "<tbody>\n",
       "\t<tr><td> 3</td><td> 1</td></tr>\n",
       "\t<tr><td>-8</td><td>-3</td></tr>\n",
       "</tbody>\n",
       "</table>\n",
       "</dd>\n",
       "\t<dt>$arcsin</dt>\n",
       "\t\t<dd><pre class=language-r><code>.Primitive(\"asin\")</code></pre></dd>\n",
       "</dl>\n"
      ],
      "text/latex": [
       "\\begin{description}\n",
       "\\item[\\$catalan] \\begin{enumerate*}\n",
       "\\item 1\n",
       "\\item 1\n",
       "\\item 2\n",
       "\\item 5\n",
       "\\item 14\n",
       "\\item 42\n",
       "\\end{enumerate*}\n",
       "\n",
       "\\item[\\$months] \\begin{enumerate*}\n",
       "\\item 'Jan'\n",
       "\\item 'Feb'\n",
       "\\item 'Mar'\n",
       "\\item 'Apr'\n",
       "\\item 'May'\n",
       "\\item 'Jun'\n",
       "\\item 'Jul'\n",
       "\\item 'Aug'\n",
       "\\item 'Sep'\n",
       "\\item 'Oct'\n",
       "\\item 'Nov'\n",
       "\\item 'Dec'\n",
       "\\end{enumerate*}\n",
       "\n",
       "\\item[\\$involutary] \\begin{tabular}{ll}\n",
       "\t  3 &  1\\\\\n",
       "\t -8 & -3\\\\\n",
       "\\end{tabular}\n",
       "\n",
       "\\item[\\$arcsin] \\begin{minted}{r}\n",
       ".Primitive(\"asin\")\n",
       "\\end{minted}\n",
       "\\end{description}\n"
      ],
      "text/markdown": [
       "$catalan\n",
       ":   1. 1\n",
       "2. 1\n",
       "3. 2\n",
       "4. 5\n",
       "5. 14\n",
       "6. 42\n",
       "\n",
       "\n",
       "\n",
       "$months\n",
       ":   1. 'Jan'\n",
       "2. 'Feb'\n",
       "3. 'Mar'\n",
       "4. 'Apr'\n",
       "5. 'May'\n",
       "6. 'Jun'\n",
       "7. 'Jul'\n",
       "8. 'Aug'\n",
       "9. 'Sep'\n",
       "10. 'Oct'\n",
       "11. 'Nov'\n",
       "12. 'Dec'\n",
       "\n",
       "\n",
       "\n",
       "$involutary\n",
       ":   \n",
       "|  3 |  1 | \n",
       "| -8 | -3 | \n",
       "\n",
       "\n",
       "\n",
       "$arcsin\n",
       ":   ```r\n",
       ".Primitive(\"asin\")\n",
       "```\n",
       "\n",
       "\n"
      ],
      "text/plain": [
       "$catalan\n",
       "[1]  1  1  2  5 14 42\n",
       "\n",
       "$months\n",
       " [1] \"Jan\" \"Feb\" \"Mar\" \"Apr\" \"May\" \"Jun\" \"Jul\" \"Aug\" \"Sep\" \"Oct\" \"Nov\" \"Dec\"\n",
       "\n",
       "$involutary\n",
       "     [,1] [,2]\n",
       "[1,]    3    1\n",
       "[2,]   -8   -3\n",
       "\n",
       "$arcsin\n",
       "function (x)  .Primitive(\"asin\")\n"
      ]
     },
     "metadata": {},
     "output_type": "display_data"
    }
   ],
   "source": [
    "the_same_list"
   ]
  },
  {
   "cell_type": "code",
   "execution_count": 255,
   "metadata": {
    "collapsed": true
   },
   "outputs": [],
   "source": [
    "main_list <- list (\n",
    "    middle_list = list (\n",
    "        element_in_middle_list = diag(3),\n",
    "        inner_list = list (\n",
    "            element_in_inner_list = pi ^ 1:4,\n",
    "            another_element_in_inner_list = \"a\"\n",
    "        )\n",
    "    ),\n",
    "    element_in_main_list = log10(1:10)\n",
    ")"
   ]
  },
  {
   "cell_type": "markdown",
   "metadata": {},
   "source": [
    "#### Atomic & Recursive Variables\n",
    "\n",
    "**Vectors, matrices and arrays by contrast are atomic**"
   ]
  },
  {
   "cell_type": "code",
   "execution_count": 261,
   "metadata": {
    "collapsed": false
   },
   "outputs": [
    {
     "data": {
      "text/html": [
       "FALSE"
      ],
      "text/latex": [
       "FALSE"
      ],
      "text/markdown": [
       "FALSE"
      ],
      "text/plain": [
       "[1] FALSE"
      ]
     },
     "metadata": {},
     "output_type": "display_data"
    }
   ],
   "source": [
    "is.atomic(list())"
   ]
  },
  {
   "cell_type": "code",
   "execution_count": 262,
   "metadata": {
    "collapsed": false
   },
   "outputs": [
    {
     "data": {
      "text/html": [
       "TRUE"
      ],
      "text/latex": [
       "TRUE"
      ],
      "text/markdown": [
       "TRUE"
      ],
      "text/plain": [
       "[1] TRUE"
      ]
     },
     "metadata": {},
     "output_type": "display_data"
    }
   ],
   "source": [
    "is.recursive(list())"
   ]
  },
  {
   "cell_type": "code",
   "execution_count": 263,
   "metadata": {
    "collapsed": false
   },
   "outputs": [
    {
     "data": {
      "text/html": [
       "TRUE"
      ],
      "text/latex": [
       "TRUE"
      ],
      "text/markdown": [
       "TRUE"
      ],
      "text/plain": [
       "[1] TRUE"
      ]
     },
     "metadata": {},
     "output_type": "display_data"
    }
   ],
   "source": [
    "is.atomic(numeric())"
   ]
  },
  {
   "cell_type": "code",
   "execution_count": 264,
   "metadata": {
    "collapsed": false
   },
   "outputs": [
    {
     "data": {
      "text/html": [
       "FALSE"
      ],
      "text/latex": [
       "FALSE"
      ],
      "text/markdown": [
       "FALSE"
      ],
      "text/plain": [
       "[1] FALSE"
      ]
     },
     "metadata": {},
     "output_type": "display_data"
    }
   ],
   "source": [
    "is.recursive(numeric())"
   ]
  },
  {
   "cell_type": "markdown",
   "metadata": {},
   "source": [
    "#### List Dimensions & Arithmetic"
   ]
  },
  {
   "cell_type": "code",
   "execution_count": 265,
   "metadata": {
    "collapsed": false
   },
   "outputs": [
    {
     "data": {
      "text/html": [
       "4"
      ],
      "text/latex": [
       "4"
      ],
      "text/markdown": [
       "4"
      ],
      "text/plain": [
       "[1] 4"
      ]
     },
     "metadata": {},
     "output_type": "display_data"
    }
   ],
   "source": [
    "length(a_list)"
   ]
  },
  {
   "cell_type": "code",
   "execution_count": 266,
   "metadata": {
    "collapsed": false
   },
   "outputs": [
    {
     "data": {
      "text/html": [
       "2"
      ],
      "text/latex": [
       "2"
      ],
      "text/markdown": [
       "2"
      ],
      "text/plain": [
       "[1] 2"
      ]
     },
     "metadata": {},
     "output_type": "display_data"
    }
   ],
   "source": [
    "length(main_list)"
   ]
  },
  {
   "cell_type": "code",
   "execution_count": 267,
   "metadata": {
    "collapsed": false
   },
   "outputs": [
    {
     "data": {
      "text/plain": [
       "NULL"
      ]
     },
     "metadata": {},
     "output_type": "display_data"
    }
   ],
   "source": [
    "dim(a_list)"
   ]
  },
  {
   "cell_type": "code",
   "execution_count": 268,
   "metadata": {
    "collapsed": false
   },
   "outputs": [
    {
     "data": {
      "text/plain": [
       "NULL"
      ]
     },
     "metadata": {},
     "output_type": "display_data"
    }
   ],
   "source": [
    "dim(main_list)"
   ]
  },
  {
   "cell_type": "code",
   "execution_count": 269,
   "metadata": {
    "collapsed": false
   },
   "outputs": [
    {
     "data": {
      "text/plain": [
       "NULL"
      ]
     },
     "metadata": {},
     "output_type": "display_data"
    }
   ],
   "source": [
    "nrow(a_list)"
   ]
  },
  {
   "cell_type": "code",
   "execution_count": 270,
   "metadata": {
    "collapsed": false,
    "scrolled": true
   },
   "outputs": [
    {
     "data": {
      "text/plain": [
       "NULL"
      ]
     },
     "metadata": {},
     "output_type": "display_data"
    }
   ],
   "source": [
    "ncol(a_list)"
   ]
  },
  {
   "cell_type": "code",
   "execution_count": 271,
   "metadata": {
    "collapsed": false
   },
   "outputs": [
    {
     "data": {
      "text/html": [
       "4"
      ],
      "text/latex": [
       "4"
      ],
      "text/markdown": [
       "4"
      ],
      "text/plain": [
       "[1] 4"
      ]
     },
     "metadata": {},
     "output_type": "display_data"
    }
   ],
   "source": [
    "NROW(a_list)"
   ]
  },
  {
   "cell_type": "code",
   "execution_count": 272,
   "metadata": {
    "collapsed": false
   },
   "outputs": [
    {
     "data": {
      "text/html": [
       "1"
      ],
      "text/latex": [
       "1"
      ],
      "text/markdown": [
       "1"
      ],
      "text/plain": [
       "[1] 1"
      ]
     },
     "metadata": {},
     "output_type": "display_data"
    }
   ],
   "source": [
    "NCOL(a_list)"
   ]
  },
  {
   "cell_type": "code",
   "execution_count": 275,
   "metadata": {
    "collapsed": false
   },
   "outputs": [
    {
     "name": "stdout",
     "output_type": "stream",
     "text": [
      "[1] 1 2 3 4 5\n",
      "[1]  6  7  8  9 10\n"
     ]
    },
    {
     "data": {
      "text/html": [
       "<ol class=list-inline>\n",
       "\t<li>7</li>\n",
       "\t<li>9</li>\n",
       "\t<li>11</li>\n",
       "\t<li>13</li>\n",
       "\t<li>15</li>\n",
       "</ol>\n"
      ],
      "text/latex": [
       "\\begin{enumerate*}\n",
       "\\item 7\n",
       "\\item 9\n",
       "\\item 11\n",
       "\\item 13\n",
       "\\item 15\n",
       "\\end{enumerate*}\n"
      ],
      "text/markdown": [
       "1. 7\n",
       "2. 9\n",
       "3. 11\n",
       "4. 13\n",
       "5. 15\n",
       "\n",
       "\n"
      ],
      "text/plain": [
       "[1]  7  9 11 13 15"
      ]
     },
     "metadata": {},
     "output_type": "display_data"
    }
   ],
   "source": [
    "l1 <- list(1:5)\n",
    "l2 <- list(6:10)\n",
    "\n",
    "print(l1[[1]])\n",
    "print(l2[[1]])\n",
    "\n",
    "l1[[1]] + l2[[1]]"
   ]
  },
  {
   "cell_type": "markdown",
   "metadata": {},
   "source": [
    "#### Indexing Lists"
   ]
  },
  {
   "cell_type": "code",
   "execution_count": 280,
   "metadata": {
    "collapsed": true
   },
   "outputs": [],
   "source": [
    "# Test list\n",
    "l <- list(\n",
    "    first = 1,\n",
    "    second = 2,\n",
    "    third = list (\n",
    "        alpha = 3.1,\n",
    "        beta = 3.2\n",
    "    )\n",
    ")"
   ]
  },
  {
   "cell_type": "code",
   "execution_count": 281,
   "metadata": {
    "collapsed": false
   },
   "outputs": [
    {
     "data": {
      "text/html": [
       "<dl>\n",
       "\t<dt>$first</dt>\n",
       "\t\t<dd>1</dd>\n",
       "\t<dt>$second</dt>\n",
       "\t\t<dd>2</dd>\n",
       "</dl>\n"
      ],
      "text/latex": [
       "\\begin{description}\n",
       "\\item[\\$first] 1\n",
       "\\item[\\$second] 2\n",
       "\\end{description}\n"
      ],
      "text/markdown": [
       "$first\n",
       ":   1\n",
       "$second\n",
       ":   2\n",
       "\n",
       "\n"
      ],
      "text/plain": [
       "$first\n",
       "[1] 1\n",
       "\n",
       "$second\n",
       "[1] 2\n"
      ]
     },
     "metadata": {},
     "output_type": "display_data"
    }
   ],
   "source": [
    "l[1:2]"
   ]
  },
  {
   "cell_type": "code",
   "execution_count": 282,
   "metadata": {
    "collapsed": false
   },
   "outputs": [
    {
     "data": {
      "text/html": [
       "<dl>\n",
       "\t<dt>$first</dt>\n",
       "\t\t<dd>1</dd>\n",
       "\t<dt>$second</dt>\n",
       "\t\t<dd>2</dd>\n",
       "</dl>\n"
      ],
      "text/latex": [
       "\\begin{description}\n",
       "\\item[\\$first] 1\n",
       "\\item[\\$second] 2\n",
       "\\end{description}\n"
      ],
      "text/markdown": [
       "$first\n",
       ":   1\n",
       "$second\n",
       ":   2\n",
       "\n",
       "\n"
      ],
      "text/plain": [
       "$first\n",
       "[1] 1\n",
       "\n",
       "$second\n",
       "[1] 2\n"
      ]
     },
     "metadata": {},
     "output_type": "display_data"
    }
   ],
   "source": [
    "l[-3]"
   ]
  },
  {
   "cell_type": "code",
   "execution_count": 283,
   "metadata": {
    "collapsed": false
   },
   "outputs": [
    {
     "data": {
      "text/html": [
       "<dl>\n",
       "\t<dt>$first</dt>\n",
       "\t\t<dd>1</dd>\n",
       "\t<dt>$second</dt>\n",
       "\t\t<dd>2</dd>\n",
       "</dl>\n"
      ],
      "text/latex": [
       "\\begin{description}\n",
       "\\item[\\$first] 1\n",
       "\\item[\\$second] 2\n",
       "\\end{description}\n"
      ],
      "text/markdown": [
       "$first\n",
       ":   1\n",
       "$second\n",
       ":   2\n",
       "\n",
       "\n"
      ],
      "text/plain": [
       "$first\n",
       "[1] 1\n",
       "\n",
       "$second\n",
       "[1] 2\n"
      ]
     },
     "metadata": {},
     "output_type": "display_data"
    }
   ],
   "source": [
    "l[c(\"first\", \"second\")]"
   ]
  },
  {
   "cell_type": "code",
   "execution_count": 284,
   "metadata": {
    "collapsed": false
   },
   "outputs": [
    {
     "data": {
      "text/html": [
       "<dl>\n",
       "\t<dt>$first</dt>\n",
       "\t\t<dd>1</dd>\n",
       "\t<dt>$second</dt>\n",
       "\t\t<dd>2</dd>\n",
       "</dl>\n"
      ],
      "text/latex": [
       "\\begin{description}\n",
       "\\item[\\$first] 1\n",
       "\\item[\\$second] 2\n",
       "\\end{description}\n"
      ],
      "text/markdown": [
       "$first\n",
       ":   1\n",
       "$second\n",
       ":   2\n",
       "\n",
       "\n"
      ],
      "text/plain": [
       "$first\n",
       "[1] 1\n",
       "\n",
       "$second\n",
       "[1] 2\n"
      ]
     },
     "metadata": {},
     "output_type": "display_data"
    }
   ],
   "source": [
    "l[c(TRUE, TRUE, FALSE)]"
   ]
  },
  {
   "cell_type": "code",
   "execution_count": 285,
   "metadata": {
    "collapsed": false
   },
   "outputs": [
    {
     "data": {
      "text/html": [
       "1"
      ],
      "text/latex": [
       "1"
      ],
      "text/markdown": [
       "1"
      ],
      "text/plain": [
       "[1] 1"
      ]
     },
     "metadata": {},
     "output_type": "display_data"
    }
   ],
   "source": [
    "l[[1]]"
   ]
  },
  {
   "cell_type": "code",
   "execution_count": 286,
   "metadata": {
    "collapsed": false
   },
   "outputs": [
    {
     "data": {
      "text/html": [
       "1"
      ],
      "text/latex": [
       "1"
      ],
      "text/markdown": [
       "1"
      ],
      "text/plain": [
       "[1] 1"
      ]
     },
     "metadata": {},
     "output_type": "display_data"
    }
   ],
   "source": [
    "l[[\"first\"]]"
   ]
  },
  {
   "cell_type": "code",
   "execution_count": 287,
   "metadata": {
    "collapsed": false
   },
   "outputs": [
    {
     "data": {
      "text/html": [
       "TRUE"
      ],
      "text/latex": [
       "TRUE"
      ],
      "text/markdown": [
       "TRUE"
      ],
      "text/plain": [
       "[1] TRUE"
      ]
     },
     "metadata": {},
     "output_type": "display_data"
    }
   ],
   "source": [
    "is.list(l[1])"
   ]
  },
  {
   "cell_type": "code",
   "execution_count": 291,
   "metadata": {
    "collapsed": false
   },
   "outputs": [
    {
     "data": {
      "text/html": [
       "1"
      ],
      "text/latex": [
       "1"
      ],
      "text/markdown": [
       "1"
      ],
      "text/plain": [
       "[1] 1"
      ]
     },
     "metadata": {},
     "output_type": "display_data"
    }
   ],
   "source": [
    "l$first"
   ]
  },
  {
   "cell_type": "code",
   "execution_count": 292,
   "metadata": {
    "collapsed": false
   },
   "outputs": [
    {
     "data": {
      "text/html": [
       "1"
      ],
      "text/latex": [
       "1"
      ],
      "text/markdown": [
       "1"
      ],
      "text/plain": [
       "[1] 1"
      ]
     },
     "metadata": {},
     "output_type": "display_data"
    }
   ],
   "source": [
    "l$f"
   ]
  },
  {
   "cell_type": "code",
   "execution_count": 293,
   "metadata": {
    "collapsed": false
   },
   "outputs": [
    {
     "data": {
      "text/html": [
       "2"
      ],
      "text/latex": [
       "2"
      ],
      "text/markdown": [
       "2"
      ],
      "text/plain": [
       "[1] 2"
      ]
     },
     "metadata": {},
     "output_type": "display_data"
    }
   ],
   "source": [
    "l$second"
   ]
  },
  {
   "cell_type": "code",
   "execution_count": 294,
   "metadata": {
    "collapsed": false
   },
   "outputs": [
    {
     "data": {
      "text/html": [
       "<dl>\n",
       "\t<dt>$alpha</dt>\n",
       "\t\t<dd>3.1</dd>\n",
       "\t<dt>$beta</dt>\n",
       "\t\t<dd>3.2</dd>\n",
       "</dl>\n"
      ],
      "text/latex": [
       "\\begin{description}\n",
       "\\item[\\$alpha] 3.1\n",
       "\\item[\\$beta] 3.2\n",
       "\\end{description}\n"
      ],
      "text/markdown": [
       "$alpha\n",
       ":   3.1\n",
       "$beta\n",
       ":   3.2\n",
       "\n",
       "\n"
      ],
      "text/plain": [
       "$alpha\n",
       "[1] 3.1\n",
       "\n",
       "$beta\n",
       "[1] 3.2\n"
      ]
     },
     "metadata": {},
     "output_type": "display_data"
    }
   ],
   "source": [
    "l$third"
   ]
  },
  {
   "cell_type": "code",
   "execution_count": 295,
   "metadata": {
    "collapsed": false
   },
   "outputs": [
    {
     "data": {
      "text/html": [
       "3.1"
      ],
      "text/latex": [
       "3.1"
      ],
      "text/markdown": [
       "3.1"
      ],
      "text/plain": [
       "[1] 3.1"
      ]
     },
     "metadata": {},
     "output_type": "display_data"
    }
   ],
   "source": [
    "l$third$alpha"
   ]
  },
  {
   "cell_type": "code",
   "execution_count": 296,
   "metadata": {
    "collapsed": false
   },
   "outputs": [
    {
     "data": {
      "text/html": [
       "<strong>$beta</strong> = 3.2"
      ],
      "text/latex": [
       "\\textbf{\\$beta} = 3.2"
      ],
      "text/markdown": [
       "**$beta** = 3.2"
      ],
      "text/plain": [
       "$beta\n",
       "[1] 3.2\n"
      ]
     },
     "metadata": {},
     "output_type": "display_data"
    }
   ],
   "source": [
    "l[[\"third\"]][\"beta\"]"
   ]
  },
  {
   "cell_type": "code",
   "execution_count": 297,
   "metadata": {
    "collapsed": false
   },
   "outputs": [
    {
     "data": {
      "text/html": [
       "3.2"
      ],
      "text/latex": [
       "3.2"
      ],
      "text/markdown": [
       "3.2"
      ],
      "text/plain": [
       "[1] 3.2"
      ]
     },
     "metadata": {},
     "output_type": "display_data"
    }
   ],
   "source": [
    "l[[\"third\"]][[\"beta\"]]"
   ]
  },
  {
   "cell_type": "code",
   "execution_count": 298,
   "metadata": {
    "collapsed": false
   },
   "outputs": [
    {
     "data": {
      "text/plain": [
       "$<NA>\n",
       "NULL\n",
       "\n",
       "$second\n",
       "[1] 2\n",
       "\n",
       "$<NA>\n",
       "NULL\n"
      ]
     },
     "metadata": {},
     "output_type": "display_data"
    }
   ],
   "source": [
    "l[c(4, 2 , 5)]"
   ]
  },
  {
   "cell_type": "code",
   "execution_count": 299,
   "metadata": {
    "collapsed": false
   },
   "outputs": [
    {
     "data": {
      "text/plain": [
       "NULL"
      ]
     },
     "metadata": {},
     "output_type": "display_data"
    }
   ],
   "source": [
    "# Element that doesn't exist\n",
    "l[[\"fourth\"]]"
   ]
  },
  {
   "cell_type": "code",
   "execution_count": 300,
   "metadata": {
    "collapsed": false
   },
   "outputs": [
    {
     "data": {
      "text/plain": [
       "NULL"
      ]
     },
     "metadata": {},
     "output_type": "display_data"
    }
   ],
   "source": [
    "l$fourth"
   ]
  },
  {
   "cell_type": "markdown",
   "metadata": {},
   "source": [
    "#### Converting Between Vectors & Lists"
   ]
  },
  {
   "cell_type": "code",
   "execution_count": 302,
   "metadata": {
    "collapsed": false
   },
   "outputs": [
    {
     "data": {
      "text/html": [
       "<ol>\n",
       "\t<li>1</li>\n",
       "\t<li>6</li>\n",
       "\t<li>21</li>\n",
       "\t<li>107</li>\n",
       "</ol>\n"
      ],
      "text/latex": [
       "\\begin{enumerate}\n",
       "\\item 1\n",
       "\\item 6\n",
       "\\item 21\n",
       "\\item 107\n",
       "\\end{enumerate}\n"
      ],
      "text/markdown": [
       "1. 1\n",
       "2. 6\n",
       "3. 21\n",
       "4. 107\n",
       "\n",
       "\n"
      ],
      "text/plain": [
       "[[1]]\n",
       "[1] 1\n",
       "\n",
       "[[2]]\n",
       "[1] 6\n",
       "\n",
       "[[3]]\n",
       "[1] 21\n",
       "\n",
       "[[4]]\n",
       "[1] 107\n"
      ]
     },
     "metadata": {},
     "output_type": "display_data"
    }
   ],
   "source": [
    "# Convert vector into list\n",
    "busy_beaver <- c(1, 6, 21, 107)\n",
    "as.list(busy_beaver)"
   ]
  },
  {
   "cell_type": "code",
   "execution_count": 304,
   "metadata": {
    "collapsed": false
   },
   "outputs": [
    {
     "data": {
      "text/html": [
       "<ol class=list-inline>\n",
       "\t<li>1</li>\n",
       "\t<li>6</li>\n",
       "\t<li>21</li>\n",
       "\t<li>107</li>\n",
       "</ol>\n"
      ],
      "text/latex": [
       "\\begin{enumerate*}\n",
       "\\item 1\n",
       "\\item 6\n",
       "\\item 21\n",
       "\\item 107\n",
       "\\end{enumerate*}\n"
      ],
      "text/markdown": [
       "1. 1\n",
       "2. 6\n",
       "3. 21\n",
       "4. 107\n",
       "\n",
       "\n"
      ],
      "text/plain": [
       "[1]   1   6  21 107"
      ]
     },
     "metadata": {},
     "output_type": "display_data"
    }
   ],
   "source": [
    "# List 2 Vec\n",
    "as.numeric(list(1, 6, 21, 107))"
   ]
  },
  {
   "cell_type": "code",
   "execution_count": 307,
   "metadata": {
    "collapsed": false
   },
   "outputs": [
    {
     "data": {
      "text/html": [
       "<dl class=dl-horizontal>\n",
       "\t<dt>two</dt>\n",
       "\t\t<dd>2</dd>\n",
       "\t<dt>three</dt>\n",
       "\t\t<dd>3</dd>\n",
       "\t<dt>four1</dt>\n",
       "\t\t<dd>2</dd>\n",
       "\t<dt>four2</dt>\n",
       "\t\t<dd>2</dd>\n",
       "\t<dt>five</dt>\n",
       "\t\t<dd>5</dd>\n",
       "\t<dt>six1</dt>\n",
       "\t\t<dd>2</dd>\n",
       "\t<dt>six2</dt>\n",
       "\t\t<dd>3</dd>\n",
       "\t<dt>seven</dt>\n",
       "\t\t<dd>7</dd>\n",
       "\t<dt>eight1</dt>\n",
       "\t\t<dd>2</dd>\n",
       "\t<dt>eight2</dt>\n",
       "\t\t<dd>2</dd>\n",
       "\t<dt>eight3</dt>\n",
       "\t\t<dd>2</dd>\n",
       "\t<dt>nine1</dt>\n",
       "\t\t<dd>3</dd>\n",
       "\t<dt>nine2</dt>\n",
       "\t\t<dd>3</dd>\n",
       "\t<dt>ten1</dt>\n",
       "\t\t<dd>2</dd>\n",
       "\t<dt>ten2</dt>\n",
       "\t\t<dd>5</dd>\n",
       "</dl>\n"
      ],
      "text/latex": [
       "\\begin{description*}\n",
       "\\item[two] 2\n",
       "\\item[three] 3\n",
       "\\item[four1] 2\n",
       "\\item[four2] 2\n",
       "\\item[five] 5\n",
       "\\item[six1] 2\n",
       "\\item[six2] 3\n",
       "\\item[seven] 7\n",
       "\\item[eight1] 2\n",
       "\\item[eight2] 2\n",
       "\\item[eight3] 2\n",
       "\\item[nine1] 3\n",
       "\\item[nine2] 3\n",
       "\\item[ten1] 2\n",
       "\\item[ten2] 5\n",
       "\\end{description*}\n"
      ],
      "text/markdown": [
       "two\n",
       ":   2three\n",
       ":   3four1\n",
       ":   2four2\n",
       ":   2five\n",
       ":   5six1\n",
       ":   2six2\n",
       ":   3seven\n",
       ":   7eight1\n",
       ":   2eight2\n",
       ":   2eight3\n",
       ":   2nine1\n",
       ":   3nine2\n",
       ":   3ten1\n",
       ":   2ten2\n",
       ":   5\n",
       "\n"
      ],
      "text/plain": [
       "   two  three  four1  four2   five   six1   six2  seven eight1 eight2 eight3 \n",
       "     2      3      2      2      5      2      3      7      2      2      2 \n",
       " nine1  nine2   ten1   ten2 \n",
       "     3      3      2      5 "
      ]
     },
     "metadata": {},
     "output_type": "display_data"
    }
   ],
   "source": [
    "# List with non scalar element\n",
    "prime_factors <- list ( two = 2,\n",
    "                       three = 3,\n",
    "                       four = c(2, 2),\n",
    "                       five = 5,\n",
    "                       six = c(2, 3),\n",
    "                       seven = 7,\n",
    "                       eight = c(2, 2, 2),\n",
    "                       nine = c(3, 3),\n",
    "                       ten = c(2, 5)\n",
    "                      )\n",
    "# This type of list can be converted into vector using `unlist` function\n",
    "unlist(prime_factors)"
   ]
  },
  {
   "cell_type": "markdown",
   "metadata": {},
   "source": [
    "#### Combining Lists"
   ]
  },
  {
   "cell_type": "code",
   "execution_count": 309,
   "metadata": {
    "collapsed": false
   },
   "outputs": [
    {
     "data": {
      "text/plain": [
       "$a\n",
       "[1] 1\n",
       "\n",
       "$b\n",
       "[1] 2\n",
       "\n",
       "[[3]]\n",
       "[1] 3\n"
      ]
     },
     "metadata": {},
     "output_type": "display_data"
    }
   ],
   "source": [
    "# Using `c` function for concatenating lists\n",
    "c(list(a = 1, b = 2), list(3))"
   ]
  },
  {
   "cell_type": "code",
   "execution_count": 310,
   "metadata": {
    "collapsed": true
   },
   "outputs": [],
   "source": [
    "matrix_list_hybrid <- cbind(\n",
    "    list(a = 1, b = 2),\n",
    "    list(c = 3, list(d = 4))\n",
    ")"
   ]
  },
  {
   "cell_type": "code",
   "execution_count": 311,
   "metadata": {
    "collapsed": false
   },
   "outputs": [
    {
     "data": {
      "text/html": [
       "<table>\n",
       "<tbody>\n",
       "\t<tr><th scope=row>a</th><td>1</td><td>3</td></tr>\n",
       "\t<tr><th scope=row>b</th><td>2</td><td>4</td></tr>\n",
       "</tbody>\n",
       "</table>\n"
      ],
      "text/latex": [
       "\\begin{tabular}{r|ll}\n",
       "\ta & 1 & 3\\\\\n",
       "\tb & 2 & 4\\\\\n",
       "\\end{tabular}\n"
      ],
      "text/markdown": [
       "\n",
       "| a | 1 | 3 | \n",
       "| b | 2 | 4 | \n",
       "\n",
       "\n"
      ],
      "text/plain": [
       "  [,1] [,2]\n",
       "a 1    3   \n",
       "b 2    4   "
      ]
     },
     "metadata": {},
     "output_type": "display_data"
    }
   ],
   "source": [
    "matrix_list_hybrid"
   ]
  },
  {
   "cell_type": "code",
   "execution_count": 312,
   "metadata": {
    "collapsed": false
   },
   "outputs": [
    {
     "name": "stdout",
     "output_type": "stream",
     "text": [
      "List of 4\n",
      " $ : num 1\n",
      " $ : num 2\n",
      " $ : num 3\n",
      " $ :List of 1\n",
      "  ..$ d: num 4\n",
      " - attr(*, \"dim\")= int [1:2] 2 2\n",
      " - attr(*, \"dimnames\")=List of 2\n",
      "  ..$ : chr [1:2] \"a\" \"b\"\n",
      "  ..$ : NULL\n"
     ]
    }
   ],
   "source": [
    "str(matrix_list_hybrid)"
   ]
  },
  {
   "cell_type": "markdown",
   "metadata": {},
   "source": [
    "#### NULL"
   ]
  },
  {
   "cell_type": "code",
   "execution_count": 313,
   "metadata": {
    "collapsed": true
   },
   "outputs": [],
   "source": [
    "bank_holidays_2013 = list (\n",
    "    Jan = \"New Year's Day\",\n",
    "    Feb = NULL,\n",
    "    Mar = \"Good Friday\",\n",
    "    Apr = \"Easter Monday\",\n",
    "    May = c(\"Early May Bank Holiday\", \"Spring Bank Holiday\"),\n",
    "    Jun = NULL,\n",
    "    Jul = NULL,\n",
    "    Aug = \"Summer Bank Holiday\",\n",
    "    Sep = NULL,\n",
    "    Oct = NULL,\n",
    "    Nov = NULL,\n",
    "    Dec = c(\"Christmas Day\", \"Boxing Day\")\n",
    ")"
   ]
  },
  {
   "cell_type": "code",
   "execution_count": 314,
   "metadata": {
    "collapsed": false
   },
   "outputs": [
    {
     "data": {
      "text/plain": [
       "$Jan\n",
       "[1] \"New Year's Day\"\n",
       "\n",
       "$Feb\n",
       "NULL\n",
       "\n",
       "$Mar\n",
       "[1] \"Good Friday\"\n",
       "\n",
       "$Apr\n",
       "[1] \"Easter Monday\"\n",
       "\n",
       "$May\n",
       "[1] \"Early May Bank Holiday\" \"Spring Bank Holiday\"   \n",
       "\n",
       "$Jun\n",
       "NULL\n",
       "\n",
       "$Jul\n",
       "NULL\n",
       "\n",
       "$Aug\n",
       "[1] \"Summer Bank Holiday\"\n",
       "\n",
       "$Sep\n",
       "NULL\n",
       "\n",
       "$Oct\n",
       "NULL\n",
       "\n",
       "$Nov\n",
       "NULL\n",
       "\n",
       "$Dec\n",
       "[1] \"Christmas Day\" \"Boxing Day\"   \n"
      ]
     },
     "metadata": {},
     "output_type": "display_data"
    }
   ],
   "source": [
    "bank_holidays_2013"
   ]
  },
  {
   "cell_type": "code",
   "execution_count": 315,
   "metadata": {
    "collapsed": false
   },
   "outputs": [
    {
     "data": {
      "text/html": [
       "0"
      ],
      "text/latex": [
       "0"
      ],
      "text/markdown": [
       "0"
      ],
      "text/plain": [
       "[1] 0"
      ]
     },
     "metadata": {},
     "output_type": "display_data"
    }
   ],
   "source": [
    "length(NULL)"
   ]
  },
  {
   "cell_type": "code",
   "execution_count": 316,
   "metadata": {
    "collapsed": false
   },
   "outputs": [
    {
     "data": {
      "text/html": [
       "1"
      ],
      "text/latex": [
       "1"
      ],
      "text/markdown": [
       "1"
      ],
      "text/plain": [
       "[1] 1"
      ]
     },
     "metadata": {},
     "output_type": "display_data"
    }
   ],
   "source": [
    "length(NA)"
   ]
  },
  {
   "cell_type": "code",
   "execution_count": 317,
   "metadata": {
    "collapsed": true
   },
   "outputs": [],
   "source": [
    "# NA is a scalar value, NULL takes up no space at all"
   ]
  },
  {
   "cell_type": "code",
   "execution_count": 318,
   "metadata": {
    "collapsed": false
   },
   "outputs": [
    {
     "name": "stdout",
     "output_type": "stream",
     "text": [
      "$Feb\n",
      "NULL\n",
      "\n",
      "$Mar\n",
      "[1] \"Good Friday\"\n",
      "\n",
      "$Apr\n",
      "[1] \"Easter Monday\"\n",
      "\n",
      "$May\n",
      "[1] \"Early May Bank Holiday\" \"Spring Bank Holiday\"   \n",
      "\n",
      "$Jun\n",
      "NULL\n",
      "\n",
      "$Jul\n",
      "NULL\n",
      "\n",
      "$Aug\n",
      "[1] \"Summer Bank Holiday\"\n",
      "\n",
      "$Sep\n",
      "NULL\n",
      "\n",
      "$Oct\n",
      "NULL\n",
      "\n",
      "$Nov\n",
      "NULL\n",
      "\n",
      "$Dec\n",
      "[1] \"Christmas Day\" \"Boxing Day\"   \n",
      "\n"
     ]
    }
   ],
   "source": [
    "# NULL can be used to remove elements of a list\n",
    "bank_holidays_2013$Jan <- NULL\n",
    "print(bank_holidays_2013_holidays_2013)"
   ]
  },
  {
   "cell_type": "code",
   "execution_count": 321,
   "metadata": {
    "collapsed": false
   },
   "outputs": [],
   "source": [
    "bank_holidays_2013[\"May\"] <- list(NULL)"
   ]
  },
  {
   "cell_type": "code",
   "execution_count": 323,
   "metadata": {
    "collapsed": false
   },
   "outputs": [
    {
     "data": {
      "text/plain": [
       "NULL"
      ]
     },
     "metadata": {},
     "output_type": "display_data"
    }
   ],
   "source": [
    "bank_holidays_2013$May"
   ]
  },
  {
   "cell_type": "markdown",
   "metadata": {},
   "source": [
    "#### Pairlists"
   ]
  },
  {
   "cell_type": "code",
   "execution_count": 324,
   "metadata": {
    "collapsed": true
   },
   "outputs": [],
   "source": [
    "# Checking argument of standard deviation function `sd`\n",
    "arguments_of_sd <- formals(sd)"
   ]
  },
  {
   "cell_type": "code",
   "execution_count": 326,
   "metadata": {
    "collapsed": false
   },
   "outputs": [
    {
     "data": {
      "text/html": [
       "'pairlist'"
      ],
      "text/latex": [
       "'pairlist'"
      ],
      "text/markdown": [
       "'pairlist'"
      ],
      "text/plain": [
       "[1] \"pairlist\""
      ]
     },
     "metadata": {},
     "output_type": "display_data"
    }
   ],
   "source": [
    "class(arguments_of_sd)"
   ]
  },
  {
   "cell_type": "code",
   "execution_count": 327,
   "metadata": {
    "collapsed": false
   },
   "outputs": [
    {
     "data": {
      "text/plain": [
       "NULL"
      ]
     },
     "metadata": {},
     "output_type": "display_data"
    }
   ],
   "source": [
    "pairlist()"
   ]
  },
  {
   "cell_type": "code",
   "execution_count": 328,
   "metadata": {
    "collapsed": false
   },
   "outputs": [
    {
     "data": {
      "text/html": [
       "<ol>\n",
       "</ol>\n"
      ],
      "text/latex": [
       "\\begin{enumerate}\n",
       "\\end{enumerate}\n"
      ],
      "text/markdown": [
       "\n",
       "\n"
      ],
      "text/plain": [
       "list()"
      ]
     },
     "metadata": {},
     "output_type": "display_data"
    }
   ],
   "source": [
    "list()"
   ]
  },
  {
   "cell_type": "markdown",
   "metadata": {},
   "source": [
    "#### Data Frames"
   ]
  },
  {
   "cell_type": "code",
   "execution_count": 329,
   "metadata": {
    "collapsed": true
   },
   "outputs": [],
   "source": [
    "a_data_frame <- data.frame(\n",
    "    x = letters[1:5],\n",
    "    y = rnorm(5),\n",
    "    z = runif(5) > 0.5\n",
    ")"
   ]
  },
  {
   "cell_type": "code",
   "execution_count": 330,
   "metadata": {
    "collapsed": false
   },
   "outputs": [
    {
     "data": {
      "text/html": [
       "<table>\n",
       "<thead><tr><th scope=col>x</th><th scope=col>y</th><th scope=col>z</th></tr></thead>\n",
       "<tbody>\n",
       "\t<tr><td>a         </td><td> 1.9063069</td><td> TRUE     </td></tr>\n",
       "\t<tr><td>b         </td><td>-0.7179883</td><td> TRUE     </td></tr>\n",
       "\t<tr><td>c         </td><td> 1.1650339</td><td>FALSE     </td></tr>\n",
       "\t<tr><td>d         </td><td> 1.0337471</td><td>FALSE     </td></tr>\n",
       "\t<tr><td>e         </td><td> 1.6187050</td><td>FALSE     </td></tr>\n",
       "</tbody>\n",
       "</table>\n"
      ],
      "text/latex": [
       "\\begin{tabular}{r|lll}\n",
       " x & y & z\\\\\n",
       "\\hline\n",
       "\t a          &  1.9063069 &  TRUE     \\\\\n",
       "\t b          & -0.7179883 &  TRUE     \\\\\n",
       "\t c          &  1.1650339 & FALSE     \\\\\n",
       "\t d          &  1.0337471 & FALSE     \\\\\n",
       "\t e          &  1.6187050 & FALSE     \\\\\n",
       "\\end{tabular}\n"
      ],
      "text/markdown": [
       "\n",
       "x | y | z | \n",
       "|---|---|---|---|---|\n",
       "| a          |  1.9063069 |  TRUE      | \n",
       "| b          | -0.7179883 |  TRUE      | \n",
       "| c          |  1.1650339 | FALSE      | \n",
       "| d          |  1.0337471 | FALSE      | \n",
       "| e          |  1.6187050 | FALSE      | \n",
       "\n",
       "\n"
      ],
      "text/plain": [
       "  x y          z    \n",
       "1 a  1.9063069  TRUE\n",
       "2 b -0.7179883  TRUE\n",
       "3 c  1.1650339 FALSE\n",
       "4 d  1.0337471 FALSE\n",
       "5 e  1.6187050 FALSE"
      ]
     },
     "metadata": {},
     "output_type": "display_data"
    }
   ],
   "source": [
    "a_data_frame"
   ]
  },
  {
   "cell_type": "code",
   "execution_count": 331,
   "metadata": {
    "collapsed": true
   },
   "outputs": [],
   "source": [
    "y <- rnorm(5)"
   ]
  },
  {
   "cell_type": "code",
   "execution_count": 332,
   "metadata": {
    "collapsed": true
   },
   "outputs": [],
   "source": [
    "names(y) <- month.name[1:5]"
   ]
  },
  {
   "cell_type": "code",
   "execution_count": 333,
   "metadata": {
    "collapsed": false
   },
   "outputs": [
    {
     "data": {
      "text/html": [
       "<dl class=dl-horizontal>\n",
       "\t<dt>January</dt>\n",
       "\t\t<dd>1.31718938288847</dd>\n",
       "\t<dt>February</dt>\n",
       "\t\t<dd>0.193314129276349</dd>\n",
       "\t<dt>March</dt>\n",
       "\t\t<dd>-0.773423049790084</dd>\n",
       "\t<dt>April</dt>\n",
       "\t\t<dd>0.0160492361053564</dd>\n",
       "\t<dt>May</dt>\n",
       "\t\t<dd>-0.155743489372558</dd>\n",
       "</dl>\n"
      ],
      "text/latex": [
       "\\begin{description*}\n",
       "\\item[January] 1.31718938288847\n",
       "\\item[February] 0.193314129276349\n",
       "\\item[March] -0.773423049790084\n",
       "\\item[April] 0.0160492361053564\n",
       "\\item[May] -0.155743489372558\n",
       "\\end{description*}\n"
      ],
      "text/markdown": [
       "January\n",
       ":   1.31718938288847February\n",
       ":   0.193314129276349March\n",
       ":   -0.773423049790084April\n",
       ":   0.0160492361053564May\n",
       ":   -0.155743489372558\n",
       "\n"
      ],
      "text/plain": [
       "    January    February       March       April         May \n",
       " 1.31718938  0.19331413 -0.77342305  0.01604924 -0.15574349 "
      ]
     },
     "metadata": {},
     "output_type": "display_data"
    }
   ],
   "source": [
    "y"
   ]
  },
  {
   "cell_type": "code",
   "execution_count": 334,
   "metadata": {
    "collapsed": false
   },
   "outputs": [
    {
     "data": {
      "text/html": [
       "<table>\n",
       "<thead><tr><th></th><th scope=col>x</th><th scope=col>y</th><th scope=col>z</th></tr></thead>\n",
       "<tbody>\n",
       "\t<tr><th scope=row>January</th><td>a          </td><td> 1.31718938</td><td>FALSE      </td></tr>\n",
       "\t<tr><th scope=row>February</th><td>b          </td><td> 0.19331413</td><td> TRUE      </td></tr>\n",
       "\t<tr><th scope=row>March</th><td>c          </td><td>-0.77342305</td><td> TRUE      </td></tr>\n",
       "\t<tr><th scope=row>April</th><td>d          </td><td> 0.01604924</td><td>FALSE      </td></tr>\n",
       "\t<tr><th scope=row>May</th><td>e          </td><td>-0.15574349</td><td> TRUE      </td></tr>\n",
       "</tbody>\n",
       "</table>\n"
      ],
      "text/latex": [
       "\\begin{tabular}{r|lll}\n",
       "  & x & y & z\\\\\n",
       "\\hline\n",
       "\tJanuary & a           &  1.31718938 & FALSE      \\\\\n",
       "\tFebruary & b           &  0.19331413 &  TRUE      \\\\\n",
       "\tMarch & c           & -0.77342305 &  TRUE      \\\\\n",
       "\tApril & d           &  0.01604924 & FALSE      \\\\\n",
       "\tMay & e           & -0.15574349 &  TRUE      \\\\\n",
       "\\end{tabular}\n"
      ],
      "text/markdown": [
       "\n",
       "| <!--/--> | x | y | z | \n",
       "|---|---|---|---|---|\n",
       "| January | a           |  1.31718938 | FALSE       | \n",
       "| February | b           |  0.19331413 |  TRUE       | \n",
       "| March | c           | -0.77342305 |  TRUE       | \n",
       "| April | d           |  0.01604924 | FALSE       | \n",
       "| May | e           | -0.15574349 |  TRUE       | \n",
       "\n",
       "\n"
      ],
      "text/plain": [
       "         x y           z    \n",
       "January  a  1.31718938 FALSE\n",
       "February b  0.19331413  TRUE\n",
       "March    c -0.77342305  TRUE\n",
       "April    d  0.01604924 FALSE\n",
       "May      e -0.15574349  TRUE"
      ]
     },
     "metadata": {},
     "output_type": "display_data"
    }
   ],
   "source": [
    "data.frame(\n",
    "    x = letters[1:5],\n",
    "    y = y,\n",
    "    z = runif(5) > 0.5\n",
    ")"
   ]
  },
  {
   "cell_type": "code",
   "execution_count": 335,
   "metadata": {
    "collapsed": false
   },
   "outputs": [
    {
     "data": {
      "text/html": [
       "<table>\n",
       "<thead><tr><th scope=col>x</th><th scope=col>y</th><th scope=col>z</th></tr></thead>\n",
       "<tbody>\n",
       "\t<tr><td>a          </td><td> 1.31718938</td><td>FALSE      </td></tr>\n",
       "\t<tr><td>b          </td><td> 0.19331413</td><td> TRUE      </td></tr>\n",
       "\t<tr><td>c          </td><td>-0.77342305</td><td>FALSE      </td></tr>\n",
       "\t<tr><td>d          </td><td> 0.01604924</td><td> TRUE      </td></tr>\n",
       "\t<tr><td>e          </td><td>-0.15574349</td><td> TRUE      </td></tr>\n",
       "</tbody>\n",
       "</table>\n"
      ],
      "text/latex": [
       "\\begin{tabular}{r|lll}\n",
       " x & y & z\\\\\n",
       "\\hline\n",
       "\t a           &  1.31718938 & FALSE      \\\\\n",
       "\t b           &  0.19331413 &  TRUE      \\\\\n",
       "\t c           & -0.77342305 & FALSE      \\\\\n",
       "\t d           &  0.01604924 &  TRUE      \\\\\n",
       "\t e           & -0.15574349 &  TRUE      \\\\\n",
       "\\end{tabular}\n"
      ],
      "text/markdown": [
       "\n",
       "x | y | z | \n",
       "|---|---|---|---|---|\n",
       "| a           |  1.31718938 | FALSE       | \n",
       "| b           |  0.19331413 |  TRUE       | \n",
       "| c           | -0.77342305 | FALSE       | \n",
       "| d           |  0.01604924 |  TRUE       | \n",
       "| e           | -0.15574349 |  TRUE       | \n",
       "\n",
       "\n"
      ],
      "text/plain": [
       "  x y           z    \n",
       "1 a  1.31718938 FALSE\n",
       "2 b  0.19331413  TRUE\n",
       "3 c -0.77342305 FALSE\n",
       "4 d  0.01604924  TRUE\n",
       "5 e -0.15574349  TRUE"
      ]
     },
     "metadata": {},
     "output_type": "display_data"
    }
   ],
   "source": [
    "# Removing row names\n",
    "data.frame(\n",
    "    x = letters[1:5],\n",
    "    y = y,\n",
    "    z = runif(5) > 0.5,\n",
    "    row.names = NULL\n",
    ")"
   ]
  },
  {
   "cell_type": "code",
   "execution_count": 336,
   "metadata": {
    "collapsed": false
   },
   "outputs": [
    {
     "data": {
      "text/html": [
       "<table>\n",
       "<thead><tr><th></th><th scope=col>x</th><th scope=col>y</th><th scope=col>z</th></tr></thead>\n",
       "<tbody>\n",
       "\t<tr><th scope=row>Hello</th><td>a          </td><td> 1.31718938</td><td> TRUE      </td></tr>\n",
       "\t<tr><th scope=row>World</th><td>b          </td><td> 0.19331413</td><td>FALSE      </td></tr>\n",
       "\t<tr><th scope=row>Programming</th><td>c          </td><td>-0.77342305</td><td> TRUE      </td></tr>\n",
       "\t<tr><th scope=row>in</th><td>d          </td><td> 0.01604924</td><td> TRUE      </td></tr>\n",
       "\t<tr><th scope=row>R</th><td>e          </td><td>-0.15574349</td><td> TRUE      </td></tr>\n",
       "</tbody>\n",
       "</table>\n"
      ],
      "text/latex": [
       "\\begin{tabular}{r|lll}\n",
       "  & x & y & z\\\\\n",
       "\\hline\n",
       "\tHello & a           &  1.31718938 &  TRUE      \\\\\n",
       "\tWorld & b           &  0.19331413 & FALSE      \\\\\n",
       "\tProgramming & c           & -0.77342305 &  TRUE      \\\\\n",
       "\tin & d           &  0.01604924 &  TRUE      \\\\\n",
       "\tR & e           & -0.15574349 &  TRUE      \\\\\n",
       "\\end{tabular}\n"
      ],
      "text/markdown": [
       "\n",
       "| <!--/--> | x | y | z | \n",
       "|---|---|---|---|---|\n",
       "| Hello | a           |  1.31718938 |  TRUE       | \n",
       "| World | b           |  0.19331413 | FALSE       | \n",
       "| Programming | c           | -0.77342305 |  TRUE       | \n",
       "| in | d           |  0.01604924 |  TRUE       | \n",
       "| R | e           | -0.15574349 |  TRUE       | \n",
       "\n",
       "\n"
      ],
      "text/plain": [
       "            x y           z    \n",
       "Hello       a  1.31718938  TRUE\n",
       "World       b  0.19331413 FALSE\n",
       "Programming c -0.77342305  TRUE\n",
       "in          d  0.01604924  TRUE\n",
       "R           e -0.15574349  TRUE"
      ]
     },
     "metadata": {},
     "output_type": "display_data"
    }
   ],
   "source": [
    "# Adding row names\n",
    "data.frame(\n",
    "    x = letters[1:5],\n",
    "    y = y,\n",
    "    z = runif(5) > 0.5,\n",
    "    row.names = c(\"Hello\", \"World\", \"Programming\", \"in\", \"R\")\n",
    ")"
   ]
  },
  {
   "cell_type": "code",
   "execution_count": 337,
   "metadata": {
    "collapsed": false
   },
   "outputs": [
    {
     "data": {
      "text/html": [
       "<ol class=list-inline>\n",
       "\t<li>'1'</li>\n",
       "\t<li>'2'</li>\n",
       "\t<li>'3'</li>\n",
       "\t<li>'4'</li>\n",
       "\t<li>'5'</li>\n",
       "</ol>\n"
      ],
      "text/latex": [
       "\\begin{enumerate*}\n",
       "\\item '1'\n",
       "\\item '2'\n",
       "\\item '3'\n",
       "\\item '4'\n",
       "\\item '5'\n",
       "\\end{enumerate*}\n"
      ],
      "text/markdown": [
       "1. '1'\n",
       "2. '2'\n",
       "3. '3'\n",
       "4. '4'\n",
       "5. '5'\n",
       "\n",
       "\n"
      ],
      "text/plain": [
       "[1] \"1\" \"2\" \"3\" \"4\" \"5\""
      ]
     },
     "metadata": {},
     "output_type": "display_data"
    }
   ],
   "source": [
    "rownames(a_data_frame)"
   ]
  },
  {
   "cell_type": "code",
   "execution_count": 338,
   "metadata": {
    "collapsed": false
   },
   "outputs": [
    {
     "data": {
      "text/html": [
       "<ol class=list-inline>\n",
       "\t<li>'x'</li>\n",
       "\t<li>'y'</li>\n",
       "\t<li>'z'</li>\n",
       "</ol>\n"
      ],
      "text/latex": [
       "\\begin{enumerate*}\n",
       "\\item 'x'\n",
       "\\item 'y'\n",
       "\\item 'z'\n",
       "\\end{enumerate*}\n"
      ],
      "text/markdown": [
       "1. 'x'\n",
       "2. 'y'\n",
       "3. 'z'\n",
       "\n",
       "\n"
      ],
      "text/plain": [
       "[1] \"x\" \"y\" \"z\""
      ]
     },
     "metadata": {},
     "output_type": "display_data"
    }
   ],
   "source": [
    "colnames(a_data_frame)"
   ]
  },
  {
   "cell_type": "code",
   "execution_count": 339,
   "metadata": {
    "collapsed": false
   },
   "outputs": [
    {
     "data": {
      "text/html": [
       "<ol>\n",
       "\t<li><ol class=list-inline>\n",
       "\t<li>'1'</li>\n",
       "\t<li>'2'</li>\n",
       "\t<li>'3'</li>\n",
       "\t<li>'4'</li>\n",
       "\t<li>'5'</li>\n",
       "</ol>\n",
       "</li>\n",
       "\t<li><ol class=list-inline>\n",
       "\t<li>'x'</li>\n",
       "\t<li>'y'</li>\n",
       "\t<li>'z'</li>\n",
       "</ol>\n",
       "</li>\n",
       "</ol>\n"
      ],
      "text/latex": [
       "\\begin{enumerate}\n",
       "\\item \\begin{enumerate*}\n",
       "\\item '1'\n",
       "\\item '2'\n",
       "\\item '3'\n",
       "\\item '4'\n",
       "\\item '5'\n",
       "\\end{enumerate*}\n",
       "\n",
       "\\item \\begin{enumerate*}\n",
       "\\item 'x'\n",
       "\\item 'y'\n",
       "\\item 'z'\n",
       "\\end{enumerate*}\n",
       "\n",
       "\\end{enumerate}\n"
      ],
      "text/markdown": [
       "1. 1. '1'\n",
       "2. '2'\n",
       "3. '3'\n",
       "4. '4'\n",
       "5. '5'\n",
       "\n",
       "\n",
       "\n",
       "2. 1. 'x'\n",
       "2. 'y'\n",
       "3. 'z'\n",
       "\n",
       "\n",
       "\n",
       "\n",
       "\n"
      ],
      "text/plain": [
       "[[1]]\n",
       "[1] \"1\" \"2\" \"3\" \"4\" \"5\"\n",
       "\n",
       "[[2]]\n",
       "[1] \"x\" \"y\" \"z\"\n"
      ]
     },
     "metadata": {},
     "output_type": "display_data"
    }
   ],
   "source": [
    "dimnames(a_data_frame)"
   ]
  },
  {
   "cell_type": "code",
   "execution_count": 340,
   "metadata": {
    "collapsed": false
   },
   "outputs": [
    {
     "data": {
      "text/html": [
       "5"
      ],
      "text/latex": [
       "5"
      ],
      "text/markdown": [
       "5"
      ],
      "text/plain": [
       "[1] 5"
      ]
     },
     "metadata": {},
     "output_type": "display_data"
    }
   ],
   "source": [
    "nrow(a_data_frame)"
   ]
  },
  {
   "cell_type": "code",
   "execution_count": 341,
   "metadata": {
    "collapsed": false
   },
   "outputs": [
    {
     "data": {
      "text/html": [
       "3"
      ],
      "text/latex": [
       "3"
      ],
      "text/markdown": [
       "3"
      ],
      "text/plain": [
       "[1] 3"
      ]
     },
     "metadata": {},
     "output_type": "display_data"
    }
   ],
   "source": [
    "ncol(a_data_frame)"
   ]
  },
  {
   "cell_type": "code",
   "execution_count": 343,
   "metadata": {
    "collapsed": false
   },
   "outputs": [
    {
     "data": {
      "text/html": [
       "<table>\n",
       "<thead><tr><th scope=col>x</th><th scope=col>y</th><th scope=col>z</th></tr></thead>\n",
       "<tbody>\n",
       "\t<tr><td>1</td><td>2</td><td>4</td></tr>\n",
       "\t<tr><td>1</td><td>3</td><td>5</td></tr>\n",
       "\t<tr><td>1</td><td>2</td><td>6</td></tr>\n",
       "\t<tr><td>1</td><td>3</td><td>7</td></tr>\n",
       "</tbody>\n",
       "</table>\n"
      ],
      "text/latex": [
       "\\begin{tabular}{r|lll}\n",
       " x & y & z\\\\\n",
       "\\hline\n",
       "\t 1 & 2 & 4\\\\\n",
       "\t 1 & 3 & 5\\\\\n",
       "\t 1 & 2 & 6\\\\\n",
       "\t 1 & 3 & 7\\\\\n",
       "\\end{tabular}\n"
      ],
      "text/markdown": [
       "\n",
       "x | y | z | \n",
       "|---|---|---|---|\n",
       "| 1 | 2 | 4 | \n",
       "| 1 | 3 | 5 | \n",
       "| 1 | 2 | 6 | \n",
       "| 1 | 3 | 7 | \n",
       "\n",
       "\n"
      ],
      "text/plain": [
       "  x y z\n",
       "1 1 2 4\n",
       "2 1 3 5\n",
       "3 1 2 6\n",
       "4 1 3 7"
      ]
     },
     "metadata": {},
     "output_type": "display_data"
    }
   ],
   "source": [
    "# Data frame can be created passing different length of vectors\n",
    "data.frame(\n",
    "    x = 1, # recycled 4 times\n",
    "    y = 2:3, # recycled twice\n",
    "    z = 4:7 # Longest input; no cycling\n",
    ")"
   ]
  },
  {
   "cell_type": "code",
   "execution_count": 345,
   "metadata": {
    "collapsed": false
   },
   "outputs": [
    {
     "ename": "ERROR",
     "evalue": "Error in data.frame(x = 1, y = 2:3, z = 4:6): arguments imply differing number of rows: 1, 2, 3\n",
     "output_type": "error",
     "traceback": [
      "Error in data.frame(x = 1, y = 2:3, z = 4:6): arguments imply differing number of rows: 1, 2, 3\nTraceback:\n",
      "1. data.frame(x = 1, y = 2:3, z = 4:6)",
      "2. stop(gettextf(\"arguments imply differing number of rows: %s\", \n .     paste(unique(nrows), collapse = \", \")), domain = NA)"
     ]
    }
   ],
   "source": [
    "# If lengths are not compatible, error will be thrown\n",
    "# Lowest common multiple of all lengths must be equal to the longest vector\n",
    "data.frame(\n",
    "    x = 1,\n",
    "    y = 2:3,\n",
    "    z = 4:6\n",
    ")"
   ]
  },
  {
   "cell_type": "code",
   "execution_count": 346,
   "metadata": {
    "collapsed": false
   },
   "outputs": [
    {
     "data": {
      "text/html": [
       "<table>\n",
       "<thead><tr><th scope=col>A column</th><th scope=col>!@#$&amp;</th><th scope=col>...</th></tr></thead>\n",
       "<tbody>\n",
       "\t<tr><td>a         </td><td> 0.8415835</td><td> TRUE     </td></tr>\n",
       "\t<tr><td>b         </td><td> 0.2197354</td><td>FALSE     </td></tr>\n",
       "\t<tr><td>c         </td><td>-2.4566178</td><td> TRUE     </td></tr>\n",
       "\t<tr><td>d         </td><td> 1.2105292</td><td> TRUE     </td></tr>\n",
       "\t<tr><td>e         </td><td> 1.3967799</td><td> TRUE     </td></tr>\n",
       "</tbody>\n",
       "</table>\n"
      ],
      "text/latex": [
       "\\begin{tabular}{r|lll}\n",
       " A column & !@\\#\\$\\& & ...\\\\\n",
       "\\hline\n",
       "\t a          &  0.8415835 &  TRUE     \\\\\n",
       "\t b          &  0.2197354 & FALSE     \\\\\n",
       "\t c          & -2.4566178 &  TRUE     \\\\\n",
       "\t d          &  1.2105292 &  TRUE     \\\\\n",
       "\t e          &  1.3967799 &  TRUE     \\\\\n",
       "\\end{tabular}\n"
      ],
      "text/markdown": [
       "\n",
       "A column | !@#$& | ... | \n",
       "|---|---|---|---|---|\n",
       "| a          |  0.8415835 |  TRUE      | \n",
       "| b          |  0.2197354 | FALSE      | \n",
       "| c          | -2.4566178 |  TRUE      | \n",
       "| d          |  1.2105292 |  TRUE      | \n",
       "| e          |  1.3967799 |  TRUE      | \n",
       "\n",
       "\n"
      ],
      "text/plain": [
       "  A column !@#$&      ...  \n",
       "1 a         0.8415835  TRUE\n",
       "2 b         0.2197354 FALSE\n",
       "3 c        -2.4566178  TRUE\n",
       "4 d         1.2105292  TRUE\n",
       "5 e         1.3967799  TRUE"
      ]
     },
     "metadata": {},
     "output_type": "display_data"
    }
   ],
   "source": [
    "# By default column names are checked to be unique, valid variable names, this can be turned off\n",
    "data.frame (\n",
    "    \"A column\" = letters[1:5],\n",
    "    \"!@#$&\" = rnorm(5),\n",
    "    \"...\" = runif(5) > 0.5,\n",
    "    check.names = FALSE\n",
    ")"
   ]
  },
  {
   "cell_type": "markdown",
   "metadata": {},
   "source": [
    "#### Indexing Data Frames"
   ]
  },
  {
   "cell_type": "code",
   "execution_count": 347,
   "metadata": {
    "collapsed": false
   },
   "outputs": [
    {
     "data": {
      "text/html": [
       "<table>\n",
       "<thead><tr><th></th><th scope=col>x</th><th scope=col>y</th></tr></thead>\n",
       "<tbody>\n",
       "\t<tr><th scope=row>2</th><td>b         </td><td>-0.7179883</td></tr>\n",
       "\t<tr><th scope=row>3</th><td>c         </td><td> 1.1650339</td></tr>\n",
       "</tbody>\n",
       "</table>\n"
      ],
      "text/latex": [
       "\\begin{tabular}{r|ll}\n",
       "  & x & y\\\\\n",
       "\\hline\n",
       "\t2 & b          & -0.7179883\\\\\n",
       "\t3 & c          &  1.1650339\\\\\n",
       "\\end{tabular}\n"
      ],
      "text/markdown": [
       "\n",
       "| <!--/--> | x | y | \n",
       "|---|---|\n",
       "| 2 | b          | -0.7179883 | \n",
       "| 3 | c          |  1.1650339 | \n",
       "\n",
       "\n"
      ],
      "text/plain": [
       "  x y         \n",
       "2 b -0.7179883\n",
       "3 c  1.1650339"
      ]
     },
     "metadata": {},
     "output_type": "display_data"
    }
   ],
   "source": [
    "a_data_frame[2:3, -3]"
   ]
  },
  {
   "cell_type": "code",
   "execution_count": 348,
   "metadata": {
    "collapsed": false
   },
   "outputs": [
    {
     "data": {
      "text/html": [
       "<table>\n",
       "<thead><tr><th></th><th scope=col>x</th><th scope=col>y</th></tr></thead>\n",
       "<tbody>\n",
       "\t<tr><th scope=row>2</th><td>b         </td><td>-0.7179883</td></tr>\n",
       "\t<tr><th scope=row>3</th><td>c         </td><td> 1.1650339</td></tr>\n",
       "</tbody>\n",
       "</table>\n"
      ],
      "text/latex": [
       "\\begin{tabular}{r|ll}\n",
       "  & x & y\\\\\n",
       "\\hline\n",
       "\t2 & b          & -0.7179883\\\\\n",
       "\t3 & c          &  1.1650339\\\\\n",
       "\\end{tabular}\n"
      ],
      "text/markdown": [
       "\n",
       "| <!--/--> | x | y | \n",
       "|---|---|\n",
       "| 2 | b          | -0.7179883 | \n",
       "| 3 | c          |  1.1650339 | \n",
       "\n",
       "\n"
      ],
      "text/plain": [
       "  x y         \n",
       "2 b -0.7179883\n",
       "3 c  1.1650339"
      ]
     },
     "metadata": {},
     "output_type": "display_data"
    }
   ],
   "source": [
    "a_data_frame[c(FALSE, TRUE, TRUE, FALSE, FALSE), c(\"x\", \"y\")]"
   ]
  },
  {
   "cell_type": "code",
   "execution_count": 349,
   "metadata": {
    "collapsed": false
   },
   "outputs": [
    {
     "data": {
      "text/html": [
       "'data.frame'"
      ],
      "text/latex": [
       "'data.frame'"
      ],
      "text/markdown": [
       "'data.frame'"
      ],
      "text/plain": [
       "[1] \"data.frame\""
      ]
     },
     "metadata": {},
     "output_type": "display_data"
    }
   ],
   "source": [
    "class(a_data_frame[2:3, -3])"
   ]
  },
  {
   "cell_type": "code",
   "execution_count": 350,
   "metadata": {
    "collapsed": false
   },
   "outputs": [
    {
     "data": {
      "text/html": [
       "'factor'"
      ],
      "text/latex": [
       "'factor'"
      ],
      "text/markdown": [
       "'factor'"
      ],
      "text/plain": [
       "[1] \"factor\""
      ]
     },
     "metadata": {},
     "output_type": "display_data"
    }
   ],
   "source": [
    "class(a_data_frame[2:3, 1])"
   ]
  },
  {
   "cell_type": "code",
   "execution_count": 351,
   "metadata": {
    "collapsed": false
   },
   "outputs": [
    {
     "data": {
      "text/html": [
       "<ol class=list-inline>\n",
       "\t<li>b</li>\n",
       "\t<li>c</li>\n",
       "</ol>\n"
      ],
      "text/latex": [
       "\\begin{enumerate*}\n",
       "\\item b\n",
       "\\item c\n",
       "\\end{enumerate*}\n"
      ],
      "text/markdown": [
       "1. b\n",
       "2. c\n",
       "\n",
       "\n"
      ],
      "text/plain": [
       "[1] b c\n",
       "Levels: a b c d e"
      ]
     },
     "metadata": {},
     "output_type": "display_data"
    }
   ],
   "source": [
    "a_data_frame$x[2:3]"
   ]
  },
  {
   "cell_type": "code",
   "execution_count": 352,
   "metadata": {
    "collapsed": false
   },
   "outputs": [
    {
     "data": {
      "text/html": [
       "<ol class=list-inline>\n",
       "\t<li>b</li>\n",
       "\t<li>c</li>\n",
       "</ol>\n"
      ],
      "text/latex": [
       "\\begin{enumerate*}\n",
       "\\item b\n",
       "\\item c\n",
       "\\end{enumerate*}\n"
      ],
      "text/markdown": [
       "1. b\n",
       "2. c\n",
       "\n",
       "\n"
      ],
      "text/plain": [
       "[1] b c\n",
       "Levels: a b c d e"
      ]
     },
     "metadata": {},
     "output_type": "display_data"
    }
   ],
   "source": [
    "a_data_frame[[1]][2:3]"
   ]
  },
  {
   "cell_type": "code",
   "execution_count": 353,
   "metadata": {
    "collapsed": false
   },
   "outputs": [
    {
     "data": {
      "text/html": [
       "<ol class=list-inline>\n",
       "\t<li>b</li>\n",
       "\t<li>c</li>\n",
       "</ol>\n"
      ],
      "text/latex": [
       "\\begin{enumerate*}\n",
       "\\item b\n",
       "\\item c\n",
       "\\end{enumerate*}\n"
      ],
      "text/markdown": [
       "1. b\n",
       "2. c\n",
       "\n",
       "\n"
      ],
      "text/plain": [
       "[1] b c\n",
       "Levels: a b c d e"
      ]
     },
     "metadata": {},
     "output_type": "display_data"
    }
   ],
   "source": [
    "a_data_frame[[\"x\"]][2:3]"
   ]
  },
  {
   "cell_type": "markdown",
   "metadata": {},
   "source": [
    "#### Basic Data Frame Manipulation"
   ]
  },
  {
   "cell_type": "code",
   "execution_count": 356,
   "metadata": {
    "collapsed": false
   },
   "outputs": [
    {
     "data": {
      "text/html": [
       "<table>\n",
       "<tbody>\n",
       "\t<tr><th scope=row>x</th><td>a         </td><td>b         </td><td>c         </td><td>d         </td><td>e         </td></tr>\n",
       "\t<tr><th scope=row>y</th><td> 1.9063069</td><td>-0.7179883</td><td> 1.1650339</td><td> 1.0337471</td><td> 1.6187050</td></tr>\n",
       "\t<tr><th scope=row>z</th><td> TRUE     </td><td> TRUE     </td><td>FALSE     </td><td>FALSE     </td><td>FALSE     </td></tr>\n",
       "</tbody>\n",
       "</table>\n"
      ],
      "text/latex": [
       "\\begin{tabular}{r|lllll}\n",
       "\tx & a          & b          & c          & d          & e         \\\\\n",
       "\ty &  1.9063069 & -0.7179883 &  1.1650339 &  1.0337471 &  1.6187050\\\\\n",
       "\tz &  TRUE      &  TRUE      & FALSE      & FALSE      & FALSE     \\\\\n",
       "\\end{tabular}\n"
      ],
      "text/markdown": [
       "\n",
       "| x | a          | b          | c          | d          | e          | \n",
       "| y |  1.9063069 | -0.7179883 |  1.1650339 |  1.0337471 |  1.6187050 | \n",
       "| z |  TRUE      |  TRUE      | FALSE      | FALSE      | FALSE      | \n",
       "\n",
       "\n"
      ],
      "text/plain": [
       "  [,1]       [,2]       [,3]       [,4]       [,5]      \n",
       "x a          b          c          d          e         \n",
       "y  1.9063069 -0.7179883  1.1650339  1.0337471  1.6187050\n",
       "z  TRUE       TRUE      FALSE      FALSE      FALSE     "
      ]
     },
     "metadata": {},
     "output_type": "display_data"
    }
   ],
   "source": [
    "# Transposing & converting df into matrix\n",
    "t(a_data_frame)"
   ]
  },
  {
   "cell_type": "code",
   "execution_count": 358,
   "metadata": {
    "collapsed": false
   },
   "outputs": [
    {
     "data": {
      "text/html": [
       "<table>\n",
       "<thead><tr><th scope=col>x</th><th scope=col>y</th><th scope=col>z</th></tr></thead>\n",
       "<tbody>\n",
       "\t<tr><td>a         </td><td> 1.9063069</td><td>1.0000000 </td></tr>\n",
       "\t<tr><td>b         </td><td>-0.7179883</td><td>1.0000000 </td></tr>\n",
       "\t<tr><td>c         </td><td> 1.1650339</td><td>0.0000000 </td></tr>\n",
       "\t<tr><td>d         </td><td> 1.0337471</td><td>0.0000000 </td></tr>\n",
       "\t<tr><td>e         </td><td> 1.6187050</td><td>0.0000000 </td></tr>\n",
       "\t<tr><td>c         </td><td> 4.0000000</td><td>1.0904478 </td></tr>\n",
       "\t<tr><td>d         </td><td> 1.0000000</td><td>0.5601729 </td></tr>\n",
       "\t<tr><td>e         </td><td> 3.0000000</td><td>1.5073192 </td></tr>\n",
       "\t<tr><td>f         </td><td> 5.0000000</td><td>0.6840857 </td></tr>\n",
       "\t<tr><td>g         </td><td> 2.0000000</td><td>0.2181620 </td></tr>\n",
       "</tbody>\n",
       "</table>\n"
      ],
      "text/latex": [
       "\\begin{tabular}{r|lll}\n",
       " x & y & z\\\\\n",
       "\\hline\n",
       "\t a          &  1.9063069 & 1.0000000 \\\\\n",
       "\t b          & -0.7179883 & 1.0000000 \\\\\n",
       "\t c          &  1.1650339 & 0.0000000 \\\\\n",
       "\t d          &  1.0337471 & 0.0000000 \\\\\n",
       "\t e          &  1.6187050 & 0.0000000 \\\\\n",
       "\t c          &  4.0000000 & 1.0904478 \\\\\n",
       "\t d          &  1.0000000 & 0.5601729 \\\\\n",
       "\t e          &  3.0000000 & 1.5073192 \\\\\n",
       "\t f          &  5.0000000 & 0.6840857 \\\\\n",
       "\t g          &  2.0000000 & 0.2181620 \\\\\n",
       "\\end{tabular}\n"
      ],
      "text/markdown": [
       "\n",
       "x | y | z | \n",
       "|---|---|---|---|---|---|---|---|---|---|\n",
       "| a          |  1.9063069 | 1.0000000  | \n",
       "| b          | -0.7179883 | 1.0000000  | \n",
       "| c          |  1.1650339 | 0.0000000  | \n",
       "| d          |  1.0337471 | 0.0000000  | \n",
       "| e          |  1.6187050 | 0.0000000  | \n",
       "| c          |  4.0000000 | 1.0904478  | \n",
       "| d          |  1.0000000 | 0.5601729  | \n",
       "| e          |  3.0000000 | 1.5073192  | \n",
       "| f          |  5.0000000 | 0.6840857  | \n",
       "| g          |  2.0000000 | 0.2181620  | \n",
       "\n",
       "\n"
      ],
      "text/plain": [
       "   x y          z        \n",
       "1  a  1.9063069 1.0000000\n",
       "2  b -0.7179883 1.0000000\n",
       "3  c  1.1650339 0.0000000\n",
       "4  d  1.0337471 0.0000000\n",
       "5  e  1.6187050 0.0000000\n",
       "6  c  4.0000000 1.0904478\n",
       "7  d  1.0000000 0.5601729\n",
       "8  e  3.0000000 1.5073192\n",
       "9  f  5.0000000 0.6840857\n",
       "10 g  2.0000000 0.2181620"
      ]
     },
     "metadata": {},
     "output_type": "display_data"
    }
   ],
   "source": [
    "# Data frame joining using `cbind` & `rbind`\n",
    "another_data_frame <- data.frame(\n",
    "    z = rlnorm(5),\n",
    "    y = sample(5),\n",
    "    x = letters[3:7]\n",
    ")\n",
    "rbind(a_data_frame, another_data_frame)"
   ]
  },
  {
   "cell_type": "code",
   "execution_count": 359,
   "metadata": {
    "collapsed": false
   },
   "outputs": [
    {
     "data": {
      "text/html": [
       "<table>\n",
       "<thead><tr><th scope=col>x</th><th scope=col>y</th><th scope=col>z</th><th scope=col>z</th><th scope=col>y</th><th scope=col>x</th></tr></thead>\n",
       "<tbody>\n",
       "\t<tr><td>a         </td><td> 1.9063069</td><td> TRUE     </td><td>1.0904478 </td><td>4         </td><td>c         </td></tr>\n",
       "\t<tr><td>b         </td><td>-0.7179883</td><td> TRUE     </td><td>0.5601729 </td><td>1         </td><td>d         </td></tr>\n",
       "\t<tr><td>c         </td><td> 1.1650339</td><td>FALSE     </td><td>1.5073192 </td><td>3         </td><td>e         </td></tr>\n",
       "\t<tr><td>d         </td><td> 1.0337471</td><td>FALSE     </td><td>0.6840857 </td><td>5         </td><td>f         </td></tr>\n",
       "\t<tr><td>e         </td><td> 1.6187050</td><td>FALSE     </td><td>0.2181620 </td><td>2         </td><td>g         </td></tr>\n",
       "</tbody>\n",
       "</table>\n"
      ],
      "text/latex": [
       "\\begin{tabular}{r|llllll}\n",
       " x & y & z & z & y & x\\\\\n",
       "\\hline\n",
       "\t a          &  1.9063069 &  TRUE      & 1.0904478  & 4          & c         \\\\\n",
       "\t b          & -0.7179883 &  TRUE      & 0.5601729  & 1          & d         \\\\\n",
       "\t c          &  1.1650339 & FALSE      & 1.5073192  & 3          & e         \\\\\n",
       "\t d          &  1.0337471 & FALSE      & 0.6840857  & 5          & f         \\\\\n",
       "\t e          &  1.6187050 & FALSE      & 0.2181620  & 2          & g         \\\\\n",
       "\\end{tabular}\n"
      ],
      "text/markdown": [
       "\n",
       "x | y | z | z | y | x | \n",
       "|---|---|---|---|---|\n",
       "| a          |  1.9063069 |  TRUE      | 1.0904478  | 4          | c          | \n",
       "| b          | -0.7179883 |  TRUE      | 0.5601729  | 1          | d          | \n",
       "| c          |  1.1650339 | FALSE      | 1.5073192  | 3          | e          | \n",
       "| d          |  1.0337471 | FALSE      | 0.6840857  | 5          | f          | \n",
       "| e          |  1.6187050 | FALSE      | 0.2181620  | 2          | g          | \n",
       "\n",
       "\n"
      ],
      "text/plain": [
       "  x y          z     z         y x\n",
       "1 a  1.9063069  TRUE 1.0904478 4 c\n",
       "2 b -0.7179883  TRUE 0.5601729 1 d\n",
       "3 c  1.1650339 FALSE 1.5073192 3 e\n",
       "4 d  1.0337471 FALSE 0.6840857 5 f\n",
       "5 e  1.6187050 FALSE 0.2181620 2 g"
      ]
     },
     "metadata": {},
     "output_type": "display_data"
    }
   ],
   "source": [
    "cbind(a_data_frame, another_data_frame)"
   ]
  },
  {
   "cell_type": "code",
   "execution_count": 360,
   "metadata": {
    "collapsed": false
   },
   "outputs": [
    {
     "data": {
      "text/html": [
       "<table>\n",
       "<thead><tr><th scope=col>x</th><th scope=col>y.x</th><th scope=col>z.x</th><th scope=col>z.y</th><th scope=col>y.y</th></tr></thead>\n",
       "<tbody>\n",
       "\t<tr><td>c        </td><td>1.165034 </td><td>FALSE    </td><td>1.0904478</td><td>4        </td></tr>\n",
       "\t<tr><td>d        </td><td>1.033747 </td><td>FALSE    </td><td>0.5601729</td><td>1        </td></tr>\n",
       "\t<tr><td>e        </td><td>1.618705 </td><td>FALSE    </td><td>1.5073192</td><td>3        </td></tr>\n",
       "</tbody>\n",
       "</table>\n"
      ],
      "text/latex": [
       "\\begin{tabular}{r|lllll}\n",
       " x & y.x & z.x & z.y & y.y\\\\\n",
       "\\hline\n",
       "\t c         & 1.165034  & FALSE     & 1.0904478 & 4        \\\\\n",
       "\t d         & 1.033747  & FALSE     & 0.5601729 & 1        \\\\\n",
       "\t e         & 1.618705  & FALSE     & 1.5073192 & 3        \\\\\n",
       "\\end{tabular}\n"
      ],
      "text/markdown": [
       "\n",
       "x | y.x | z.x | z.y | y.y | \n",
       "|---|---|---|\n",
       "| c         | 1.165034  | FALSE     | 1.0904478 | 4         | \n",
       "| d         | 1.033747  | FALSE     | 0.5601729 | 1         | \n",
       "| e         | 1.618705  | FALSE     | 1.5073192 | 3         | \n",
       "\n",
       "\n"
      ],
      "text/plain": [
       "  x y.x      z.x   z.y       y.y\n",
       "1 c 1.165034 FALSE 1.0904478 4  \n",
       "2 d 1.033747 FALSE 0.5601729 1  \n",
       "3 e 1.618705 FALSE 1.5073192 3  "
      ]
     },
     "metadata": {},
     "output_type": "display_data"
    }
   ],
   "source": [
    "# Merging data frames\n",
    "merge(a_data_frame, another_data_frame, by = \"x\")"
   ]
  },
  {
   "cell_type": "code",
   "execution_count": 361,
   "metadata": {
    "collapsed": false
   },
   "outputs": [
    {
     "data": {
      "text/html": [
       "<table>\n",
       "<thead><tr><th scope=col>x</th><th scope=col>y.x</th><th scope=col>z.x</th><th scope=col>z.y</th><th scope=col>y.y</th></tr></thead>\n",
       "<tbody>\n",
       "\t<tr><td>a         </td><td> 1.9063069</td><td> TRUE     </td><td>       NA </td><td>NA        </td></tr>\n",
       "\t<tr><td>b         </td><td>-0.7179883</td><td> TRUE     </td><td>       NA </td><td>NA        </td></tr>\n",
       "\t<tr><td>c         </td><td> 1.1650339</td><td>FALSE     </td><td>1.0904478 </td><td> 4        </td></tr>\n",
       "\t<tr><td>d         </td><td> 1.0337471</td><td>FALSE     </td><td>0.5601729 </td><td> 1        </td></tr>\n",
       "\t<tr><td>e         </td><td> 1.6187050</td><td>FALSE     </td><td>1.5073192 </td><td> 3        </td></tr>\n",
       "\t<tr><td>f         </td><td>        NA</td><td>   NA     </td><td>0.6840857 </td><td> 5        </td></tr>\n",
       "\t<tr><td>g         </td><td>        NA</td><td>   NA     </td><td>0.2181620 </td><td> 2        </td></tr>\n",
       "</tbody>\n",
       "</table>\n"
      ],
      "text/latex": [
       "\\begin{tabular}{r|lllll}\n",
       " x & y.x & z.x & z.y & y.y\\\\\n",
       "\\hline\n",
       "\t a          &  1.9063069 &  TRUE      &        NA  & NA        \\\\\n",
       "\t b          & -0.7179883 &  TRUE      &        NA  & NA        \\\\\n",
       "\t c          &  1.1650339 & FALSE      & 1.0904478  &  4        \\\\\n",
       "\t d          &  1.0337471 & FALSE      & 0.5601729  &  1        \\\\\n",
       "\t e          &  1.6187050 & FALSE      & 1.5073192  &  3        \\\\\n",
       "\t f          &         NA &    NA      & 0.6840857  &  5        \\\\\n",
       "\t g          &         NA &    NA      & 0.2181620  &  2        \\\\\n",
       "\\end{tabular}\n"
      ],
      "text/markdown": [
       "\n",
       "x | y.x | z.x | z.y | y.y | \n",
       "|---|---|---|---|---|---|---|\n",
       "| a          |  1.9063069 |  TRUE      |        NA  | NA         | \n",
       "| b          | -0.7179883 |  TRUE      |        NA  | NA         | \n",
       "| c          |  1.1650339 | FALSE      | 1.0904478  |  4         | \n",
       "| d          |  1.0337471 | FALSE      | 0.5601729  |  1         | \n",
       "| e          |  1.6187050 | FALSE      | 1.5073192  |  3         | \n",
       "| f          |         NA |    NA      | 0.6840857  |  5         | \n",
       "| g          |         NA |    NA      | 0.2181620  |  2         | \n",
       "\n",
       "\n"
      ],
      "text/plain": [
       "  x y.x        z.x   z.y       y.y\n",
       "1 a  1.9063069  TRUE        NA NA \n",
       "2 b -0.7179883  TRUE        NA NA \n",
       "3 c  1.1650339 FALSE 1.0904478  4 \n",
       "4 d  1.0337471 FALSE 0.5601729  1 \n",
       "5 e  1.6187050 FALSE 1.5073192  3 \n",
       "6 f         NA    NA 0.6840857  5 \n",
       "7 g         NA    NA 0.2181620  2 "
      ]
     },
     "metadata": {},
     "output_type": "display_data"
    }
   ],
   "source": [
    "merge(a_data_frame, another_data_frame, by=\"x\", all = TRUE)"
   ]
  },
  {
   "cell_type": "code",
   "execution_count": 362,
   "metadata": {
    "collapsed": false
   },
   "outputs": [
    {
     "data": {
      "text/html": [
       "<dl class=dl-horizontal>\n",
       "\t<dt>y</dt>\n",
       "\t\t<dd>5.00580456270971</dd>\n",
       "\t<dt>z</dt>\n",
       "\t\t<dd>2</dd>\n",
       "</dl>\n"
      ],
      "text/latex": [
       "\\begin{description*}\n",
       "\\item[y] 5.00580456270971\n",
       "\\item[z] 2\n",
       "\\end{description*}\n"
      ],
      "text/markdown": [
       "y\n",
       ":   5.00580456270971z\n",
       ":   2\n",
       "\n"
      ],
      "text/plain": [
       "       y        z \n",
       "5.005805 2.000000 "
      ]
     },
     "metadata": {},
     "output_type": "display_data"
    }
   ],
   "source": [
    "# Calculating mean Column/Row wise\n",
    "colSums(a_data_frame[, 2:3])"
   ]
  },
  {
   "cell_type": "code",
   "execution_count": 363,
   "metadata": {
    "collapsed": false
   },
   "outputs": [
    {
     "data": {
      "text/html": [
       "<dl class=dl-horizontal>\n",
       "\t<dt>y</dt>\n",
       "\t\t<dd>1.00116091254194</dd>\n",
       "\t<dt>z</dt>\n",
       "\t\t<dd>0.4</dd>\n",
       "</dl>\n"
      ],
      "text/latex": [
       "\\begin{description*}\n",
       "\\item[y] 1.00116091254194\n",
       "\\item[z] 0.4\n",
       "\\end{description*}\n"
      ],
      "text/markdown": [
       "y\n",
       ":   1.00116091254194z\n",
       ":   0.4\n",
       "\n"
      ],
      "text/plain": [
       "       y        z \n",
       "1.001161 0.400000 "
      ]
     },
     "metadata": {},
     "output_type": "display_data"
    }
   ],
   "source": [
    "colMeans(a_data_frame[, 2:3])"
   ]
  },
  {
   "cell_type": "markdown",
   "metadata": {},
   "source": [
    "## Chapter 6\n",
    "### Environments & Functions"
   ]
  },
  {
   "cell_type": "markdown",
   "metadata": {},
   "source": [
    "#### Environments"
   ]
  },
  {
   "cell_type": "code",
   "execution_count": 364,
   "metadata": {
    "collapsed": true
   },
   "outputs": [],
   "source": [
    "an_environment <- new.env()"
   ]
  },
  {
   "cell_type": "code",
   "execution_count": 365,
   "metadata": {
    "collapsed": true
   },
   "outputs": [],
   "source": [
    "an_environment[[\"pythag\"]] <- c(12, 15, 20, 21)\n",
    "an_environment$root <- polyroot(c(6, -5, 1))"
   ]
  },
  {
   "cell_type": "code",
   "execution_count": 366,
   "metadata": {
    "collapsed": true
   },
   "outputs": [],
   "source": [
    "assign(\n",
    "    \"moonday\",\n",
    "    weekdays(as.Date(\"1969/07/20\")),\n",
    "    an_environment\n",
    ")"
   ]
  },
  {
   "cell_type": "code",
   "execution_count": 368,
   "metadata": {
    "collapsed": false
   },
   "outputs": [
    {
     "data": {
      "text/html": [
       "<ol class=list-inline>\n",
       "\t<li>12</li>\n",
       "\t<li>15</li>\n",
       "\t<li>20</li>\n",
       "\t<li>21</li>\n",
       "</ol>\n"
      ],
      "text/latex": [
       "\\begin{enumerate*}\n",
       "\\item 12\n",
       "\\item 15\n",
       "\\item 20\n",
       "\\item 21\n",
       "\\end{enumerate*}\n"
      ],
      "text/markdown": [
       "1. 12\n",
       "2. 15\n",
       "3. 20\n",
       "4. 21\n",
       "\n",
       "\n"
      ],
      "text/plain": [
       "[1] 12 15 20 21"
      ]
     },
     "metadata": {},
     "output_type": "display_data"
    }
   ],
   "source": [
    "an_environment[[\"pythag\"]]"
   ]
  },
  {
   "cell_type": "code",
   "execution_count": 369,
   "metadata": {
    "collapsed": false
   },
   "outputs": [
    {
     "data": {
      "text/html": [
       "<ol class=list-inline>\n",
       "\t<li>2+0i</li>\n",
       "\t<li>3-0i</li>\n",
       "</ol>\n"
      ],
      "text/latex": [
       "\\begin{enumerate*}\n",
       "\\item 2+0i\n",
       "\\item 3-0i\n",
       "\\end{enumerate*}\n"
      ],
      "text/markdown": [
       "1. 2+0i\n",
       "2. 3-0i\n",
       "\n",
       "\n"
      ],
      "text/plain": [
       "[1] 2+0i 3-0i"
      ]
     },
     "metadata": {},
     "output_type": "display_data"
    }
   ],
   "source": [
    "an_environment$root"
   ]
  },
  {
   "cell_type": "code",
   "execution_count": 370,
   "metadata": {
    "collapsed": false
   },
   "outputs": [
    {
     "data": {
      "text/html": [
       "'Sunday'"
      ],
      "text/latex": [
       "'Sunday'"
      ],
      "text/markdown": [
       "'Sunday'"
      ],
      "text/plain": [
       "[1] \"Sunday\""
      ]
     },
     "metadata": {},
     "output_type": "display_data"
    }
   ],
   "source": [
    "get(\"moonday\", an_environment)"
   ]
  },
  {
   "cell_type": "code",
   "execution_count": 371,
   "metadata": {
    "collapsed": false
   },
   "outputs": [
    {
     "data": {
      "text/html": [
       "<ol class=list-inline>\n",
       "\t<li>'moonday'</li>\n",
       "\t<li>'pythag'</li>\n",
       "\t<li>'root'</li>\n",
       "</ol>\n"
      ],
      "text/latex": [
       "\\begin{enumerate*}\n",
       "\\item 'moonday'\n",
       "\\item 'pythag'\n",
       "\\item 'root'\n",
       "\\end{enumerate*}\n"
      ],
      "text/markdown": [
       "1. 'moonday'\n",
       "2. 'pythag'\n",
       "3. 'root'\n",
       "\n",
       "\n"
      ],
      "text/plain": [
       "[1] \"moonday\" \"pythag\"  \"root\"   "
      ]
     },
     "metadata": {},
     "output_type": "display_data"
    }
   ],
   "source": [
    "ls(envir = an_environment)"
   ]
  },
  {
   "cell_type": "code",
   "execution_count": 373,
   "metadata": {
    "collapsed": false
   },
   "outputs": [
    {
     "data": {
      "text/plain": [
       "moonday :  chr \"Sunday\"\n",
       "pythag :  num [1:4] 12 15 20 21\n",
       "root :  cplx [1:2] 2+0i 3-0i"
      ]
     },
     "metadata": {},
     "output_type": "display_data"
    }
   ],
   "source": [
    "ls.str(envir = an_environment)"
   ]
  },
  {
   "cell_type": "code",
   "execution_count": 374,
   "metadata": {
    "collapsed": false
   },
   "outputs": [
    {
     "data": {
      "text/html": [
       "TRUE"
      ],
      "text/latex": [
       "TRUE"
      ],
      "text/markdown": [
       "TRUE"
      ],
      "text/plain": [
       "[1] TRUE"
      ]
     },
     "metadata": {},
     "output_type": "display_data"
    }
   ],
   "source": [
    "exists(\"pythag\", an_environment)"
   ]
  },
  {
   "cell_type": "code",
   "execution_count": null,
   "metadata": {
    "collapsed": true
   },
   "outputs": [],
   "source": []
  }
 ],
 "metadata": {
  "anaconda-cloud": {},
  "kernelspec": {
   "display_name": "R",
   "language": "R",
   "name": "ir"
  },
  "language_info": {
   "codemirror_mode": "r",
   "file_extension": ".r",
   "mimetype": "text/x-r-source",
   "name": "R",
   "pygments_lexer": "r",
   "version": "3.3.2"
  }
 },
 "nbformat": 4,
 "nbformat_minor": 1
}
